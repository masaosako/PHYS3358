{
 "cells": [
  {
   "cell_type": "markdown",
   "metadata": {
    "deletable": false,
    "editable": false,
    "nbgrader": {
     "cell_type": "markdown",
     "checksum": "898b221267af2a6d1a082d231b5eee27",
     "grade": false,
     "grade_id": "cell-3a9e4ddff4ea9ef7",
     "locked": true,
     "schema_version": 3,
     "solution": false
    }
   },
   "source": [
    "**Question 1:**\n",
    "\n",
    "CODING: Students in PHYS150 were tasked to measure the local acceleration of gravity $g$ by dropping an object from height $H$, measuring the time $t$ it takes to reach the ground, and using the formula,\n",
    "\\begin{equation}\n",
    "    H = \\frac{1}{2}gt^2.\n",
    "\\end{equation}\n",
    "The datafile $\\texttt{GravityMeasurements.dat}$ contains\n",
    "  measurements of the value of $H$ in meters, its uncertainty $\\sigma_{H_i}$, time $t$ in seconds, and its uncertainty $\\sigma_{t_i}$ made independently by $N=350$ students.  The file has five columns -- (1)\n",
    "  index $i=0,...,N-1$, (2) measurement $\\{H_i\\}$, (3) its corresponding uncertainty $\\{\\sigma_{H_i}\\}$, (4) measurement $\\{t_i\\}$, and (5) its corresponding uncertainty $\\{\\sigma_{t_i}\\}$ from each student.\n",
    "  \n",
    "```\n",
    "      0   20.066  1.120   2.092  0.084\n",
    "      1   20.363  0.389   2.023  0.050\n",
    "      2   21.498  0.706   1.939  0.115\n",
    "      3   19.709  0.791   1.963  0.118\n",
    "      4   21.192  1.225   2.132  0.097\n",
    "      5   16.631  1.479   1.877  0.112\n",
    "      ...\n",
    "```\n",
    "\n",
    " \n",
    "\n",
    "(a) (1 pt) Calculate the values of acceleration of gravity $\\{g_i\\}$.\n",
    "\n",
    "(b) (2 pts) Calculate the corresponding uncertainties $\\{\\sigma_{g_i}\\}$ using the proper error propagation formulae.\n",
    "    \n",
    "(c) (2 pts) In this part and the next one, ignore the uncertainties\n",
    "    $\\{\\sigma_{g_i}\\}$, but rather estimate it directly from the measurements by\n",
    "    computing the standard deviation of $\\{g_i\\}$.  What is the best estimate of\n",
    "    this value $\\tilde{\\sigma}_g$?\n",
    "    \n",
    "(d) (2 pts) Using this value of $\\tilde{\\sigma}_g$, calculate the maximum-likelihood\n",
    "    estimate (MLE) of the mean of $\\{g_i\\}$ and the uncertainty in the mean from the\n",
    "    measurements.\n",
    "\n",
    "(e) (2 pts) Now compute the inverse-variance weighted MLE of the mean of $\\{g_i\\}$ using\n",
    "    the actual uncertainty $\\{\\sigma_{g_i}\\}$ on each measurement.  Also compute the\n",
    "    uncertainty in the mean to show that it is smaller than the value\n",
    "    $\\tilde{\\sigma}_g$ estimated in (a)."
   ]
  },
  {
   "cell_type": "code",
   "execution_count": null,
   "metadata": {
    "deletable": false,
    "nbgrader": {
     "cell_type": "code",
     "checksum": "c47bcc16de5d3b9279db80ec707bbef4",
     "grade": false,
     "grade_id": "cell-82f1cde365455dd7",
     "locked": false,
     "schema_version": 3,
     "solution": true
    }
   },
   "outputs": [],
   "source": [
    "# Problem 1a\n",
    "def calculate_g(data):\n",
    "    \"\"\"Given measurements of H and t, calculate the inferred gravitational acceleration constant, g.\n",
    "    \n",
    "    The input height (H) and time (t) are given as data['H'] and data['t'].\n",
    "    \n",
    "    Returns an array with the corresponding g values.\n",
    "    \"\"\"\n",
    "    # YOUR CODE HERE\n",
    "    raise NotImplementedError()"
   ]
  },
  {
   "cell_type": "code",
   "execution_count": null,
   "metadata": {
    "deletable": false,
    "editable": false,
    "nbgrader": {
     "cell_type": "code",
     "checksum": "31761d4674e65f5799a93c44a9726e93",
     "grade": true,
     "grade_id": "cell-043a2d6b31c61158",
     "locked": true,
     "points": 1,
     "schema_version": 3,
     "solution": false
    }
   },
   "outputs": [],
   "source": [
    "import numpy as np\n",
    "\n",
    "data = np.genfromtxt('GravityMeasurements.dat', names=['ID','H','sigma_H','t','sigma_t'])\n",
    "\n",
    "print('The first few rows are:')\n",
    "for i in range(6):\n",
    "    print(data[i])\n",
    "print()\n",
    "\n",
    "g = calculate_g(data)\n",
    "\n",
    "print('The first few g values are: ',g[:5])\n",
    "print('The lowest estimate is ',np.min(g))\n",
    "print('The highest estimate is ',np.max(g))\n",
    "print('The mean estimate is ',np.mean(g))\n",
    "\n",
    "# None of the students had measurements that were more than 30% off.\n",
    "assert np.allclose(g, 9.8, rtol=0.3)"
   ]
  },
  {
   "cell_type": "code",
   "execution_count": null,
   "metadata": {
    "deletable": false,
    "nbgrader": {
     "cell_type": "code",
     "checksum": "65f85f30a12457a4a2065d280bc7d744",
     "grade": false,
     "grade_id": "cell-56f97e29281a3a3e",
     "locked": false,
     "schema_version": 3,
     "solution": true
    }
   },
   "outputs": [],
   "source": [
    "# Problem 1b\n",
    "def propagate_sigma_g(data):\n",
    "    \"\"\"Calculate the uncertainties in the g measurement based on the reported uncertainties in H and t.\n",
    "    \n",
    "    The input height (H) and time (t) are given as data['H'] and data['t'].\n",
    "    Their respective estimated uncertainties are data['sigma_H'] and data['sigma_t'].\n",
    "    \n",
    "    Returns an array with the corresponding sigma_g values.\n",
    "    \"\"\"\n",
    "    # YOUR CODE HERE\n",
    "    raise NotImplementedError()"
   ]
  },
  {
   "cell_type": "code",
   "execution_count": null,
   "metadata": {
    "deletable": false,
    "editable": false,
    "nbgrader": {
     "cell_type": "code",
     "checksum": "0b3f9cc5925c1e7350a28d82de8a016d",
     "grade": true,
     "grade_id": "cell-a7eaa70c36850c7e",
     "locked": true,
     "points": 2,
     "schema_version": 3,
     "solution": false
    }
   },
   "outputs": [],
   "source": [
    "sigma_g = propagate_sigma_g(data)\n",
    "\n",
    "print('The first few calculated uncertainties are: ',sigma_g[:10])\n",
    "print('The range of sigma_g values is ',np.min(sigma_g),np.max(sigma_g))\n",
    "\n",
    "# The \"pull\" is sometimes a useful quantity to look at.\n",
    "# It is the difference of each measurement from the mean (or expected value) divided by sigma.\n",
    "# For Gaussian errors, you should expect around 68% of values to have pull between -1 and 1.\n",
    "# If this isn't the case, it could mean your errors are poorly estimated, or the distribution is not\n",
    "# Gaussian, or both.\n",
    "\n",
    "pull = (g-np.mean(g)) / sigma_g\n",
    "print('The first few pulls are: ',pull[:5])\n",
    "frac_lt_1 = np.sum(np.abs(pull) < 1) / len(pull)\n",
    "print(f'The fraction of points with |pull| < 1 = {frac_lt_1:0.3f}')"
   ]
  },
  {
   "cell_type": "code",
   "execution_count": null,
   "metadata": {
    "deletable": false,
    "nbgrader": {
     "cell_type": "code",
     "checksum": "e2698ee0095e31ada865d48d4804a0cf",
     "grade": false,
     "grade_id": "cell-170abf58c9232300",
     "locked": false,
     "schema_version": 3,
     "solution": true
    }
   },
   "outputs": [],
   "source": [
    "# Problem 1c\n",
    "def estimate_unweighted_sigma_g(data):\n",
    "    \"\"\"Estimate an overall estimate of the uncertainties in the g values based on the empirical\n",
    "    standard deviation.\n",
    "    \n",
    "    This estimate ignores the students' own estimates of the uncertainties on H and t, and instead\n",
    "    just uses their calculated g values.\n",
    "    \n",
    "    Returns a single (not array) value sigma_g.\n",
    "    \"\"\"\n",
    "    # Hints: 1. Use your calculate_g function to get the array of g values.\n",
    "    #        2. Feel free to use appropriate numpy or scipy functions.\n",
    "    \n",
    "    # YOUR CODE HERE\n",
    "    raise NotImplementedError()"
   ]
  },
  {
   "cell_type": "code",
   "execution_count": null,
   "metadata": {
    "deletable": false,
    "editable": false,
    "nbgrader": {
     "cell_type": "code",
     "checksum": "cfc249a69fb43d63345e367d4486a01e",
     "grade": true,
     "grade_id": "cell-5e7ecbfe564cab6a",
     "locked": true,
     "points": 2,
     "schema_version": 3,
     "solution": false
    }
   },
   "outputs": [],
   "source": [
    "unweighted_sigma_g = estimate_unweighted_sigma_g(data)\n",
    "\n",
    "print(f'The estimated unweighted sigma_g is {unweighted_sigma_g:.4f}')\n",
    "print(f'Compare this to the mean propagated sigma_g: {np.mean(sigma_g):.4f}')"
   ]
  },
  {
   "cell_type": "code",
   "execution_count": null,
   "metadata": {
    "deletable": false,
    "nbgrader": {
     "cell_type": "code",
     "checksum": "1c5987ce303aa3d85254ba42d6eeeca6",
     "grade": false,
     "grade_id": "cell-bea43726cc09b24d",
     "locked": false,
     "schema_version": 3,
     "solution": true
    }
   },
   "outputs": [],
   "source": [
    "# Problem 1d\n",
    "def calculate_unweighted_mle_meang(data):\n",
    "    \"\"\"Estimate the unweighted maximum-likelihood estimate of <g> and its uncertainty.\n",
    "    \n",
    "    This estimate ignores the students' own estimates of the uncertainties on H and t.\n",
    "    \n",
    "    Returns a tuple of two values: <g>, sigma_<g>\n",
    "    \"\"\"\n",
    "    # Hints: 1. Use calculate_g to get the array of g values.\n",
    "    #        2. Use estimate_unweighted_sigma_g for sigma_g.\n",
    "    #        3. Feel free to use appropriate numpy or scipy functions.\n",
    "    \n",
    "    # YOUR CODE HERE\n",
    "    raise NotImplementedError()"
   ]
  },
  {
   "cell_type": "code",
   "execution_count": null,
   "metadata": {
    "deletable": false,
    "editable": false,
    "nbgrader": {
     "cell_type": "code",
     "checksum": "eee6d1dfefa4706d9c91bcd5910fce16",
     "grade": true,
     "grade_id": "cell-a78b55d1a88424d9",
     "locked": true,
     "points": 2,
     "schema_version": 3,
     "solution": false
    }
   },
   "outputs": [],
   "source": [
    "meang, sigma_meang = calculate_unweighted_mle_meang(data)\n",
    "\n",
    "print('Using unweighted maximum likelihood,')\n",
    "print(f'the mean estimate of g is {meang:0.4f} +- {sigma_meang:0.4f}')"
   ]
  },
  {
   "cell_type": "code",
   "execution_count": null,
   "metadata": {
    "deletable": false,
    "nbgrader": {
     "cell_type": "code",
     "checksum": "bdb6a58d7926e5b2e3204a7de0818280",
     "grade": false,
     "grade_id": "cell-1c8345aa8fc79703",
     "locked": false,
     "schema_version": 3,
     "solution": true
    }
   },
   "outputs": [],
   "source": [
    "# Problem 1e\n",
    "def calculate_weighted_mle_meang(data):\n",
    "    \"\"\"Estimate the inverse-variance weighted maximum-likelihood estimate of <g> and its uncertainty.\n",
    "    \n",
    "    This estimate uses the students' own estimates of the uncertainties on H and t to propagate\n",
    "    into a separate estimate of sigma_g for each data point.\n",
    "    \n",
    "    Returns a tuple of two values: <g>, sigma_<g>\n",
    "    \"\"\"\n",
    "    # Hints: 1. Use calculate_g to get the array of g values.\n",
    "    #        2. Use propagate_sigma_g for sigma_g.\n",
    "    #        3. Feel free to use appropriate numpy or scipy functions.\n",
    "    \n",
    "    # YOUR CODE HERE\n",
    "    raise NotImplementedError()"
   ]
  },
  {
   "cell_type": "code",
   "execution_count": null,
   "metadata": {
    "deletable": false,
    "editable": false,
    "nbgrader": {
     "cell_type": "code",
     "checksum": "4527afca5e1e92222a45badfdc568747",
     "grade": true,
     "grade_id": "cell-c4ec5ce4734450e2",
     "locked": true,
     "points": 2,
     "schema_version": 3,
     "solution": false
    }
   },
   "outputs": [],
   "source": [
    "meang, sigma_meang = calculate_weighted_mle_meang(data)\n",
    "\n",
    "print('Using weighted maximum likelihood,')\n",
    "print(f'The mean estimate of g is {meang:0.4f} +- {sigma_meang:0.4f}')\n"
   ]
  },
  {
   "cell_type": "markdown",
   "metadata": {
    "deletable": false,
    "editable": false,
    "nbgrader": {
     "cell_type": "markdown",
     "checksum": "1fc464d918b5dbb239a598918f777099",
     "grade": false,
     "grade_id": "cell-3e3524085971a395",
     "locked": true,
     "schema_version": 3,
     "solution": false
    }
   },
   "source": [
    "**Question 2:**\n",
    "\n",
    "CODING: Using the same dataset as above:\n",
    "\n",
    "(a) (3 pts) Calculate the $\\chi^2$ value defined as:\n",
    "\n",
    "\\begin{equation}\n",
    "      \\chi^2 = \\sum_{i=0}^{N-1} \\left( \\frac{g_i - \\mu^\\prime}{\\sigma_{g_i}} \\right)^2\n",
    "\\end{equation}\n",
    "    \n",
    "where $\\mu^\\prime$ is the inverse-variance weighted MLE of the mean of $\\{g_i\\}$\n",
    "from 1(c).\n",
    "     \n",
    "(b) (4 pts) Now calculate the $\\chi^2$ value as a function of $\\mu^\\prime$ from\n",
    "     $\\mu^\\prime = 9.6$ to 10.0 in steps of 0.001 and show that the value of\n",
    "     $\\mu^\\prime$ that minimizes the $\\chi^2$ is indeed given by the answer from 1(c).\n",
    "     \n",
    "(c) (4 pts) Finally, determine the lower and upper values of $\\mu^\\prime$ at which the\n",
    "     $\\chi^2$ is larger than the minimum value by 1.00.  \n",
    "     (NOTE: These values should match the $\\pm 1\\sigma$ range from\n",
    "     the MLE in part 1(e) and is another way to perform parameter estimation using the\n",
    "     $\\chi^2$ statistic.)\n",
    "     \n",
    "(d) **EXTRA CREDIT**: (2 pts) Make a single plot that shows all of these facts with appropriate labels to show the important features.\n",
    "     "
   ]
  },
  {
   "cell_type": "code",
   "execution_count": null,
   "metadata": {
    "deletable": false,
    "nbgrader": {
     "cell_type": "code",
     "checksum": "f1c683ef5ba58500129ffe1907fdde63",
     "grade": false,
     "grade_id": "cell-1271569e81dd4c09",
     "locked": false,
     "schema_version": 3,
     "solution": true
    }
   },
   "outputs": [],
   "source": [
    "# Problem 2a\n",
    "def calculate_mle_chisq(data):\n",
    "    \"\"\"Calculate chisq for the inverse-variance weighted MLE estimate of mu'.\n",
    "    \n",
    "    The sigma_g values are based on the students' estimated uncertainties sigma_H and sigma_t.\n",
    "    \n",
    "    Returns chisq\n",
    "    \"\"\"\n",
    "    # Hints: 1. Use calculate_g to get the array of g values.\n",
    "    #        2. Use propagate_sigma_g for sigma_g.\n",
    "    #        3. Use calculate_weighted_mle_meang to get mu'.\n",
    "\n",
    "    # YOUR CODE HERE\n",
    "    raise NotImplementedError()"
   ]
  },
  {
   "cell_type": "code",
   "execution_count": null,
   "metadata": {
    "deletable": false,
    "editable": false,
    "nbgrader": {
     "cell_type": "code",
     "checksum": "0a8b70704fb0c19e659e6b98498f21d0",
     "grade": true,
     "grade_id": "cell-3aa2c1ae4df5699d",
     "locked": true,
     "points": 3,
     "schema_version": 3,
     "solution": false
    }
   },
   "outputs": [],
   "source": [
    "chisq = calculate_mle_chisq(data)\n",
    "\n",
    "print(f'The chisq estimate for the MLE estimate of <g> is {chisq:.2f}')\n",
    "print('This should be roughly comparable to the number of data points: ',len(data))\n"
   ]
  },
  {
   "cell_type": "code",
   "execution_count": null,
   "metadata": {
    "deletable": false,
    "nbgrader": {
     "cell_type": "code",
     "checksum": "b8a12cdf15e1f813ec29b0212230b5dd",
     "grade": false,
     "grade_id": "cell-2455b279544891cc",
     "locked": false,
     "schema_version": 3,
     "solution": true
    }
   },
   "outputs": [],
   "source": [
    "# Problem 2b\n",
    "def calculate_chisq_range(data, min_mu, max_mu):\n",
    "    \"\"\"Calculate chisq over a range of mu values from min_mu to max_mu in steps of 0.001\n",
    "    \n",
    "    This function will generate an array of mu values over the given range.\n",
    "    For each value of mu, it will calculate the corresponding chisq value.\n",
    "\n",
    "    The sigma_g values are based on the students' estimated uncertainties sigma_H and sigma_t.\n",
    "\n",
    "    Note: The output mu values should be monotonically increasing.\n",
    "    \n",
    "    Returns mu_array, chisq_array as arrays of equal length.\n",
    "    \"\"\"\n",
    "    # Hints: 1. Use calculate_g to get the array of g values.\n",
    "    #        2. Use propagate_sigma_g for sigma_g.\n",
    "    \n",
    "    # YOUR CODE HERE\n",
    "    raise NotImplementedError()\n",
    "    \n",
    "def find_minimum_chisq(mu_array, chisq_array):\n",
    "    \"\"\"Find the minimum chisq and its corresponding mu, given arrays of each.\n",
    "    \n",
    "    Returns mu_minimum, chisq_minimum\n",
    "    \"\"\"\n",
    "    # Hint: np.min(chisq_array) will return the value of the minimum.  There is another\n",
    "    #       numpy function that will instead give you the index of the minimum, which \n",
    "    #       will let you access the corresponding element from mu_array.\n",
    "    \n",
    "    # YOUR CODE HERE\n",
    "    raise NotImplementedError()"
   ]
  },
  {
   "cell_type": "code",
   "execution_count": null,
   "metadata": {
    "deletable": false,
    "editable": false,
    "nbgrader": {
     "cell_type": "code",
     "checksum": "5dc0140dbabe1eeccfb775ed192f40a4",
     "grade": true,
     "grade_id": "cell-a0eb33676e14875d",
     "locked": true,
     "points": 4,
     "schema_version": 3,
     "solution": false
    }
   },
   "outputs": [],
   "source": [
    "mu_array, chisq_array = calculate_chisq_range(data, 9.6, 10.0)\n",
    "mu_minimum, chisq_minimum = find_minimum_chisq(mu_array, chisq_array)\n",
    "\n",
    "print(f'The minimum chisq in steps of 0.001 is {chisq_minimum:.4f}')\n",
    "print(f'mu at the minimum is {mu_minimum:.3f}')\n",
    "assert chisq_minimum == np.min(chisq_array)\n",
    "\n",
    "# Do this again for comparison.\n",
    "chisq_mle = calculate_mle_chisq(data)\n",
    "\n",
    "print('\\nFor comparison:')\n",
    "print(f'chisq at the MLE solution is {chisq_mle:.3f}')\n",
    "print(f'The MLE estimate of mu is {calculate_weighted_mle_meang(data)[0]:.3f}')\n",
    "assert np.isclose(chisq_minimum, chisq_mle, rtol=1.e-3)"
   ]
  },
  {
   "cell_type": "code",
   "execution_count": null,
   "metadata": {
    "deletable": false,
    "nbgrader": {
     "cell_type": "code",
     "checksum": "57e6a135b7dc1490b59402e09ed250f6",
     "grade": false,
     "grade_id": "cell-5378b5e5ba3dbabd",
     "locked": false,
     "schema_version": 3,
     "solution": true
    }
   },
   "outputs": [],
   "source": [
    "# Problem 2c:\n",
    "def find_one_sigma_range(mu_array, chisq_array):\n",
    "    \"\"\"Find a range of mu values where chisq < min_chisq + 1.0, given arrays of mu and chisq.\n",
    "    \n",
    "    Note: the input values in mu_array may be assumed to be monotonically increasing.\n",
    "    \n",
    "    Returns min_mu, max_mu.\n",
    "    \"\"\"\n",
    "    # YOUR CODE HERE\n",
    "    raise NotImplementedError()"
   ]
  },
  {
   "cell_type": "code",
   "execution_count": null,
   "metadata": {
    "deletable": false,
    "editable": false,
    "nbgrader": {
     "cell_type": "code",
     "checksum": "18401a3a8bb8abfdbb83c49895d1a7fb",
     "grade": true,
     "grade_id": "cell-29bbcec283878d3e",
     "locked": true,
     "points": 4,
     "schema_version": 3,
     "solution": false
    }
   },
   "outputs": [],
   "source": [
    "min_mu, max_mu = find_one_sigma_range(mu_array, chisq_array)\n",
    "print(f'Range where chiq < ({chisq_minimum:.2f} + 1) is {min_mu:.3f} < mu < {max_mu:.3f}')\n",
    "\n",
    "print('\\nFor comparison with 1(e):')\n",
    "meang, sigma_meang = calculate_weighted_mle_meang(data)\n",
    "print(f'The MLE estimate would predict {meang-sigma_meang:.3f} < mu < {meang+sigma_meang:.3f}')"
   ]
  },
  {
   "cell_type": "code",
   "execution_count": null,
   "metadata": {
    "deletable": false,
    "nbgrader": {
     "cell_type": "code",
     "checksum": "f60c61c3fa8b340eec4b098b9c46b4cf",
     "grade": true,
     "grade_id": "cell-e479f304d9a0635a",
     "locked": false,
     "points": 2,
     "schema_version": 3,
     "solution": true
    }
   },
   "outputs": [],
   "source": [
    "# Problem 2d (EXTRA CREDIT)\n",
    "\n",
    "# YOUR CODE HERE\n",
    "raise NotImplementedError()"
   ]
  },
  {
   "cell_type": "code",
   "execution_count": null,
   "metadata": {},
   "outputs": [],
   "source": []
  }
 ],
 "metadata": {
  "kernelspec": {
   "display_name": "Python 3 (ipykernel)",
   "language": "python",
   "name": "python3"
  },
  "language_info": {
   "codemirror_mode": {
    "name": "ipython",
    "version": 3
   },
   "file_extension": ".py",
   "mimetype": "text/x-python",
   "name": "python",
   "nbconvert_exporter": "python",
   "pygments_lexer": "ipython3",
   "version": "3.10.6"
  }
 },
 "nbformat": 4,
 "nbformat_minor": 4
}
