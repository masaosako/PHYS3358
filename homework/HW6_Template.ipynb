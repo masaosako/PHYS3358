{
 "cells": [
  {
   "cell_type": "markdown",
   "metadata": {
    "deletable": false,
    "editable": false,
    "nbgrader": {
     "cell_type": "markdown",
     "checksum": "6a2d5e6e0c98a9dcee09513dc02de16e",
     "grade": false,
     "grade_id": "cell-5a92e7977e66185d",
     "locked": true,
     "schema_version": 3,
     "solution": false
    }
   },
   "source": [
    "As you will see, we are introducing `pandas` in this assignment.  Pay close attention to the hints.  You can also use `numpy`, `scipy`, and `matplotlib`, but do not use any fitting packages such as `scipy.optimize.curve_fit` to solve for the parameters and uncertainties.  As the fitting functions are linear, the solutions can be obtained entirely with `numpy`'s linear algebra operations.\n",
    "\n",
    "---\n",
    "\n",
    "**Question 1**\n",
    "\n",
    "**CODING:** (3 pts) The file `SunspotNumber.dat` contains data on the number of sunspots observed each day since January 1, 1818 through September 30, 2020.  Columns are 1) year, 2) month, 3) day, and 4) number of sunspots observed (`-1` indicates that no data were taken on that day -- i.e., the data is missing).\n",
    "\n",
    "```\n",
    "...\n",
    "1819 03 21    0\n",
    "1819 03 22   30\n",
    "1819 03 23   20\n",
    "1819 03 24   -1\n",
    "1819 03 25   -1\n",
    "1819 03 26   17\n",
    "...\n",
    "```\n",
    "\n",
    "(a) Calculate the monthly mean of the sunspot number. Ignore uncertainties. The output should be a pandas Series indexed by (year, month) with the mean number of sunspots in each month.\n",
    "\n",
    "(b) Repeat part (a) for the yearly mean.  This will be used in the next problem."
   ]
  },
  {
   "cell_type": "code",
   "execution_count": null,
   "metadata": {
    "deletable": false,
    "editable": false,
    "nbgrader": {
     "cell_type": "code",
     "checksum": "2c1d6b2b8e224bb30e0fdfc4ba479969",
     "grade": false,
     "grade_id": "cell-6542d3694b2a9bf2",
     "locked": true,
     "schema_version": 3,
     "solution": false
    }
   },
   "outputs": [],
   "source": [
    "import pandas as pd\n",
    "\n",
    "sun_df = pd.read_csv('SunspotNumber.dat', \n",
    "                     names=['year', 'month', 'day', 'sunspots'],  # Give the names of the columns\n",
    "                     delim_whitespace=True,  # The default is to use ',' as the delimiter. \n",
    "                     na_values=-1,  # Tell pandas that -1 means No Data.\n",
    "                    )\n",
    "sun_df.describe()"
   ]
  },
  {
   "cell_type": "code",
   "execution_count": null,
   "metadata": {
    "deletable": false,
    "nbgrader": {
     "cell_type": "code",
     "checksum": "356b12e74f9cdec2e94cdcc11afa1e00",
     "grade": false,
     "grade_id": "cell-d74f9b41ff3251f1",
     "locked": false,
     "schema_version": 3,
     "solution": true
    }
   },
   "outputs": [],
   "source": [
    "# Question 1a\n",
    "def mean_sunspots_by_month(df):\n",
    "    \"\"\"\n",
    "    Calculate the mean number of sunspots observed in each month.\n",
    "\n",
    "    The input pandas data frame include columns named 'year', 'month', 'day', and 'sunspots'.\n",
    "    \n",
    "    Rows where the number of sunspots is NaN should be ignored when taking the average.\n",
    "    \n",
    "    Returns a pandas Series indexed by (year, month) with the mean number of sunspots in each month.\n",
    "    \"\"\"\n",
    "    # Hints: \n",
    "    # 1. Use the groupby method to group the rows by year and month values.\n",
    "    # 2. Select the 'sunspots' column from this structure.\n",
    "    # 3. Then the mean method will compute the mean in each group.\n",
    "    \n",
    "    # YOUR CODE HERE\n",
    "    raise NotImplementedError()\n",
    "\n",
    "# Question 1b\n",
    "def mean_sunspots_by_year(df):\n",
    "    \"\"\"\n",
    "    Calculate the mean number of sunspots observed in each year.\n",
    "\n",
    "    The input pandas data frame include columns named 'year', 'month', 'day', and 'sunspots'.\n",
    "    \n",
    "    Rows where the number of sunspots is NaN should be ignored when taking the average.\n",
    "    \n",
    "    Returns a pandas Series indexed by (year) with the mean number of sunspots in each year.\n",
    "    \"\"\"\n",
    "    # Hint: Same as above, but grouped by year only.\n",
    "    \n",
    "    # YOUR CODE HERE\n",
    "    raise NotImplementedError()\n",
    "    "
   ]
  },
  {
   "cell_type": "code",
   "execution_count": null,
   "metadata": {
    "deletable": false,
    "editable": false,
    "nbgrader": {
     "cell_type": "code",
     "checksum": "a94bd74d99462bbe86f2657c327e3402",
     "grade": true,
     "grade_id": "cell-26a4e5c807783b2c",
     "locked": true,
     "points": 3,
     "schema_version": 3,
     "solution": false
    }
   },
   "outputs": [],
   "source": [
    "import numpy as np\n",
    "\n",
    "sunspots_by_month = mean_sunspots_by_month(sun_df)\n",
    "print('Sunspots by month:\\n')\n",
    "print(sunspots_by_month,'\\n')\n",
    "print(sunspots_by_month.describe())\n",
    "\n",
    "sunspots_by_year = mean_sunspots_by_year(sun_df)\n",
    "print('\\n\\nSunspots by year:\\n')\n",
    "print(sunspots_by_year,'\\n')\n",
    "print(sunspots_by_year.describe())\n",
    "\n",
    "# Some sanity checks\n",
    "assert len(sunspots_by_year) == len(np.unique(sun_df['year']))\n",
    "assert np.all(sunspots_by_year.index == np.unique(sun_df['year']))\n",
    "assert sunspots_by_year.index[0] == np.min(sun_df['year'])\n",
    "assert sunspots_by_year.index[-1] == np.max(sun_df['year'])\n",
    "\n",
    "assert np.ceil(len(sunspots_by_month) / 12) == len(sunspots_by_year)\n",
    "assert sunspots_by_month.index[-1] == (2020, 9)\n"
   ]
  },
  {
   "cell_type": "markdown",
   "metadata": {
    "deletable": false,
    "editable": false,
    "nbgrader": {
     "cell_type": "markdown",
     "checksum": "c196438cd6fc119744dcad540f70118e",
     "grade": false,
     "grade_id": "cell-ee2e6ffca1b2b6d5",
     "locked": true,
     "schema_version": 3,
     "solution": false
    }
   },
   "source": [
    "---\n",
    "\n",
    "**Question 2**\n",
    "\n",
    "The file `SatelliteReentry.dat` contains the number of satellites in low-Earth orbits that reentered and burned in the Earth's atmosphere from 1969 to 2004.\n",
    "\n",
    "```\n",
    "1969   26\n",
    "1970   25\n",
    "1971   19\n",
    "1972   12\n",
    "1973   14\n",
    "1974   21\n",
    "...\n",
    "```\n",
    "\n",
    "The goal of this problem is to see if there is a relation between solar activity (using sunspot number as a proxy) and the number of satellites that reenter the atmosphere.  We will model the relation with a straight line given by:\n",
    "\n",
    "\\begin{equation}\n",
    "  N_{\\text{reentry}} = a + b N_{\\text{sunspot}}\n",
    "\\end{equation}\n",
    "\n",
    "where $a$ and $b$ are the fitting parameters.\n",
    "\n",
    "\n",
    "a) (3 pts) Taking the gaussian standard deviation of $N_i$ to be $\\sqrt{N_i}$, determine the maximum likelihood estimate of $a$ and $b$.\n",
    "    \n",
    "b) (3 pts) Determine their standard deviations $\\sigma_a$ and $\\sigma_b$, and their covariance $\\sigma_{ab}$.\n",
    "    \n",
    "c) (1 pt) Plot the data with uncertainties and the best-fit model superimposed.  Make the plot look nice - i.e., label axes, use legible markers, colors, etc.\n",
    "    \n",
    "d) (2 pts) Calculate the $\\chi^2$ values on a grid of $a$ and $b$ and use the matplotlib `contour` function to plot the contours of constant $\\chi^2$ values for $\\chi^2 = \\chi^2_{\\mathrm{min}} + 2.30, 6.17,$ and $11.8$.  Make sure your grid and contour plot is large enough to show all three contour levels."
   ]
  },
  {
   "cell_type": "code",
   "execution_count": null,
   "metadata": {
    "deletable": false,
    "editable": false,
    "nbgrader": {
     "cell_type": "code",
     "checksum": "6cbc22b132020607e6efc0955e8d53a6",
     "grade": false,
     "grade_id": "cell-da8cb2a9e6594402",
     "locked": true,
     "schema_version": 3,
     "solution": false
    }
   },
   "outputs": [],
   "source": [
    "sat_df = pd.read_csv('SatelliteReentry.dat',\n",
    "                     names=['year', 'reentries'],  # Give the names of the columns\n",
    "                     delim_whitespace=True,  # The default is to use ',' as the delimiter. \n",
    "                    )\n",
    "sat_df.describe()"
   ]
  },
  {
   "cell_type": "code",
   "execution_count": null,
   "metadata": {
    "deletable": false,
    "nbgrader": {
     "cell_type": "code",
     "checksum": "6bf9fa5fad00d98c9aa6a63e62196ba2",
     "grade": false,
     "grade_id": "cell-ee34684abe2e21be",
     "locked": false,
     "schema_version": 3,
     "solution": true
    }
   },
   "outputs": [],
   "source": [
    "# Question 2a\n",
    "def fit_reentries_vs_sunspots(n_sunspots, n_reentries):\n",
    "    \"\"\"\n",
    "    Fit a linear regression to the relation\n",
    "    \n",
    "        n_reentries = a + b n_sunspots\n",
    "        \n",
    "    The inputs are pandas Series instances, indexed by year.  However, they don't (necessarily) have the\n",
    "    same years, so this function will only consider the subset of years common to both series.\n",
    "    \n",
    "    The uncertainty in the number of reentries is taken to be sigma_N = sqrt(N).\n",
    "    \n",
    "    Returns a, b\n",
    "    \"\"\"\n",
    "    # Hints: \n",
    "    # 1. You can do math with pandas series just like numpy arrays.  \n",
    "    #    They can also be used as arguments to (most) numpy functions where an array could be used.  \n",
    "    #    So you can write x**2, x*y, np.sum(x), etc.\n",
    "    # 2. Make sure to use just the subset of years where you have both kinds of data.\n",
    "    #    e.g. with the pandas Index.intersection method.\n",
    "    # 3. For the MLE solution, you need to code this up yourself.  Don't use a canned fitting function from\n",
    "    #    scipy, scikit-learn, or other similar package.\n",
    "\n",
    "    # YOUR CODE HERE\n",
    "    raise NotImplementedError()"
   ]
  },
  {
   "cell_type": "code",
   "execution_count": null,
   "metadata": {
    "deletable": false,
    "editable": false,
    "nbgrader": {
     "cell_type": "code",
     "checksum": "79582675b787c56f9cba9054cb1cf25c",
     "grade": true,
     "grade_id": "cell-3a1eb4e0f7ecae2a",
     "locked": true,
     "points": 3,
     "schema_version": 3,
     "solution": false
    }
   },
   "outputs": [],
   "source": [
    "n_sunspots = mean_sunspots_by_year(sun_df)\n",
    "n_reentries = sat_df.set_index('year')['reentries']\n",
    "\n",
    "a, b = fit_reentries_vs_sunspots(n_sunspots, n_reentries)\n",
    "\n",
    "print(\"Best fit solution is Nr = a + b Ns = {:.3f} + {:.3f} Ns\".format(a,b))\n"
   ]
  },
  {
   "cell_type": "code",
   "execution_count": null,
   "metadata": {
    "deletable": false,
    "nbgrader": {
     "cell_type": "code",
     "checksum": "592e16e646999eb17c1bcb0f6062e253",
     "grade": false,
     "grade_id": "cell-4ce01f76da00b16c",
     "locked": false,
     "schema_version": 3,
     "solution": true
    }
   },
   "outputs": [],
   "source": [
    "# Question 2b\n",
    "def calculate_cov(n_sunspots, n_reentries):\n",
    "    \"\"\"Calculate the covariance matrix of (a,b), the linear fit to\n",
    "    \n",
    "        n_reentries = a + b n_sunspots\n",
    "    \n",
    "    Returns 2D numpy array [[ sigma_a^2  sigma_ab  ]\n",
    "                            [ sigma_ab   sigma_b^2 ]]\n",
    "    \"\"\"\n",
    "    # Note: Again, code this up yourself.  Don't use a canned fitting function from\n",
    "    #       scipy, scikit-learn, or other similar package.\n",
    "    \n",
    "    # YOUR CODE HERE\n",
    "    raise NotImplementedError()"
   ]
  },
  {
   "cell_type": "code",
   "execution_count": null,
   "metadata": {
    "deletable": false,
    "editable": false,
    "nbgrader": {
     "cell_type": "code",
     "checksum": "a8c8d339ca3f3cee343bc1fc2e0f77c5",
     "grade": true,
     "grade_id": "cell-4470945549496a11",
     "locked": true,
     "points": 3,
     "schema_version": 3,
     "solution": false
    }
   },
   "outputs": [],
   "source": [
    "cov = calculate_cov(n_sunspots, n_reentries)\n",
    "print(\"a = {:.3f} +- {:.3f}\".format(a, np.sqrt(cov[0,0])))\n",
    "print(\"b = {:.3f} +- {:.3f}\".format(b, np.sqrt(cov[1,1])))\n",
    "print(\"Covariance of (a,b) = {:.3f}\".format(cov[0,1]))\n"
   ]
  },
  {
   "cell_type": "code",
   "execution_count": null,
   "metadata": {
    "deletable": false,
    "nbgrader": {
     "cell_type": "code",
     "checksum": "a14bc542eb193cecf34dbb4f297b0e46",
     "grade": true,
     "grade_id": "cell-675f325c374d120f",
     "locked": false,
     "points": 1,
     "schema_version": 3,
     "solution": true
    }
   },
   "outputs": [],
   "source": [
    "import matplotlib\n",
    "import matplotlib.pyplot as plt\n",
    "%matplotlib inline\n",
    "\n",
    "# Question 2c\n",
    "def plot_linear_fit(ax, n_sunspots, n_reentries, a, b, cov):\n",
    "    \"\"\"Plot the linear fit n_reentries = a + b n_sunspots on the given matplotlib axis.\n",
    "    \"\"\"\n",
    "    # Hints:\n",
    "    # 1. Plot all the points (n_sunspots, n_reentries) with error bars for n_reentries\n",
    "    #    based on sigma(N) = sqrt(N)\n",
    "    # 2. Draw the best linear fit N = a + b T\n",
    "    # 3. Write the best fit in text on the plot somewhere\n",
    "    # 4. Don't forget to label your axes.\n",
    "    \n",
    "    # YOUR CODE HERE\n",
    "    raise NotImplementedError()\n",
    "\n",
    "fig, ax = plt.subplots(1,1, figsize=(14,8))\n",
    "plot_linear_fit(ax, n_sunspots, n_reentries, a, b, cov)\n",
    "plt.show()"
   ]
  },
  {
   "cell_type": "code",
   "execution_count": null,
   "metadata": {
    "deletable": false,
    "nbgrader": {
     "cell_type": "code",
     "checksum": "c2808d43a059d3acf484a4a86edcbb46",
     "grade": false,
     "grade_id": "cell-d607f1317364213f",
     "locked": false,
     "schema_version": 3,
     "solution": true
    }
   },
   "outputs": [],
   "source": [
    "# Question 2d\n",
    "\n",
    "# First a helper function to calculate the chisq value for any proposed values of a,b.\n",
    "def calculate_chisq(n_sunspots, n_reentries, a, b):\n",
    "    \"\"\"Calculate chisq for a given proposed solution (a, b), assumuing var(N) = N.\n",
    "\n",
    "    chisq = Sum_i (Nr_i - N_fit(Ns_i))^2 / var(Nr_i),\n",
    "    where N_fit(Ns) = a + b Ns\n",
    "    \n",
    "    Returns chisq for the proposed values of a and b.\n",
    "    \"\"\"\n",
    "    # YOUR CODE HERE\n",
    "    raise NotImplementedError()"
   ]
  },
  {
   "cell_type": "code",
   "execution_count": null,
   "metadata": {
    "deletable": false,
    "editable": false,
    "nbgrader": {
     "cell_type": "code",
     "checksum": "b608dd67c33780ab5949c2edc70ce2b1",
     "grade": true,
     "grade_id": "cell-e4e397c46983f9e8",
     "locked": true,
     "points": 1,
     "schema_version": 3,
     "solution": false
    }
   },
   "outputs": [],
   "source": [
    "# Let's check this function at a few values:\n",
    "\n",
    "# First, the value that we think is the minimum\n",
    "a, b = fit_reentries_vs_sunspots(n_sunspots, n_reentries)\n",
    "bestfit_chisq = calculate_chisq(n_sunspots, n_reentries, a, b)\n",
    "print('chisq at best fit solution = {:.3f}'.format(bestfit_chisq))\n",
    "\n",
    "# Now a few values a bit shifted from what should be the minimum chisq\n",
    "chisq1 = calculate_chisq(n_sunspots, n_reentries, a+2, b)\n",
    "chisq2 = calculate_chisq(n_sunspots, n_reentries, a-2, b)\n",
    "chisq3 = calculate_chisq(n_sunspots, n_reentries, a, b+0.05)\n",
    "chisq4 = calculate_chisq(n_sunspots, n_reentries, a, b-0.05)\n",
    "print('chisq at some nearby values = {:.2f}, {:.2f}, {:.2f}, {:.2f}'.format(chisq1,chisq2,chisq3,chisq4))\n",
    "\n",
    "# These should all be larger than the best fit chisq\n",
    "assert chisq1 > bestfit_chisq\n",
    "assert chisq2 > bestfit_chisq\n",
    "assert chisq3 > bestfit_chisq\n",
    "assert chisq4 > bestfit_chisq\n",
    "\n",
    "# Even a small shift from the best fit should give a slightly larger chisq\n",
    "chisq5 = calculate_chisq(n_sunspots, n_reentries, a+0.05, b)\n",
    "chisq6 = calculate_chisq(n_sunspots, n_reentries, a-0.05, b)\n",
    "chisq7 = calculate_chisq(n_sunspots, n_reentries, a, b+0.001)\n",
    "chisq8 = calculate_chisq(n_sunspots, n_reentries, a, b-0.001)\n",
    "print('chisq at some very nearby values = {:.3f}, {:.3f}, {:.3f}, {:.3f}'.format(chisq5,chisq6,chisq7,chisq8))\n",
    "\n",
    "# These should all still be slightly larger than the best fit chisq\n",
    "assert chisq5 > bestfit_chisq\n",
    "assert chisq6 > bestfit_chisq\n",
    "assert chisq7 > bestfit_chisq\n",
    "assert chisq8 > bestfit_chisq\n"
   ]
  },
  {
   "cell_type": "code",
   "execution_count": null,
   "metadata": {
    "deletable": false,
    "nbgrader": {
     "cell_type": "code",
     "checksum": "0c5e94b0607c4d25173eb89732eae5d4",
     "grade": true,
     "grade_id": "cell-55fdff15450caffb",
     "locked": false,
     "points": 1,
     "schema_version": 3,
     "solution": true
    }
   },
   "outputs": [],
   "source": [
    "# Question 2d (continued)\n",
    "\n",
    "# Now we can use the above function to plot chisq values for many a,b values as a contour plot.\n",
    "def plot_chisq_ellipses(ax, n_sunspots, n_reentries):\n",
    "    \"\"\"Plot ellipses at the 1, 2, and 3-sigma contours of a,b\n",
    "    \"\"\"\n",
    "    # Hints: \n",
    "    # 1. Use the ax.contour function.\n",
    "    # 2. Use fit_reentries_vs_sunspots to determine where the center of the plot should be.\n",
    "    # 3. Use calculate_cov to get an estimate of the two sigmas, so you can have\n",
    "    #    the ranges of a,b go to about +- 4 sigma in each direction.\n",
    "    # 4. If your contours look too chunky, try increasing the number of points.\n",
    "    \n",
    "    # YOUR CODE HERE\n",
    "    raise NotImplementedError()\n",
    "\n",
    "fig, ax = plt.subplots(1,1, figsize=(14,8))\n",
    "plot_chisq_ellipses(ax, n_sunspots, n_reentries)\n",
    "plt.show()"
   ]
  },
  {
   "cell_type": "markdown",
   "metadata": {
    "deletable": false,
    "editable": false,
    "nbgrader": {
     "cell_type": "markdown",
     "checksum": "a90c2b561eca2ffe3e8e21ac62cffdec",
     "grade": false,
     "grade_id": "cell-c1ffa6e7ba3dd2df",
     "locked": true,
     "schema_version": 3,
     "solution": false
    }
   },
   "source": [
    "---\n",
    "\n",
    "**Question 3**\n",
    "\n",
    "It is common practice in data analysis to demonstrate that your estimator produces unbiased results - i.e., the true parameters values are *on average* recovered.  Do the following to show that your estimators for $a$ and $b$ above are unbiased:\n",
    "\n",
    "(a) (3 pts) Write a function that draws $N$ points $\\{x_i, y_i\\}$ from the model,\n",
    "$$\n",
    "    y = a + b x\n",
    "$$\n",
    "where $x_i$ is drawn from a uniform distribution in the range $[x_{\\mathrm{min}}, x_{\\mathrm{max}}]$ and $y_i$ is drawn from a Gaussian distribution centered on $y = a + bx_i$ with fixed standard deviation $\\sigma$.  Also, write a function that fits for $a, b$ given arrays $x, y$.\n",
    "  \n",
    "(b) (3 pts) Using $N=90$, $x_{\\mathrm{min}}=18, x_{\\mathrm{max}}=38, a=200, b=10$, and $\\sigma=10$, generate 10000 realizations of the dataset, determine the inverse-variance-weighted mean values of $\\langle a \\rangle$ and $\\langle b \\rangle$, along with their uncertainties $\\sigma_{\\langle a \\rangle}$, $\\sigma_{\\langle b \\rangle}$.  Show that your estimators for $a$ and $b$ are unbiased - i.e, the true value falls within one or two standard deviations from the means of $a$ and $b$.\n",
    "\n",
    "(c) (2 pts) Plot the histogram of $\\chi^2$ values of the 10,000 realization from above, and overplot an appropriately scaled $p(\\chi^2; \\nu)$ distribution for $\\nu=90-2=88$ degrees of freedom."
   ]
  },
  {
   "cell_type": "code",
   "execution_count": null,
   "metadata": {
    "deletable": false,
    "nbgrader": {
     "cell_type": "code",
     "checksum": "f8c3da1bfc1ef1d911992f1a396acacb",
     "grade": false,
     "grade_id": "cell-fa66d1ca9e156b3f",
     "locked": false,
     "schema_version": 3,
     "solution": true
    }
   },
   "outputs": [],
   "source": [
    "# Question 3a\n",
    "def sim_linear(N, xmin, xmax, a, b, sigma):\n",
    "    \"\"\"Simulate an experiment with the true relation y = a + b x.\n",
    "    \n",
    "    N is the number of data points in the returned arrays.\n",
    "    xmin, xmax give the range of x values.  The returned x values are uniformly sampled from [xmin, xmax]\n",
    "    a, b are the true coefficients of the linear relation y = a + b x\n",
    "    sigma is a constant Gaussian uncertainty of the y values relative to the truth values.\n",
    "\n",
    "    Returns x, y, both N-element numpy arrays\n",
    "    \"\"\"\n",
    "    # Hint: Use numpy.random.normal for the Gaussian distribution.\n",
    "    \n",
    "    # YOUR CODE HERE\n",
    "    raise NotImplementedError()\n",
    "\n",
    "def fit_linear(x, y, sigma):\n",
    "    \"\"\"Perform a linear fit y = a + b x, given a constant uncertainty, sigma, of the y values.\n",
    "    \n",
    "    Returns a, b, sigma_a, sigma_b\n",
    "    \"\"\"\n",
    "    # Note: Don't use a canned fitting function from scipy, scikit-learn, or other similar package.\n",
    "\n",
    "    # YOUR CODE HERE\n",
    "    raise NotImplementedError()"
   ]
  },
  {
   "cell_type": "code",
   "execution_count": null,
   "metadata": {
    "deletable": false,
    "editable": false,
    "nbgrader": {
     "cell_type": "code",
     "checksum": "27af7e96ddb1d590df4742e3d68f4e9f",
     "grade": true,
     "grade_id": "cell-15e11e4acecdced8",
     "locked": true,
     "points": 3,
     "schema_version": 3,
     "solution": false
    }
   },
   "outputs": [],
   "source": [
    "N = 90\n",
    "xmin = 18\n",
    "xmax = 38\n",
    "true_a = 200\n",
    "true_b = 10\n",
    "sigma = 10\n",
    "\n",
    "# Before running a full simulation suite, it's a good idea to check the two ancillary functions\n",
    "# to make sure they are working correctly.\n",
    "# Make a single simulation and fit the parameters for it to make sure you get something reasonable.\n",
    "x, y = sim_linear(N, xmin, xmax, true_a, true_b, sigma)\n",
    "print('One simulation yielded arrays:')\n",
    "print('x =',x)\n",
    "print('y =',y)\n",
    "\n",
    "assert len(x) == N\n",
    "assert len(y) == N\n",
    "assert np.all(x >= xmin)\n",
    "assert np.all(x <= xmax)\n",
    "\n",
    "# And check that your fitting function gets something close to the true values.\n",
    "a, b, siga, sigb = fit_linear(x, y, sigma)\n",
    "print('The linear fit for this simulation is:')\n",
    "print('a = {:.3f} +- {:.3f}'.format(a, siga))\n",
    "print('b = {:.3f} +- {:.3f}'.format(b, sigb))\n",
    "\n",
    "# These aren't necessarily very close to the true values, but they should be\n",
    "# vaguely similar.  (We'll check this more precisely in 3b)\n",
    "assert np.isclose(a, true_a, rtol=0.1)\n",
    "assert np.isclose(b, true_b, rtol=0.1)\n",
    "\n",
    "# These aren't techinically *always* true, but the estimated values should almost always be within\n",
    "# 5 sigma of the true answer.  Indeed >99% of the time, they should be within 3 sigma.\n",
    "assert abs(a - true_a) < 5*siga\n",
    "assert abs(b - true_b) < 5*sigb\n"
   ]
  },
  {
   "cell_type": "code",
   "execution_count": null,
   "metadata": {
    "deletable": false,
    "nbgrader": {
     "cell_type": "code",
     "checksum": "892dae630b179b48528f3382c8bfab3e",
     "grade": false,
     "grade_id": "cell-c6e9f5a3e893f49a",
     "locked": false,
     "schema_version": 3,
     "solution": true
    }
   },
   "outputs": [],
   "source": [
    "# Question 3b\n",
    "def run_simulation(N, xmin, xmax, true_a, true_b, sigma, Nsim):\n",
    "    '''\n",
    "    1. Generates Nsim realizations of the dataset.\n",
    "    2. Determine the MLE of a, b, sigma_a, sigma_b for \n",
    "       each realization\n",
    "    3. Find the chisq of each realization\n",
    "    4. Calculate the inverse-variance-weighted mean of\n",
    "       a and b and the corresponding uncertainties\n",
    "       for each realiation.\n",
    "    \n",
    "    Returns: chisqs, mean_a, mean_b, sig_meana, sig_meanb\n",
    "    '''\n",
    "    # YOUR CODE HERE\n",
    "    raise NotImplementedError()"
   ]
  },
  {
   "cell_type": "code",
   "execution_count": null,
   "metadata": {
    "deletable": false,
    "editable": false,
    "nbgrader": {
     "cell_type": "code",
     "checksum": "04182233ec5763dec76baaa62366c12b",
     "grade": true,
     "grade_id": "cell-088e6015d3f58554",
     "locked": true,
     "points": 3,
     "schema_version": 3,
     "solution": false
    }
   },
   "outputs": [],
   "source": [
    "N = 90\n",
    "xmin = 18\n",
    "xmax = 38\n",
    "true_a = 200\n",
    "true_b = 10\n",
    "sigma = 10\n",
    "Nsim = 10000\n",
    "\n",
    "chisqs, mean_a, mean_b, sig_meana, sig_meanb = run_simulation(N, xmin, xmax, true_a, true_b, sigma, Nsim)\n",
    "\n",
    "print('True a, b = ', true_a, true_b)\n",
    "\n",
    "print('Inverse-variance-weighted mean of sims:')\n",
    "print('   a = {:.5f} +- {:.5f}'.format(mean_a, sig_meana))\n",
    "print('   b = {:.5f} +- {:.5f}'.format(mean_b, sig_meanb))\n",
    "\n",
    "assert len(chisqs) == Nsim\n",
    "\n",
    "print('Mean chisq of simulations is {:.2f}'.format(np.mean(chisqs)))\n",
    "\n",
    "# Now our estimates should be much more precise.\n",
    "assert np.isclose(mean_a, true_a, rtol=1.e-3)\n",
    "assert np.isclose(mean_b, true_b, rtol=1.e-3)\n",
    "\n",
    "assert abs(mean_a - true_a) < 5*sig_meana\n",
    "assert abs(mean_b - true_b) < 5*sig_meanb\n"
   ]
  },
  {
   "cell_type": "code",
   "execution_count": null,
   "metadata": {
    "deletable": false,
    "nbgrader": {
     "cell_type": "code",
     "checksum": "b9e2f0eb37947cc3a95213e6fa76afbc",
     "grade": true,
     "grade_id": "cell-d6a16b62ce735228",
     "locked": false,
     "points": 2,
     "schema_version": 3,
     "solution": true
    }
   },
   "outputs": [],
   "source": [
    "import scipy.stats\n",
    "\n",
    "# Question 3c\n",
    "def plot_chisq_hist(ax, chisq, nu):\n",
    "    '''Plots a histogram of chisq values\n",
    "    Also overplots a chisq distribution for nu degrees of freedom.\n",
    "    '''\n",
    "    # Hint: See the pdf method of scipy.stats.chi2.\n",
    "    \n",
    "    # YOUR CODE HERE\n",
    "    raise NotImplementedError()\n",
    "\n",
    "fig, ax = plt.subplots(1, 1, figsize=(14,8))\n",
    "plot_chisq_hist(ax, chisqs, N-2)\n",
    "plt.show()"
   ]
  },
  {
   "cell_type": "code",
   "execution_count": null,
   "metadata": {},
   "outputs": [],
   "source": []
  }
 ],
 "metadata": {
  "kernelspec": {
   "display_name": "Python 3 (ipykernel)",
   "language": "python",
   "name": "python3"
  },
  "language_info": {
   "codemirror_mode": {
    "name": "ipython",
    "version": 3
   },
   "file_extension": ".py",
   "mimetype": "text/x-python",
   "name": "python",
   "nbconvert_exporter": "python",
   "pygments_lexer": "ipython3",
   "version": "3.10.6"
  }
 },
 "nbformat": 4,
 "nbformat_minor": 4
}
