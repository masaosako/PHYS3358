{
 "cells": [
  {
   "cell_type": "markdown",
   "id": "acf75d61",
   "metadata": {
    "deletable": false,
    "editable": false,
    "nbgrader": {
     "cell_type": "markdown",
     "checksum": "92348a4a70d2e864a2bec3dadc53d5e4",
     "grade": false,
     "grade_id": "cell-6c8055d4bb6e4f41",
     "locked": true,
     "schema_version": 3,
     "solution": false
    }
   },
   "source": [
    "**Question 1**\n",
    "\n",
    "We discussed in class the *Spectral Line Problem* for the data shown in Figure 3.3\n",
    "and Table 3.1 of our textbook. We computed the unnormalized posterior PDF for the line\n",
    "strength $T$ , assuming model $M_1$, and got results that match the curves shown in Figure 3.6\n",
    "for the uniform and Jeffreys priors.\n",
    "\n",
    "(a) (2 pts) Calculate $p(D|M_1, I)$ for the uniform and Jeffreys prior cases. The numerical\n",
    "answers are given in (3.45) and (3.47), respectively. There are typos, however, in both\n",
    "equations (see errata), but the numerical answers are correct. To carry out the integrals,\n",
    "you can use simple numerical integrators such as `np.trapz` or one of the ”fixed-samples”\n",
    "methods in `scipy.integrate`.\n",
    "\n",
    "(b) (2 pts) Calculate the odds ratio $O_{12}$ (Equation 3.31) for the uniform and Jeffreys prior\n",
    "cases. The numerical answer is given in the text on page 58."
   ]
  },
  {
   "cell_type": "code",
   "execution_count": null,
   "id": "28475918",
   "metadata": {
    "deletable": false,
    "editable": false,
    "nbgrader": {
     "cell_type": "code",
     "checksum": "7013f42268ce52d79e508c60c73a7e88",
     "grade": false,
     "grade_id": "cell-e12fb811ff3bc8a9",
     "locked": true,
     "schema_version": 3,
     "solution": false
    }
   },
   "outputs": [],
   "source": [
    "# Copied from SpectralLine1.ipynb\n",
    "\n",
    "import numpy as np\n",
    "import matplotlib.pyplot as plt\n",
    "import scipy\n",
    "\n",
    "data1 = np.genfromtxt('SpectralLine1.dat')\n",
    "nu = data1[:, 0]\n",
    "signal = data1[:, 1]\n",
    "\n",
    "def plot_spectrum(nu, signal):\n",
    "    plt.plot(nu, signal, marker='*')\n",
    "    plt.axhline(y=0, linestyle=\"--\")\n",
    "    plt.xlabel(\"channel number\")\n",
    "    plt.ylabel(\"signal strength (mK)\")\n",
    "    \n",
    "plot_spectrum(nu, signal)\n",
    "plt.show()"
   ]
  },
  {
   "cell_type": "code",
   "execution_count": null,
   "id": "ecc399a0",
   "metadata": {
    "deletable": false,
    "editable": false,
    "nbgrader": {
     "cell_type": "code",
     "checksum": "a6cfcc4eb29edb2bd50f6ea54852b753",
     "grade": false,
     "grade_id": "cell-268375a98c2f91aa",
     "locked": true,
     "schema_version": 3,
     "solution": false
    }
   },
   "outputs": [],
   "source": [
    "# Also copied from SpectralLines1.ipynb\n",
    "def model1(nu, T, nu0=37.0, sigL=2.0):\n",
    "    \"\"\"The prediction of model M1 given an array of channel numbers (nu) and\n",
    "    a specific choice of T for the amplitude of the signal.\n",
    "    \"\"\"\n",
    "    S = T*np.exp(-((nu-nu0)**2)/(2*sigL**2))\n",
    "    return S\n",
    "\n",
    "def model2(nu):\n",
    "    \"\"\"The prediction of model M2 given an array of channel numbers (nu).\n",
    "    \"\"\"\n",
    "    S = np.zeros_like(nu)  # because we want all the values for each nu\n",
    "    # S = 0.0*nu           # this should also work\n",
    "    return S"
   ]
  },
  {
   "cell_type": "code",
   "execution_count": null,
   "id": "b3cf0793",
   "metadata": {
    "deletable": false,
    "nbgrader": {
     "cell_type": "code",
     "checksum": "6b88b3200a0f30b8fafc4ce0caa1a9e9",
     "grade": false,
     "grade_id": "cell-9aeed4c4154cfe45",
     "locked": false,
     "schema_version": 3,
     "solution": true
    }
   },
   "outputs": [],
   "source": [
    "# Question 1a\n",
    "\n",
    "def calculate_m1_likelihood_T(nu, signal, T, sigma=1):\n",
    "    \"\"\"Calculate p(D|M1, T, I) for a particular value of T, assuming the noise in the data \n",
    "    is Gaussian with standard deviation, sigma.\n",
    "    \"\"\"\n",
    "    # Note: You are intended to remove the \"raise NotImplementedError()\" line along with the\n",
    "    #       \"# YOUR CODE HERE\" line and replace both lines with your code.\n",
    "\n",
    "    # YOUR CODE HERE\n",
    "    raise NotImplementedError()\n",
    "    \n",
    "def calculate_m1_likelihood(nu, signal, prior, sigma=1, Tmin=0.1, Tmax=100):\n",
    "    \"\"\"Calculate p(D|M1, I) assuming the noise in the data is Gaussian with standard deviation, sigma.\n",
    "    \n",
    "    If prior is 'uniform', use a uniform prior on T between Tmin and Tmax,\n",
    "    If prior is 'Jeffreys', use a Jeffreys prior on T between Tmin and Tmax,\n",
    "    \"\"\"\n",
    "    # YOUR CODE HERE\n",
    "    raise NotImplementedError()"
   ]
  },
  {
   "cell_type": "code",
   "execution_count": null,
   "id": "07ef5646",
   "metadata": {
    "deletable": false,
    "editable": false,
    "nbgrader": {
     "cell_type": "code",
     "checksum": "039c459678b017eed836d0e5ff7643ac",
     "grade": true,
     "grade_id": "cell-26f2c354fbb21944",
     "locked": true,
     "points": 2,
     "schema_version": 3,
     "solution": false
    }
   },
   "outputs": [],
   "source": [
    "p_m1_uniform = calculate_m1_likelihood(nu, signal, 'uniform')\n",
    "print(f'Uniform prior: p(D|M1,I) = {p_m1_uniform}')\n",
    "\n",
    "# The book claims this answer is 1.131e-38\n",
    "assert np.isclose(p_m1_uniform, 1.131e-38, rtol=0.001, atol=0)\n",
    "\n",
    "p_m1_Jeffreys = calculate_m1_likelihood(nu, signal, 'Jeffreys')\n",
    "print(f'Jeffreys prior: p(D|M1,I) = {p_m1_Jeffreys}')\n",
    "\n",
    "# The book claims this answer is 1.239e-37\n",
    "assert np.isclose(p_m1_Jeffreys, 1.239e-37, rtol=0.001, atol=0)\n",
    "\n"
   ]
  },
  {
   "cell_type": "code",
   "execution_count": null,
   "id": "cae112d6",
   "metadata": {
    "deletable": false,
    "nbgrader": {
     "cell_type": "code",
     "checksum": "17496923172c935b683fc1687a07fa99",
     "grade": false,
     "grade_id": "cell-51733dbd24e5d9da",
     "locked": false,
     "schema_version": 3,
     "solution": true
    }
   },
   "outputs": [],
   "source": [
    "def calculate_m2_likelihood(nu, signal, sigma=1):\n",
    "    \"\"\"Calculate p(D|M2, I) assuming the noise in the data is Gaussian with standard deviation, sigma.\n",
    "    \"\"\"\n",
    "    # YOUR CODE HERE\n",
    "    raise NotImplementedError()\n",
    "    \n",
    "def calculate_odds(p1, p2):\n",
    "    \"\"\"Calculate the odds ratio given the likelihood of two models.\n",
    "    \"\"\"\n",
    "    # YOUR CODE HERE\n",
    "    raise NotImplementedError()"
   ]
  },
  {
   "cell_type": "code",
   "execution_count": null,
   "id": "f9710d03",
   "metadata": {
    "deletable": false,
    "editable": false,
    "nbgrader": {
     "cell_type": "code",
     "checksum": "420451a0c58c21c962a0cbb632f9a120",
     "grade": true,
     "grade_id": "cell-c1ae64802f888110",
     "locked": true,
     "points": 2,
     "schema_version": 3,
     "solution": false
    }
   },
   "outputs": [],
   "source": [
    "p_m2 = calculate_m2_likelihood(nu, signal)\n",
    "\n",
    "odds_uniform = calculate_odds(p_m1_uniform, p_m2)\n",
    "odds_Jeffreys = calculate_odds(p_m1_Jeffreys, p_m2)\n",
    "print(f'Odds ratio for uniform prior is {odds_uniform}')\n",
    "print(f'Odds ratio for Jeffreys prior is {odds_Jeffreys}')\n",
    "\n",
    "# The book claims these are 0.9986 and 10.94\n",
    "assert np.isclose(odds_uniform, 0.9986, rtol=0.001)\n",
    "assert np.isclose(odds_Jeffreys, 10.94, rtol=0.001)\n"
   ]
  },
  {
   "cell_type": "markdown",
   "id": "e9bd7d8d",
   "metadata": {
    "deletable": false,
    "editable": false,
    "nbgrader": {
     "cell_type": "markdown",
     "checksum": "b685a375ca34983fa44aae51f8e85f5d",
     "grade": false,
     "grade_id": "cell-381225abfb44678c",
     "locked": true,
     "schema_version": 3,
     "solution": false
    }
   },
   "source": [
    "**Question 2**\n",
    "\n",
    "In this problem, we will simulate another data set that resembles the one shown\n",
    "in Figure 3.7, which has a higher line strength than the first example.\n",
    "\n",
    "(a) (2 pts) Taking $T = 5.0$ mK, simulate a new dataset $D^\\prime$ by sampling the signal in each\n",
    "channel from a normal (gaussian) distribution with a mean given by the model and\n",
    "$\\sigma = 1.0$ mK. You can use np.random.normal to sample from a normal distribution.\n",
    "Plot the new dataset and confirm that it roughly resembles the left panel of Figure 3.7.\n",
    "\n",
    "(b) (2 pts) Using the Jeffreys prior for $T$ in the range $0.1 \\le T \\le 100$ mK,\n",
    "calculate the posterior PDF $p(T |D^\\prime, M_1, I)$ and the 95% credible region for $T$.\n",
    "Make a plot of $p(T |D^\\prime, M_1, I)$ vs $T$.\n",
    "\n",
    "(c) (2 pts) Calculate the new odds ratio $O_{12}^\\prime$"
   ]
  },
  {
   "cell_type": "code",
   "execution_count": null,
   "id": "31b32461",
   "metadata": {
    "deletable": false,
    "nbgrader": {
     "cell_type": "code",
     "checksum": "b48393e5e59da35d60d60da89d9561b3",
     "grade": false,
     "grade_id": "cell-323d5788ec3dae16",
     "locked": false,
     "schema_version": 3,
     "solution": true
    }
   },
   "outputs": [],
   "source": [
    "# Question 2a\n",
    "\n",
    "def simulate_spectrum(nu, T=5.0, sigma=1):\n",
    "    \"\"\"Simlulate a specturm of the M1 model for the given channels (nu), assuming the signal strength\n",
    "    is T and the noise in the data is sigma.\n",
    "    \n",
    "    Returns an array of simulated signal values.\n",
    "    \"\"\"\n",
    "    # YOUR CODE HERE\n",
    "    raise NotImplementedError()"
   ]
  },
  {
   "cell_type": "code",
   "execution_count": null,
   "id": "a8f3efe3",
   "metadata": {
    "deletable": false,
    "editable": false,
    "nbgrader": {
     "cell_type": "code",
     "checksum": "08e7256803bb21cc40104c26129bf04a",
     "grade": true,
     "grade_id": "cell-384bfe18745a0c64",
     "locked": true,
     "points": 2,
     "schema_version": 3,
     "solution": false
    }
   },
   "outputs": [],
   "source": [
    "sim = simulate_spectrum(nu)\n",
    "\n",
    "plot_spectrum(nu, sim)\n"
   ]
  },
  {
   "cell_type": "code",
   "execution_count": null,
   "id": "a3524a55",
   "metadata": {
    "deletable": false,
    "nbgrader": {
     "cell_type": "code",
     "checksum": "6cfed2286e6d371710ad43454fec2162",
     "grade": false,
     "grade_id": "cell-0e52e6a57b811edc",
     "locked": false,
     "schema_version": 3,
     "solution": true
    }
   },
   "outputs": [],
   "source": [
    "# Question 2b\n",
    "\n",
    "def calculate_m1_T_posterior(nu, signal, sigma=1, Tmin=0.1, Tmax=100):\n",
    "    \"\"\"Calculate the posterior PDF for T, p(T|D',M1,I) in the M1 model, assuming a Jeffreys prior on T.\n",
    "    \n",
    "    Returns T, p(T|D',M1,I) (both numpy arrays; they should be the same length)\n",
    "    \"\"\"\n",
    "    # YOUR CODE HERE\n",
    "    raise NotImplementedError()\n",
    "    \n",
    "def calculate_m1_T_95(T, pdf, C=0.95):\n",
    "    \"\"\"Calculate the 95% confidence interval for the given pdf\n",
    "    \n",
    "    Returns (T1, T2) being the limits of the confidence interval.\n",
    "    \"\"\"\n",
    "    # YOUR CODE HERE\n",
    "    raise NotImplementedError()"
   ]
  },
  {
   "cell_type": "code",
   "execution_count": null,
   "id": "a66495c8",
   "metadata": {
    "deletable": false,
    "editable": false,
    "nbgrader": {
     "cell_type": "code",
     "checksum": "b7b44cf8776050f50d14999a5b7f54a5",
     "grade": true,
     "grade_id": "cell-7808378c74b93a1f",
     "locked": true,
     "points": 2,
     "schema_version": 3,
     "solution": false
    }
   },
   "outputs": [],
   "source": [
    "T, p_T_sim = calculate_m1_T_posterior(nu, sim)\n",
    "\n",
    "print(f'Maximum posterior is at T = {T[np.argmax(p_T_sim)]:.2f} mK')\n",
    "\n",
    "T1, T2 = calculate_m1_T_95(T, p_T_sim)\n",
    "print(f'95% confidence interval: [{T1}, {T2}]')\n"
   ]
  },
  {
   "cell_type": "code",
   "execution_count": null,
   "id": "43e5678d",
   "metadata": {
    "deletable": false,
    "nbgrader": {
     "cell_type": "code",
     "checksum": "3184331a5cbf253cc12381c1d52f98fb",
     "grade": true,
     "grade_id": "cell-c51b34f8319dba49",
     "locked": false,
     "points": 1,
     "schema_version": 3,
     "solution": true
    }
   },
   "outputs": [],
   "source": [
    "# Question 2b, continued\n",
    "\n",
    "def plot_T_posterior(T, pdf):\n",
    "    \"\"\"Plot the posterior probability distribution function (pdf) of T in model M1 for the simulation.\n",
    "    \"\"\"\n",
    "    # Hint: Make sure to pick a reasonable range for the axes, and label your axes.\n",
    "    \n",
    "    # YOUR CODE HERE\n",
    "    raise NotImplementedError()\n",
    "    \n",
    "plot_T_posterior(T, p_T_sim)\n",
    "plt.show()"
   ]
  },
  {
   "cell_type": "code",
   "execution_count": null,
   "id": "4bd3fe65",
   "metadata": {
    "deletable": false,
    "nbgrader": {
     "cell_type": "code",
     "checksum": "ce6bbb900bce3b7e73fde680809fe0e4",
     "grade": false,
     "grade_id": "cell-ac0f65bc7006124f",
     "locked": false,
     "schema_version": 3,
     "solution": true
    }
   },
   "outputs": [],
   "source": [
    "# Question 2c\n",
    "\n",
    "def calculate_sim_odds(nu, sim, prior='Jeffreys'):\n",
    "    \"\"\"Calculate the new odds ration of M1 vs M2 for the simulated data.\n",
    "    \"\"\"\n",
    "    # Hint: You should be able to do this just by calling functions you already wrote above.\n",
    "    \n",
    "    # YOUR CODE HERE\n",
    "    raise NotImplementedError()"
   ]
  },
  {
   "cell_type": "code",
   "execution_count": null,
   "id": "94e5f2e4",
   "metadata": {
    "deletable": false,
    "editable": false,
    "nbgrader": {
     "cell_type": "code",
     "checksum": "b792b4193b7b952aa9b51e5a753449d7",
     "grade": true,
     "grade_id": "cell-2545566f89212296",
     "locked": true,
     "points": 1,
     "schema_version": 3,
     "solution": false
    }
   },
   "outputs": [],
   "source": [
    "odds_sim = calculate_sim_odds(nu, sim)\n",
    "print(f'The new odds are {odds_sim:.2e}')\n"
   ]
  },
  {
   "cell_type": "code",
   "execution_count": null,
   "id": "bc6dda48",
   "metadata": {},
   "outputs": [],
   "source": []
  }
 ],
 "metadata": {
  "kernelspec": {
   "display_name": "Python 3 (ipykernel)",
   "language": "python",
   "name": "python3"
  },
  "language_info": {
   "codemirror_mode": {
    "name": "ipython",
    "version": 3
   },
   "file_extension": ".py",
   "mimetype": "text/x-python",
   "name": "python",
   "nbconvert_exporter": "python",
   "pygments_lexer": "ipython3",
   "version": "3.10.6"
  }
 },
 "nbformat": 4,
 "nbformat_minor": 5
}
