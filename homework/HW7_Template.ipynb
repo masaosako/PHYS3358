{
 "cells": [
  {
   "cell_type": "markdown",
   "metadata": {
    "deletable": false,
    "editable": false,
    "nbgrader": {
     "cell_type": "markdown",
     "checksum": "275da521a99e5bcce95b5a6f418bc246",
     "grade": false,
     "grade_id": "cell-5a92e7977e66185d",
     "locked": true,
     "schema_version": 3,
     "solution": false
    }
   },
   "source": [
    "**Problem 1**\n",
    "\n",
    "In this problem, you will learn how to perform linear regression using the matrix method.  The file `Riggs.dat` contains hypothetical particle-physics spectral data (energy vs counts) of a search for a new particle called the *Riggs boson*.  The columns are 1) energy $E$ (GeV) and 2) counts $N$ (number of events in that energy bin).  The energy bins are independent (i.e., there is no covariance).\n",
    "  \n",
    "```\n",
    "   1.0   277\n",
    "   2.0   254\n",
    "   3.0   252\n",
    "   4.0   265\n",
    "   5.0   266\n",
    "   6.0   266\n",
    "   ...\n",
    "```\n",
    "\n",
    "  \n",
    "A signal of a new particle consists of a gaussian on top of a smooth background.  Model the spectrum with a function given by:\n",
    "$$\n",
    "  N(E) = a + bE +cE^2 + Ae^{-(E-E_{\\mathrm{Riggs}})^2/(2\\sigma_E^2)}\n",
    "$$\n",
    "where $a,b,c,$ and $A$ are 4 fit parameters.  The first three terms make up the background, the last term represents the signal.  The term $\\sigma_E$ represents the intrinsic energy width of the particle and is assumed to be $2.6$ GeV.  Theory also predicts that $E_{\\mathrm{Riggs}} = 68.8$ GeV.\n",
    "\n",
    "\n",
    "a) (4 pts) Given our data and model, construct the design matrix $\\mathbf{G}$, data covariance matrix $\\mathbf{S}$, and response vector $\\mathbf{D}$.\n",
    "\n",
    "b) (4 pts) Use the matrix operations to solve for the best-fit parameter vector $\\hat{\\mathbf{A}}$ given by:\n",
    "$$\n",
    "\\mathbf{\\hat{A}} = (\\mathbf{G}^T \\mathbf{S}^{-1} \\mathbf{G)^{-1}} \\mathbf{G}^T \\mathbf{S}^{-1} \\mathbf{D}\n",
    "$$\n",
    "and their uncertainties.\n",
    "\n",
    "c) (2 pts) Plot the data and superimpose the best-fit model."
   ]
  },
  {
   "cell_type": "code",
   "execution_count": null,
   "metadata": {
    "deletable": false,
    "nbgrader": {
     "cell_type": "code",
     "checksum": "5bd23be636e87eca5f2f3cd0edefd989",
     "grade": false,
     "grade_id": "cell-d74f9b41ff3251f1",
     "locked": false,
     "schema_version": 3,
     "solution": true
    }
   },
   "outputs": [],
   "source": [
    "import numpy as np\n",
    "import pandas as pd  # You don't need to use this if you don't want.\n",
    "\n",
    "# Problem 1a\n",
    "def read_riggs_data(n):\n",
    "    \"\"\"\n",
    "    Read the data file Riggs.dat.\n",
    "    \n",
    "    Returns E, N for this run as numpy arrays\n",
    "    \"\"\"\n",
    "    # Hint: If you use pandas to read the file, to_numpy() will convert to a numpy array\n",
    "\n",
    "    # YOUR CODE HERE\n",
    "    raise NotImplementedError()\n",
    "    \n",
    "def construct_design_matrix(E, E_Riggs=68.6, sigma_E=2.6):\n",
    "    \"\"\"Construct the design matrix for the Riggs boson model.\n",
    "    \n",
    "    The columns are [1, E, E^2, exp(-(E-E_Riggs)^2) / 2sigma_E^2]\n",
    "    \n",
    "    Each row corresponds to the values of the input E vector.\n",
    "    \n",
    "    Returns G, the design matrix.\n",
    "    \"\"\"\n",
    "    # YOUR CODE HERE\n",
    "    raise NotImplementedError()\n",
    "    \n",
    "def construct_data_covariance_matrix(N):\n",
    "    \"\"\"Construct the data vector and the covariance matrix for the given counts.\n",
    "    \n",
    "    The counts are taken to be independent with Poisson errors.\n",
    "    \n",
    "    Returns D, S, the data vector and its covariance matrix.\n",
    "    \"\"\"\n",
    "    # YOUR CODE HERE\n",
    "    raise NotImplementedError()\n",
    "\n"
   ]
  },
  {
   "cell_type": "code",
   "execution_count": null,
   "metadata": {
    "deletable": false,
    "editable": false,
    "nbgrader": {
     "cell_type": "code",
     "checksum": "abe2363f204c08d4ac131cf4089789aa",
     "grade": true,
     "grade_id": "cell-3dd7e39cec84d117",
     "locked": true,
     "points": 4,
     "schema_version": 3,
     "solution": false
    }
   },
   "outputs": [],
   "source": [
    "E, N = read_riggs_data(0)\n",
    "\n",
    "print('First few E,N are:')\n",
    "print(E[0:3])\n",
    "print(N[0:3])\n",
    "\n",
    "G = construct_design_matrix(E)\n",
    "print('Start of design matrix:')\n",
    "print(G[0:3])\n",
    "\n",
    "D, S = construct_data_covariance_matrix(N)\n",
    "print('Start of data vector:')\n",
    "print(D[0:3])\n",
    "print('Upper left of covariance matrix:')\n",
    "print(S[0:3,0:3])\n"
   ]
  },
  {
   "cell_type": "code",
   "execution_count": null,
   "metadata": {
    "deletable": false,
    "nbgrader": {
     "cell_type": "code",
     "checksum": "0738591f04e803d038b1fa9d120b55e3",
     "grade": false,
     "grade_id": "cell-b114209dbf5fbe32",
     "locked": false,
     "schema_version": 3,
     "solution": true
    }
   },
   "outputs": [],
   "source": [
    "# Problem 1b\n",
    "\n",
    "def riggs_model(E, params, E_Riggs=68.6, sigma_E=2.6):\n",
    "    \"\"\"\n",
    "    Return the expected counts given the model for the Riggs boson.\n",
    "    \n",
    "        N(E) = a + b E + c E**2 + A exp(-(E-E_Riggs)**2/(2 sigma_E**2))\n",
    "    \n",
    "    On input, E is an array of energy values.\n",
    "    And params is [a, b, c, A], an array of the model parameters.\n",
    "    \n",
    "    Returns N(E) given the model parameters.\n",
    "    \"\"\"\n",
    "    # YOUR CODE HERE\n",
    "    raise NotImplementedError()\n",
    "    \n",
    "    \n",
    "def fit_riggs_model(E, N, E_Riggs=68.6, sigma_E=2.6):\n",
    "    \"\"\"\n",
    "    Find the best fit model given the observed data N(E)\n",
    "\n",
    "    Returns the parameters [a, b, c, A] as a numpy array \n",
    "    and the covariance matrix, also as a numpy array.\n",
    "    \"\"\"\n",
    "    # Hints:\n",
    "    # 1. Use the above equations to get the D vector and G, S matrices.\n",
    "    # 2. Compute A =(G^T S^−1 G)^−1 G^T S^−1 D using numpy functions\n",
    "    \n",
    "    # YOUR CODE HERE\n",
    "    raise NotImplementedError()"
   ]
  },
  {
   "cell_type": "code",
   "execution_count": null,
   "metadata": {
    "deletable": false,
    "editable": false,
    "nbgrader": {
     "cell_type": "code",
     "checksum": "d781bfc4274ad33ff4112ff9a8263243",
     "grade": true,
     "grade_id": "cell-6f55c9996dbe277f",
     "locked": true,
     "points": 4,
     "schema_version": 3,
     "solution": false
    }
   },
   "outputs": [],
   "source": [
    "params, cov = fit_riggs_model(E, N)\n",
    "\n",
    "print('params = ',params)\n",
    "print('cov = ',cov)\n",
    "\n",
    "fitted_model = riggs_model(E, params)\n",
    "print('First few fitten N values:')\n",
    "print(fitted_model[0:3])\n"
   ]
  },
  {
   "cell_type": "code",
   "execution_count": null,
   "metadata": {
    "deletable": false,
    "nbgrader": {
     "cell_type": "code",
     "checksum": "dfb2ba787ff6d9a8a8491bcb4f6c36fc",
     "grade": true,
     "grade_id": "cell-26a4e5c807783b2c",
     "locked": false,
     "points": 2,
     "schema_version": 3,
     "solution": true
    }
   },
   "outputs": [],
   "source": [
    "import matplotlib\n",
    "import matplotlib.pyplot as plt\n",
    "%matplotlib inline\n",
    "\n",
    "# YOUR CODE HERE\n",
    "raise NotImplementedError()"
   ]
  },
  {
   "cell_type": "markdown",
   "metadata": {
    "deletable": false,
    "editable": false,
    "nbgrader": {
     "cell_type": "markdown",
     "checksum": "d028ea9f5bed6ce8acfa1fb23122dc15",
     "grade": false,
     "grade_id": "cell-bc6821520ea02d93",
     "locked": true,
     "schema_version": 3,
     "solution": false
    }
   },
   "source": [
    "---\n",
    "\n",
    "**Bonus Problem**\n",
    "\n",
    "A nice way to visualize the covariance matrix of a fit is to sample values of the parameters that would be consistent with the errors.\n",
    "\n",
    "1. First take the Cholesky decomposition of the covariance matrix: $L L^{T} = \\mathrm{Cov}(\\hat A)$\n",
    " \n",
    "2. Then make a vector of 4 zero-mean, unit-variance Gaussian random values: \n",
    "$v = [X_0, X_1, X_2, X_3]^T; \\quad X_i \\leftarrow \\cal{N}(0,1)$\n",
    "\n",
    "3. Multiply them together using matrix math: $\\delta \\hat{\\mathbf{A}} = L v$\n",
    "\n",
    "This gives you random deviations from the fitted parameter values $\\hat{\\mathbf{A}}$ according to the appropriate statistics given by the covariance matrix.  You can now plot a bunch of models with parameters $\\hat{\\mathbf{A}} + \\delta \\hat{\\mathbf{A}}$ to see the range of possible solutions that are plausible given the errors.  Doing this with a small line width (lw) and making them semi-transparent (alpha < 1) provides a nice visualization of the set of possible lines."
   ]
  },
  {
   "cell_type": "code",
   "execution_count": null,
   "metadata": {
    "deletable": false,
    "nbgrader": {
     "cell_type": "code",
     "checksum": "85b9f1f8678b0a9a27412842f763f2d0",
     "grade": true,
     "grade_id": "cell-cb949c0151cb8f26",
     "locked": false,
     "points": 2,
     "schema_version": 3,
     "solution": true
    }
   },
   "outputs": [],
   "source": [
    "# Hints: Use np.linalg.cholesky to get L of the Cholesky decomposition.\n",
    "#        np.random.randn(4) will return a 4-element Gaussian random deviate\n",
    "#        Run a bunch of these shifted parameters.  Say 200 or so.\n",
    "#        Experiment with different values of lw and alpha in the plot command to make it look nice.\n",
    "\n",
    "# YOUR CODE HERE\n",
    "raise NotImplementedError()"
   ]
  },
  {
   "cell_type": "code",
   "execution_count": null,
   "metadata": {},
   "outputs": [],
   "source": []
  }
 ],
 "metadata": {
  "kernelspec": {
   "display_name": "Python 3 (ipykernel)",
   "language": "python",
   "name": "python3"
  },
  "language_info": {
   "codemirror_mode": {
    "name": "ipython",
    "version": 3
   },
   "file_extension": ".py",
   "mimetype": "text/x-python",
   "name": "python",
   "nbconvert_exporter": "python",
   "pygments_lexer": "ipython3",
   "version": "3.10.6"
  }
 },
 "nbformat": 4,
 "nbformat_minor": 4
}
