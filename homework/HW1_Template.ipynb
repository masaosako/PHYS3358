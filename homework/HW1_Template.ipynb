{
 "cells": [
  {
   "cell_type": "markdown",
   "id": "21533093",
   "metadata": {
    "deletable": false,
    "editable": false,
    "nbgrader": {
     "cell_type": "markdown",
     "checksum": "7df61038bb9f214367495e4fd4fe9018",
     "grade": false,
     "grade_id": "cell-74c2ae5a0b2ce66d",
     "locked": true,
     "schema_version": 3,
     "solution": false
    }
   },
   "source": [
    "**Question 1** (this is Problem 1.3 from Gregory) \n",
    "\n",
    "We saw in class (and in Section 1.4.1) that based\n",
    "on the saliva test result and the prior information, the probability that the person had the\n",
    "unknown disease (UD) was found to be 0.43%. Subsequently, the same person received an\n",
    "independent blood test for UD and again tested positive. If the false-negative rate for this\n",
    "test is 1.4% and the false-positive rate is 0.5%, what is the new probability that the person\n",
    "has UD on the basis of both tests?"
   ]
  },
  {
   "cell_type": "markdown",
   "id": "81e94270",
   "metadata": {
    "deletable": false,
    "nbgrader": {
     "cell_type": "markdown",
     "checksum": "ae2e8d15ada569ae181f0ea2382332ce",
     "grade": true,
     "grade_id": "cell-23dd384285143cb6",
     "locked": false,
     "points": 3,
     "schema_version": 3,
     "solution": true
    }
   },
   "source": [
    "You can write your solutions down either 1) here in Jupyter using markdown\n",
    "and Latex or 2) handwritten on paper and scanned/submitted to Canvas.\n",
    "\n",
    "YOUR ANSWER HERE"
   ]
  },
  {
   "cell_type": "markdown",
   "id": "c496ed7d",
   "metadata": {
    "deletable": false,
    "editable": false,
    "nbgrader": {
     "cell_type": "markdown",
     "checksum": "d766e46642c5937dd95a7fce135a5846",
     "grade": false,
     "grade_id": "cell-96dc689dc452d579",
     "locked": true,
     "schema_version": 3,
     "solution": false
    }
   },
   "source": [
    "**Question 2**\n",
    "\n",
    "(a) Write a function that simulates a sequence of $n$ coin flips with probability of\n",
    "heads $H$.  i.e.,\n",
    "\n",
    "<code>flips = flipOneSet(n, H)</code>\n",
    "\n",
    "where <code>flips</code> is an array of ”H” and ”T” for heads and tails, respectively\n",
    "\n",
    "(b) Write a function that takes the array from above and returns the number of\n",
    "heads and tails. i.e.,\n",
    "\n",
    "<code>nheads, ntails = countFlips(flips)</code>\n",
    "\n",
    "(c) Write a function that takes the array from part (a) and counts the number of\n",
    "occurrences of $X$ consecutive heads. \n",
    "For example, in a sequence of 10 flips for which the\n",
    "result is \\[H, H, H, T, H, T, H, H, H, T\\], the result for $X = 3$ should be 2; there are 3\n",
    "instances of 2 consecutive heads (1-2-3 and 7-8-9).  The result for $X = 2$ should also be\n",
    "2 (rather than 4). i.e.,\n",
    "\n",
    "<code>nconsecutive = countConsecutives(flips, X)</code>\n",
    "\n",
    "(d) Using the functions above, write another function that calculates the odds for a\n",
    "sequence of $n$ coin flips with $H$ to result in at least one instance of $X$ consecutive heads.\n",
    "\n",
    "<code>prob = probConsecutives(n, H, X)</code>\n",
    "\n",
    "(HINT: You can do this by running flipOneSet multiple times (they need to be ”sufficiently” large) and measuring the fraction of occurrences."
   ]
  },
  {
   "cell_type": "code",
   "execution_count": null,
   "id": "c78d2b8f",
   "metadata": {
    "deletable": false,
    "nbgrader": {
     "cell_type": "code",
     "checksum": "bd015f7f5621d0a87ec7c9ea2678e327",
     "grade": false,
     "grade_id": "cell-21b8f6813cee61ba",
     "locked": false,
     "schema_version": 3,
     "solution": true
    }
   },
   "outputs": [],
   "source": [
    "# Question 2a\n",
    "import numpy as np\n",
    "\n",
    "def flipOneSet(n, H):\n",
    "    \"\"\"Return a numpy array of length n simulating a series of coin flips.\n",
    "    \n",
    "    Each item in the array is either 'H' or 'T'.\n",
    "    The probability for each item to be 'H' is H.\n",
    "    \"\"\"\n",
    "    # YOUR CODE HERE\n",
    "    raise NotImplementedError()"
   ]
  },
  {
   "cell_type": "code",
   "execution_count": null,
   "id": "55192bfb",
   "metadata": {
    "deletable": false,
    "editable": false,
    "nbgrader": {
     "cell_type": "code",
     "checksum": "fefadba568e2fa1a9feaaf3c0412a031",
     "grade": true,
     "grade_id": "cell-799a6a5fed9e5988",
     "locked": true,
     "points": 2,
     "schema_version": 3,
     "solution": false
    }
   },
   "outputs": [],
   "source": [
    "print(\"10 flips, fair coin: \", flipOneSet(10, 0.5))\n",
    "print(\"Another 10 flips, fair coin:\", flipOneSet(10, 0.5))\n",
    "print(\"10 flips, two-sided heads: \", flipOneSet(10, 1.0))\n",
    "print(\"15 flips, unfair coin: \", flipOneSet(15, 0.8))\n",
    "print(\"1 flip, unfair coin: \", flipOneSet(1, 0.8))\n",
    "\n",
    "# Run a few sanity checks to make sure the outputs are sensible.\n",
    "\n",
    "flips = flipOneSet(100, 0.5)\n",
    "assert isinstance(flips, np.ndarray)  # Don't return a python list.\n",
    "assert len(flips) == 100              # Check that length of array is right.\n",
    "assert not np.all(flips == 'H')       # Chances are extremely small that 100 flips are all H.\n",
    "assert not np.all(flips == 'T')       # ... or T\n",
    "flips2 = flipOneSet(100, 0.5)\n",
    "assert not np.all(flips2 == flips)    # Doing it again gives a different result.\n",
    "\n",
    "# Note: there are more hidden tests that are used for grading!\n"
   ]
  },
  {
   "cell_type": "code",
   "execution_count": null,
   "id": "326c0233",
   "metadata": {
    "deletable": false,
    "nbgrader": {
     "cell_type": "code",
     "checksum": "dd6fe5fcd48d38a44ece8648190295fa",
     "grade": false,
     "grade_id": "cell-cf2a58e2162ff112",
     "locked": false,
     "schema_version": 3,
     "solution": true
    }
   },
   "outputs": [],
   "source": [
    "# Question 2b\n",
    "\n",
    "def countFlips(flips):\n",
    "    \"\"\"Given an array of flips (all of which are either 'H' or 'T'), return the number of heads and tails.\n",
    "    \"\"\"\n",
    "    # YOUR CODE HERE\n",
    "    raise NotImplementedError()"
   ]
  },
  {
   "cell_type": "code",
   "execution_count": null,
   "id": "69b347d1",
   "metadata": {
    "deletable": false,
    "editable": false,
    "nbgrader": {
     "cell_type": "code",
     "checksum": "e68aceaa0ee3e8117dae4ce12fc8aa22",
     "grade": true,
     "grade_id": "cell-4eed40f6866dc45e",
     "locked": true,
     "points": 2,
     "schema_version": 3,
     "solution": false
    }
   },
   "outputs": [],
   "source": [
    "flips = flipOneSet(15, 0.8)\n",
    "nheads, ntails = countFlips(flips)\n",
    "print(f\"15 flips, unfair coin has {nheads} H and {ntails} T\")\n",
    "\n",
    "flips = flipOneSet(1000, 0.8)\n",
    "nheads, ntails = countFlips(flips)\n",
    "print(f\"1000 flips, unfair coin has {nheads} H and {ntails} T\")\n",
    "\n",
    "assert nheads + ntails == 1000  # Every flip is either H or T\n",
    "\n",
    "# For 1000 flips with p_H=0.8, nheads should be pretty close to 0.8 x 1000 = 800.\n",
    "assert 700 < nheads < 900  # Chance of this failing should be extremely small.\n"
   ]
  },
  {
   "cell_type": "code",
   "execution_count": null,
   "id": "d4965eed",
   "metadata": {
    "deletable": false,
    "nbgrader": {
     "cell_type": "code",
     "checksum": "9f43b278a4135b0cd368e10c79eb4bbb",
     "grade": false,
     "grade_id": "cell-3b9b40a520e77599",
     "locked": false,
     "schema_version": 3,
     "solution": true
    }
   },
   "outputs": [],
   "source": [
    "# Question 2c\n",
    "\n",
    "def countConsecutives(flips, X):\n",
    "    \"\"\"Given an array of flips (all of which are either 'H' or 'T'), return how many times a run\n",
    "    of X consecutive heads occurs.\n",
    "    \"\"\"\n",
    "    # YOUR CODE HERE\n",
    "    raise NotImplementedError()"
   ]
  },
  {
   "cell_type": "code",
   "execution_count": null,
   "id": "d24a6cbf",
   "metadata": {
    "deletable": false,
    "editable": false,
    "nbgrader": {
     "cell_type": "code",
     "checksum": "b37c24a6f76383039f7fb783bfc748a4",
     "grade": true,
     "grade_id": "cell-e4cb2b4e28ca63c0",
     "locked": true,
     "points": 3,
     "schema_version": 3,
     "solution": false
    }
   },
   "outputs": [],
   "source": [
    "flips = np.array(['H', 'H', 'H', 'T', 'H', 'T', 'H', 'H', 'H', 'T'])\n",
    "n_HHH = countConsecutives(flips, 3)\n",
    "print(f\"There are {n_HHH} occurrences of HHH in {flips}\")\n",
    "\n",
    "assert n_HHH == 2\n",
    "\n",
    "# There is a potential ambiguity about how many HH appear in this sequence.  \n",
    "# It could be 2 or 4, depending on whether you want HHH to count as having 1 or 2\n",
    "# occurrences of HH.  I.e. whether overlapping runs count separately or not.\n",
    "# The question says to not count overlapping runs, but we actually accept either.\n",
    "\n",
    "n_HH = countConsecutives(flips, 2)\n",
    "print(f\"There are {n_HH} occurrences of HH in {flips}\")\n",
    "assert n_HH == 2 or n_HH == 4\n",
    "\n",
    "n_HHHH = countConsecutives(flips, 4)\n",
    "print(f\"There are {n_HHHH} occurrences of HHHH in {flips}\")\n",
    "assert n_HHHH == 0\n",
    "\n",
    "# Make sure it works with small arrays\n",
    "assert countConsecutives(np.array(['H']), 1) == 1\n",
    "assert countConsecutives(np.array(['H']), 2) == 0\n"
   ]
  },
  {
   "cell_type": "code",
   "execution_count": null,
   "id": "1615f51c",
   "metadata": {
    "deletable": false,
    "nbgrader": {
     "cell_type": "code",
     "checksum": "10f717b27de9025fda6aae2318cf35af",
     "grade": false,
     "grade_id": "cell-192c408fbb2649b4",
     "locked": false,
     "schema_version": 3,
     "solution": true
    }
   },
   "outputs": [],
   "source": [
    "# Question 2d\n",
    "\n",
    "def probConsecutives(n, H, X):\n",
    "    \"\"\"Estimate the probability of getting a run of X consecutive heads in a sequence of \n",
    "    n coin tosses where each toss has a probability H of landing heads.\n",
    "    \"\"\"\n",
    "    # Hint: run many simulations of doing n and keep track of how often there is at\n",
    "    #       least one occurrence of getting X consecutive heads.\n",
    "\n",
    "    # YOUR CODE HERE\n",
    "    raise NotImplementedError()"
   ]
  },
  {
   "cell_type": "code",
   "execution_count": null,
   "id": "6037de5b",
   "metadata": {
    "deletable": false,
    "editable": false,
    "nbgrader": {
     "cell_type": "code",
     "checksum": "3c9ee5fd236695bbd241fc647edb3fce",
     "grade": true,
     "grade_id": "cell-756ed36d8b0abe8f",
     "locked": true,
     "points": 3,
     "schema_version": 3,
     "solution": false
    }
   },
   "outputs": [],
   "source": [
    "p1 = probConsecutives(10, 0.5, 3)\n",
    "print(f'The chance of getting 3 consecutive heads in 10 flips of a fair coin = {p1}')\n",
    "\n",
    "p2 = probConsecutives(10, 0.5, 4)\n",
    "print(f'The chance of getting 4 consecutive heads in 10 flips of a fair coin = {p2}')\n",
    "\n",
    "# Check a few where we can know the expected answer\n",
    "p3 = probConsecutives(3, 0.5, 3)  # Should be close to 0.5^3 = 0.125\n",
    "print(f'The chance of getting 3 consecutive heads in 3 flips of a fair coin = {p3}')\n",
    "assert np.isclose(p3, 0.125, atol=0.02)\n",
    "\n",
    "p4 = probConsecutives(5, 1.0, 4)  # Should be exactly 1\n",
    "print(f'The chance of getting 4 consecutive heads in 5 flips of a two-headed coin = {p4}')\n",
    "assert p4 == 1\n",
    "\n",
    "p5 = probConsecutives(10, 0.0, 2)  # Should be exactly 0\n",
    "print(f'The chance of getting 2 consecutive heads in 10 flips of a two-tailed coin = {p5}')\n",
    "assert p5 == 0\n"
   ]
  },
  {
   "cell_type": "markdown",
   "id": "ec366d56",
   "metadata": {
    "deletable": false,
    "editable": false,
    "nbgrader": {
     "cell_type": "markdown",
     "checksum": "d1bf62b959b964928fd8b60e8bf74802",
     "grade": false,
     "grade_id": "cell-7a772a629041fb0b",
     "locked": true,
     "schema_version": 3,
     "solution": false
    }
   },
   "source": [
    "**Question 3**\n",
    "\n",
    "We saw in class that the posterior probability distribution\n",
    "function (PDF) for $H$ = probablity of heads for a sequence of three coin flips $D = h, h, t$ is\n",
    "proportional to $H^2(1 − H)$. i.e.,\n",
    "$$\n",
    "p(H|D, I) = A H^2(1 − H).\n",
    "$$\n",
    "\n",
    "(a) Calculate the constant $A$ that normalizes the PDF, i.e.,\n",
    "$$\n",
    "\\int_0^1 p(H|D, I) dH = 1.\n",
    "$$\n",
    "\n",
    "(b) By calculating the PDF on a grid of $H$ values, (e.g., <code>np.arange(0, 1.01, 0.01)</code>, calculate the following quantities.\n",
    "\n",
    "i. posterior mean $\\langle H \\rangle$ defined as\n",
    "$$\n",
    "\\langle H \\rangle = \\int_0^1 H p(H|D,I) dH\n",
    "$$\n",
    "\n",
    "ii. posterior median $\\tilde H$ such that\n",
    "\n",
    "$$\n",
    "\\int_0^{\\tilde H} p(H|D,I) dH = 0.5\n",
    "$$\n",
    "\n",
    "iii. posterior mode where $p(H|D, I)$ is a maximum,\n",
    "\n",
    "$$\n",
    "\\left.\\frac{dp(H|D, I)}{dH} \\right|_{H_m} = 0\n",
    "$$\n",
    "\n",
    "iv. credible $C$ = 90% region $R$ as defined in the textbook, i.e., provide the lower\n",
    "and upper bounds $H_l$ and $H_u$ for $R$ such that\n",
    "\n",
    "$$\n",
    "\\int_{H_l}^{H_u} p(H|D,I) dH = 0.90\n",
    "$$"
   ]
  },
  {
   "cell_type": "markdown",
   "id": "ded29b19",
   "metadata": {
    "deletable": false,
    "nbgrader": {
     "cell_type": "markdown",
     "checksum": "ac7a3fa9cedcf521d4d3c8cdfebce098",
     "grade": true,
     "grade_id": "cell-dc4933f95a98cb41",
     "locked": false,
     "points": 2,
     "schema_version": 3,
     "solution": true
    }
   },
   "source": [
    "Question 3a:\n",
    "    \n",
    "YOUR ANSWER HERE"
   ]
  },
  {
   "cell_type": "code",
   "execution_count": null,
   "id": "f8d4546f",
   "metadata": {
    "deletable": false,
    "nbgrader": {
     "cell_type": "code",
     "checksum": "8de6959494b84ad559b53f31e5aa49e1",
     "grade": false,
     "grade_id": "cell-a4aa8b2bfc50807c",
     "locked": false,
     "schema_version": 3,
     "solution": true
    }
   },
   "outputs": [],
   "source": [
    "# Question 3b\n",
    "import scipy\n",
    "\n",
    "def posterior_quantities(C=0.90):\n",
    "    \"\"\"Returns 5 quantities (mean, median, mode, lower, upper) in a tuple\n",
    "    for the posterior probability distribution:\n",
    "    \n",
    "        p(H|D,I) = A H^2 (1-H)\n",
    "\n",
    "    where mean, median, mode are the corresponding values for this distribution\n",
    "    and (lower,upper) are the bounds of the 90% (or more generally C) confidence region.\n",
    "    \"\"\"\n",
    "    # Hint: Create a numpy array of H values e.g. H = np.arange(0, 1.01, 0.01)\n",
    "    #       Compute the correponding p(H) array using numpy math.\n",
    "    #       Then calculate the values from this array.\n",
    "    # Hint 2: The function scipy.integrate.cumtrapz may be useful...\n",
    "    \n",
    "    # YOUR CODE HERE\n",
    "    raise NotImplementedError()"
   ]
  },
  {
   "cell_type": "code",
   "execution_count": null,
   "id": "40a90e99",
   "metadata": {
    "deletable": false,
    "editable": false,
    "nbgrader": {
     "cell_type": "code",
     "checksum": "c80f5bb2eae0ea72e6a0042d17c9cb50",
     "grade": true,
     "grade_id": "cell-39ca120f8defa642",
     "locked": true,
     "points": 5,
     "schema_version": 3,
     "solution": false
    }
   },
   "outputs": [],
   "source": [
    "mean, median, mode, lower, upper = posterior_quantities()\n",
    "\n",
    "print(f'The mean is {mean}')\n",
    "print(f'The median is {median}')\n",
    "print(f'The mode is {mode}')\n",
    "print(f'The 90% confidence interval is ({lower}, {upper})')\n"
   ]
  },
  {
   "cell_type": "code",
   "execution_count": null,
   "id": "21aceb6f",
   "metadata": {},
   "outputs": [],
   "source": []
  }
 ],
 "metadata": {
  "kernelspec": {
   "display_name": "Python 3 (ipykernel)",
   "language": "python",
   "name": "python3"
  },
  "language_info": {
   "codemirror_mode": {
    "name": "ipython",
    "version": 3
   },
   "file_extension": ".py",
   "mimetype": "text/x-python",
   "name": "python",
   "nbconvert_exporter": "python",
   "pygments_lexer": "ipython3",
   "version": "3.10.6"
  }
 },
 "nbformat": 4,
 "nbformat_minor": 5
}
