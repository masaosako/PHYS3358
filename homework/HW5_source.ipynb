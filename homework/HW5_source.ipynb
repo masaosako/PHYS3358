{
 "cells": [
  {
   "cell_type": "markdown",
   "metadata": {
    "nbgrader": {
     "grade": false,
     "grade_id": "cell-3a9e4ddff4ea9ef7",
     "locked": true,
     "schema_version": 3,
     "solution": false
    }
   },
   "source": [
    "**Question 1:**\n",
    "\n",
    "CODING: Students in PHYS150 were tasked to measure the local acceleration of gravity $g$ by dropping an object from height $H$, measuring the time $t$ it takes to reach the ground, and using the formula,\n",
    "\\begin{equation}\n",
    "    H = \\frac{1}{2}gt^2.\n",
    "\\end{equation}\n",
    "The datafile $\\texttt{GravityMeasurements.dat}$ contains\n",
    "  measurements of the value of $H$ in meters, its uncertainty $\\sigma_{H_i}$, time $t$ in seconds, and its uncertainty $\\sigma_{t_i}$ made independently by $N=350$ students.  The file has five columns -- (1)\n",
    "  index $i=0,...,N-1$, (2) measurement $\\{H_i\\}$, (3) its corresponding uncertainty $\\{\\sigma_{H_i}\\}$, (4) measurement $\\{t_i\\}$, and (5) its corresponding uncertainty $\\{\\sigma_{t_i}\\}$ from each student.\n",
    "  \n",
    "```\n",
    "      0   20.066  1.120   2.092  0.084\n",
    "      1   20.363  0.389   2.023  0.050\n",
    "      2   21.498  0.706   1.939  0.115\n",
    "      3   19.709  0.791   1.963  0.118\n",
    "      4   21.192  1.225   2.132  0.097\n",
    "      5   16.631  1.479   1.877  0.112\n",
    "      ...\n",
    "```\n",
    "\n",
    " \n",
    "\n",
    "(a) (1 pt) Calculate the values of acceleration of gravity $\\{g_i\\}$.\n",
    "\n",
    "(b) (2 pts) Calculate the corresponding uncertainties $\\{\\sigma_{g_i}\\}$ using the proper error propagation formulae.\n",
    "    \n",
    "(c) (2 pts) In this part and the next one, ignore the uncertainties\n",
    "    $\\{\\sigma_{g_i}\\}$, but rather estimate it directly from the measurements by\n",
    "    computing the standard deviation of $\\{g_i\\}$.  What is the best estimate of\n",
    "    this value $\\tilde{\\sigma}_g$?\n",
    "    \n",
    "(d) (2 pts) Using this value of $\\tilde{\\sigma}_g$, calculate the maximum-likelihood\n",
    "    estimate (MLE) of the mean of $\\{g_i\\}$ and the uncertainty in the mean from the\n",
    "    measurements.\n",
    "\n",
    "(e) (2 pts) Now compute the inverse-variance weighted MLE of the mean of $\\{g_i\\}$ using\n",
    "    the actual uncertainty $\\{\\sigma_{g_i}\\}$ on each measurement.  Also compute the\n",
    "    uncertainty in the mean to show that it is smaller than the value\n",
    "    $\\tilde{\\sigma}_g$ estimated in (a)."
   ]
  },
  {
   "cell_type": "code",
   "execution_count": 1,
   "metadata": {
    "nbgrader": {
     "grade": false,
     "grade_id": "cell-82f1cde365455dd7",
     "locked": false,
     "schema_version": 3,
     "solution": true
    }
   },
   "outputs": [],
   "source": [
    "# Problem 1a\n",
    "def calculate_g(data):\n",
    "    \"\"\"Given measurements of H and t, calculate the inferred gravitational acceleration constant, g.\n",
    "    \n",
    "    The input height (H) and time (t) are given as data['H'] and data['t'].\n",
    "    \n",
    "    Returns an array with the corresponding g values.\n",
    "    \"\"\"\n",
    "    ### BEGIN SOLUTION\n",
    "    H = data['H']\n",
    "    t = data['t']\n",
    "    return 2*H / t**2\n",
    "    ### END SOLUTION"
   ]
  },
  {
   "cell_type": "code",
   "execution_count": 2,
   "metadata": {
    "nbgrader": {
     "grade": true,
     "grade_id": "cell-043a2d6b31c61158",
     "locked": true,
     "points": 1,
     "schema_version": 3,
     "solution": false
    }
   },
   "outputs": [
    {
     "name": "stdout",
     "output_type": "stream",
     "text": [
      "The first few rows are:\n",
      "(0., 20.066, 1.12, 2.092, 0.084)\n",
      "(1., 20.363, 0.389, 2.023, 0.05)\n",
      "(2., 21.498, 0.706, 1.939, 0.115)\n",
      "(3., 19.709, 0.791, 1.963, 0.118)\n",
      "(4., 21.192, 1.225, 2.132, 0.097)\n",
      "(5., 16.631, 1.479, 1.877, 0.112)\n",
      "\n",
      "The first few g values are:  [ 9.16996004  9.95130395 11.43595496 10.22949009  9.32454266]\n",
      "The lowest estimate is  7.357945689904639\n",
      "The highest estimate is  12.505430961137918\n",
      "The mean estimate is  9.81354685188228\n"
     ]
    }
   ],
   "source": [
    "import numpy as np\n",
    "\n",
    "data = np.genfromtxt('GravityMeasurements.dat', names=['ID','H','sigma_H','t','sigma_t'])\n",
    "\n",
    "print('The first few rows are:')\n",
    "for i in range(6):\n",
    "    print(data[i])\n",
    "print()\n",
    "\n",
    "g = calculate_g(data)\n",
    "\n",
    "print('The first few g values are: ',g[:5])\n",
    "print('The lowest estimate is ',np.min(g))\n",
    "print('The highest estimate is ',np.max(g))\n",
    "print('The mean estimate is ',np.mean(g))\n",
    "\n",
    "# None of the students had measurements that were more than 30% off.\n",
    "assert np.allclose(g, 9.8, rtol=0.3)\n",
    "### BEGIN HIDDEN TESTS\n",
    "\n",
    "# Not much to do here, just compare to the right answer\n",
    "#print('Their answer: ',g)\n",
    "true_g = 2*data['H'] / data['t']**2\n",
    "#print('Correct answer: ',true_g)\n",
    "\n",
    "np.testing.assert_allclose(g, true_g)\n",
    "### END HIDDEN TESTS"
   ]
  },
  {
   "cell_type": "code",
   "execution_count": 3,
   "metadata": {
    "nbgrader": {
     "grade": false,
     "grade_id": "cell-56f97e29281a3a3e",
     "locked": false,
     "schema_version": 3,
     "solution": true
    }
   },
   "outputs": [],
   "source": [
    "# Problem 1b\n",
    "def propagate_sigma_g(data):\n",
    "    \"\"\"Calculate the uncertainties in the g measurement based on the reported uncertainties in H and t.\n",
    "    \n",
    "    The input height (H) and time (t) are given as data['H'] and data['t'].\n",
    "    Their respective estimated uncertainties are data['sigma_H'] and data['sigma_t'].\n",
    "    \n",
    "    Returns an array with the corresponding sigma_g values.\n",
    "    \"\"\"\n",
    "    ### BEGIN SOLUTION\n",
    "    # The formula for g is g = 2H/t^2\n",
    "    # The basic error propagation formula is\n",
    "    # sigma_g^2 = (dg/dH)^2 sigma_H^2 + (dg/dt)^2 sigma_t^2\n",
    "    #           = (2/t^2)^2 sigma_H^2 + (-4H/t^3)^2 sigma_t^2\n",
    "    #           = 1/t^6 (4 t^2 sigma_H^2 + 16 H^2 sigma_t^2)\n",
    "    H = data['H']\n",
    "    t = data['t']\n",
    "    # Since the sigmas always show up squared, it's easiest to work with sigsq for everything.\n",
    "    # At the end, we will take the square root.\n",
    "    sigsq_H = data['sigma_H']**2\n",
    "    sigsq_t = data['sigma_t']**2\n",
    "    \n",
    "    sigsq_g = (4 * t**2 * sigsq_H + 16 * H**2 * sigsq_t) / t**6\n",
    "    return np.sqrt(sigsq_g)\n",
    "    ### END SOLUTION"
   ]
  },
  {
   "cell_type": "code",
   "execution_count": 4,
   "metadata": {
    "nbgrader": {
     "grade": true,
     "grade_id": "cell-a7eaa70c36850c7e",
     "locked": true,
     "points": 2,
     "schema_version": 3,
     "solution": false
    }
   },
   "outputs": [
    {
     "name": "stdout",
     "output_type": "stream",
     "text": [
      "The first few calculated uncertainties are:  [0.89680364 0.52736391 1.40753685 1.29654819 1.0052088  1.40511361\n",
      " 0.52327863 1.30351406 0.71850238 0.82814092]\n",
      "The range of sigma_g values is  0.24308647305001324 2.0710334154258025\n",
      "The first few pulls are:  [-0.71764518  0.26121829  1.15265764  0.32080816 -0.48647026]\n",
      "The fraction of points with |pull| < 1 = 0.671\n"
     ]
    }
   ],
   "source": [
    "sigma_g = propagate_sigma_g(data)\n",
    "\n",
    "print('The first few calculated uncertainties are: ',sigma_g[:10])\n",
    "print('The range of sigma_g values is ',np.min(sigma_g),np.max(sigma_g))\n",
    "\n",
    "# The \"pull\" is sometimes a useful quantity to look at.\n",
    "# It is the difference of each measurement from the mean (or expected value) divided by sigma.\n",
    "# For Gaussian errors, you should expect around 68% of values to have pull between -1 and 1.\n",
    "# If this isn't the case, it could mean your errors are poorly estimated, or the distribution is not\n",
    "# Gaussian, or both.\n",
    "\n",
    "pull = (g-np.mean(g)) / sigma_g\n",
    "print('The first few pulls are: ',pull[:5])\n",
    "frac_lt_1 = np.sum(np.abs(pull) < 1) / len(pull)\n",
    "print(f'The fraction of points with |pull| < 1 = {frac_lt_1:0.3f}')\n",
    "### BEGIN HIDDEN TESTS\n",
    "\n",
    "# Again, just compare to the right answer\n",
    "#print('Their answer: ',sigma_g)\n",
    "t = data['t']\n",
    "H = data['H']\n",
    "true_sigma_g = (4 * data['t']**2 * data['sigma_H']**2 \n",
    "                + 16 * data['H']**2 * data['sigma_t']**2)**0.5 / data['t']**3\n",
    "#print('Correct answer: ',true_sigma_g)\n",
    "\n",
    "np.testing.assert_allclose(sigma_g, true_sigma_g)\n",
    "### END HIDDEN TESTS"
   ]
  },
  {
   "cell_type": "code",
   "execution_count": 5,
   "metadata": {
    "nbgrader": {
     "grade": false,
     "grade_id": "cell-170abf58c9232300",
     "locked": false,
     "schema_version": 3,
     "solution": true
    }
   },
   "outputs": [],
   "source": [
    "# Problem 1c\n",
    "def estimate_unweighted_sigma_g(data):\n",
    "    \"\"\"Estimate an overall estimate of the uncertainties in the g values based on the empirical\n",
    "    standard deviation.\n",
    "    \n",
    "    This estimate ignores the students' own estimates of the uncertainties on H and t, and instead\n",
    "    just uses their calculated g values.\n",
    "    \n",
    "    Returns a single (not array) value sigma_g.\n",
    "    \"\"\"\n",
    "    # Hints: 1. Use your calculate_g function to get the array of g values.\n",
    "    #        2. Feel free to use appropriate numpy or scipy functions.\n",
    "    \n",
    "    ### BEGIN SOLUTION\n",
    "    g = calculate_g(data)\n",
    "    # Here we calculate it by hand, but the np.std function is fine to use.\n",
    "    # It's also fine if you don't use the N-1 in the denominator.\n",
    "    # Using it is technically more correct, but the difference rarely matters in practice.\n",
    "    var_g = np.sum((g-np.mean(g))**2) / (len(g)-1)\n",
    "    return np.sqrt(var_g)\n",
    "    ### END SOLUTION"
   ]
  },
  {
   "cell_type": "code",
   "execution_count": 6,
   "metadata": {
    "nbgrader": {
     "grade": true,
     "grade_id": "cell-5e7ecbfe564cab6a",
     "locked": true,
     "points": 2,
     "schema_version": 3,
     "solution": false
    }
   },
   "outputs": [
    {
     "name": "stdout",
     "output_type": "stream",
     "text": [
      "The estimated unweighted sigma_g is 0.8511\n",
      "Compare this to the mean propagated sigma_g: 0.8096\n",
      "Their answer:  0.8510884935927929\n",
      "Valid correct answers:  0.8510884935927928 0.8498717831871401\n"
     ]
    }
   ],
   "source": [
    "unweighted_sigma_g = estimate_unweighted_sigma_g(data)\n",
    "\n",
    "print(f'The estimated unweighted sigma_g is {unweighted_sigma_g:.4f}')\n",
    "print(f'Compare this to the mean propagated sigma_g: {np.mean(sigma_g):.4f}')\n",
    "### BEGIN HIDDEN TESTS\n",
    "\n",
    "# Note: Allow either N or N-1 in the denominator.\n",
    "g = calculate_g(data)\n",
    "num = np.sqrt(np.sum((g - np.mean(g))**2))\n",
    "true_sigma_g_1 = num / (len(g)-1)**0.5\n",
    "true_sigma_g_2 = num / (len(g))**0.5\n",
    "\n",
    "print('Their answer: ',unweighted_sigma_g)\n",
    "print('Valid correct answers: ',true_sigma_g_1, true_sigma_g_2)\n",
    "assert np.isclose(unweighted_sigma_g, true_sigma_g_1) or np.isclose(unweighted_sigma_g_2)\n",
    "\n",
    "### END HIDDEN TESTS"
   ]
  },
  {
   "cell_type": "code",
   "execution_count": 7,
   "metadata": {
    "nbgrader": {
     "grade": false,
     "grade_id": "cell-bea43726cc09b24d",
     "locked": false,
     "schema_version": 3,
     "solution": true
    }
   },
   "outputs": [],
   "source": [
    "# Problem 1d\n",
    "def calculate_unweighted_mle_meang(data):\n",
    "    \"\"\"Estimate the unweighted maximum-likelihood estimate of <g> and its uncertainty.\n",
    "    \n",
    "    This estimate ignores the students' own estimates of the uncertainties on H and t.\n",
    "    \n",
    "    Returns a tuple of two values: <g>, sigma_<g>\n",
    "    \"\"\"\n",
    "    # Hints: 1. Use calculate_g to get the array of g values.\n",
    "    #        2. Use estimate_unweighted_sigma_g for sigma_g.\n",
    "    #        3. Feel free to use appropriate numpy or scipy functions.\n",
    "    \n",
    "    ### BEGIN SOLUTION\n",
    "    g = calculate_g(data)\n",
    "    sigma_g = estimate_unweighted_sigma_g(data)\n",
    "    \n",
    "    meang = np.mean(g)\n",
    "    sigma_meang = sigma_g / len(g)**0.5\n",
    "    return meang, sigma_meang\n",
    "    ### END SOLUTION"
   ]
  },
  {
   "cell_type": "code",
   "execution_count": 8,
   "metadata": {
    "nbgrader": {
     "grade": true,
     "grade_id": "cell-a78b55d1a88424d9",
     "locked": true,
     "points": 2,
     "schema_version": 3,
     "solution": false
    }
   },
   "outputs": [
    {
     "name": "stdout",
     "output_type": "stream",
     "text": [
      "Using unweighted maximum likelihood,\n",
      "the mean estimate of g is 9.8135 +- 0.0455\n",
      "Their answer:  9.81354685188228 0.04549259355499685\n",
      "Correct answer for mean:  9.81354685188228\n",
      "Valid correct answers for sigma:  0.04555772256981239 0.04549259355499685\n",
      "\n",
      "Total of 0 test failures\n"
     ]
    }
   ],
   "source": [
    "meang, sigma_meang = calculate_unweighted_mle_meang(data)\n",
    "\n",
    "print('Using unweighted maximum likelihood,')\n",
    "print(f'the mean estimate of g is {meang:0.4f} +- {sigma_meang:0.4f}')\n",
    "### BEGIN HIDDEN TESTS\n",
    "\n",
    "# This code snippet lets us just log the test failures so we can see all the things that fail, rather than\n",
    "# bomb out on the first failure.  Then at the end, we just assert that there were 0 failures to get the\n",
    "# automatic grading to give points.\n",
    "nfail=0\n",
    "from contextlib import contextmanager\n",
    "import traceback\n",
    "@contextmanager\n",
    "def log_assert():\n",
    "    global nfail\n",
    "    try:\n",
    "        yield\n",
    "    except AssertionError as e:\n",
    "        print('Failed assert:')\n",
    "        print(traceback.format_stack()[-3].split('\\n')[1])\n",
    "        print('    msg =',str(e))\n",
    "        nfail += 1\n",
    "\n",
    "print('Their answer: ',meang, sigma_meang)\n",
    "g = calculate_g(data)\n",
    "unweighted_sigma_g = estimate_unweighted_sigma_g(data)\n",
    "true_meang = np.mean(g)\n",
    "print('Correct answer for mean: ',true_meang)\n",
    "with log_assert():\n",
    "    assert np.isclose(meang, true_meang), (meang, true_meang)\n",
    "\n",
    "# Note: Allow either N or N-1 in the denominator.\n",
    "true_sigma_meang_1 = unweighted_sigma_g / (len(g)-1)**0.5\n",
    "true_sigma_meang_2 = unweighted_sigma_g / len(g)**0.5\n",
    "\n",
    "print('Valid correct answers for sigma: ',true_sigma_meang_1, true_sigma_meang_2)\n",
    "with log_assert():\n",
    "    assert np.isclose(sigma_meang, true_sigma_meang_1) or np.isclose(sigma_meang, true_sigma_meang_2),\\\n",
    "        (sigma_meang, true_sigma_meang_1, true_sigma_meang_2)\n",
    "    \n",
    "print(f\"\\nTotal of {nfail} test failures\")\n",
    "assert nfail == 0\n",
    "### END HIDDEN TESTS"
   ]
  },
  {
   "cell_type": "code",
   "execution_count": 9,
   "metadata": {
    "nbgrader": {
     "grade": false,
     "grade_id": "cell-1c8345aa8fc79703",
     "locked": false,
     "schema_version": 3,
     "solution": true
    }
   },
   "outputs": [],
   "source": [
    "# Problem 1e\n",
    "def calculate_weighted_mle_meang(data):\n",
    "    \"\"\"Estimate the inverse-variance weighted maximum-likelihood estimate of <g> and its uncertainty.\n",
    "    \n",
    "    This estimate uses the students' own estimates of the uncertainties on H and t to propagate\n",
    "    into a separate estimate of sigma_g for each data point.\n",
    "    \n",
    "    Returns a tuple of two values: <g>, sigma_<g>\n",
    "    \"\"\"\n",
    "    # Hints: 1. Use calculate_g to get the array of g values.\n",
    "    #        2. Use propagate_sigma_g for sigma_g.\n",
    "    #        3. Feel free to use appropriate numpy or scipy functions.\n",
    "    \n",
    "    ### BEGIN SOLUTION\n",
    "    g = calculate_g(data)\n",
    "    sigma_g = propagate_sigma_g(data)\n",
    "    \n",
    "    # The formula is <g> = Sum(g/sigma_g^2) / Sum(1/sigma_g^2)\n",
    "    num = np.sum(g/sigma_g**2)\n",
    "    denom = np.sum(1/sigma_g**2)\n",
    "    meang = num / denom\n",
    "    \n",
    "    # The uncertainty in the mean is sigma_<g>^2 = 1/Sum(1/sigma_g^2))\n",
    "    sigma_meang = 1. / np.sum(1. / sigma_g**2)**0.5\n",
    "    return meang, sigma_meang\n",
    "    ### END SOLUTION"
   ]
  },
  {
   "cell_type": "code",
   "execution_count": 10,
   "metadata": {
    "nbgrader": {
     "grade": true,
     "grade_id": "cell-c4ec5ce4734450e2",
     "locked": true,
     "points": 2,
     "schema_version": 3,
     "solution": false
    }
   },
   "outputs": [
    {
     "name": "stdout",
     "output_type": "stream",
     "text": [
      "Using weighted maximum likelihood,\n",
      "The mean estimate of g is 9.7531 +- 0.0306\n",
      "Their answer:  9.753074085349953 0.03057998018874849\n",
      "Correct answer for mean:  9.753074085349953\n",
      "Correct answer for sigma:  0.03057998018874849\n",
      "\n",
      "Total of 0 test failures\n"
     ]
    }
   ],
   "source": [
    "meang, sigma_meang = calculate_weighted_mle_meang(data)\n",
    "\n",
    "print('Using weighted maximum likelihood,')\n",
    "print(f'The mean estimate of g is {meang:0.4f} +- {sigma_meang:0.4f}')\n",
    "\n",
    "### BEGIN HIDDEN TESTS\n",
    "\n",
    "print('Their answer: ',meang, sigma_meang)\n",
    "g = calculate_g(data)\n",
    "sigma_g = propagate_sigma_g(data)\n",
    "num = np.sum(g/sigma_g**2)\n",
    "denom = np.sum(1/sigma_g**2)\n",
    "true_meang = num / denom\n",
    "true_sigma_meang = 1. / np.sum(1. / sigma_g**2)**0.5\n",
    "\n",
    "print('Correct answer for mean: ',true_meang)\n",
    "with log_assert():\n",
    "    assert np.isclose(meang, true_meang), meang\n",
    "\n",
    "print('Correct answer for sigma: ',true_sigma_meang)\n",
    "with log_assert():\n",
    "    assert np.isclose(sigma_meang, true_sigma_meang), sigma_meang\n",
    "\n",
    "print(f\"\\nTotal of {nfail} test failures\")\n",
    "assert nfail == 0\n",
    "### END HIDDEN TESTS"
   ]
  },
  {
   "cell_type": "markdown",
   "metadata": {
    "nbgrader": {
     "grade": false,
     "grade_id": "cell-3e3524085971a395",
     "locked": true,
     "schema_version": 3,
     "solution": false
    }
   },
   "source": [
    "**Question 2:**\n",
    "\n",
    "CODING: Using the same dataset as above:\n",
    "\n",
    "(a) (3 pts) Calculate the $\\chi^2$ value defined as:\n",
    "\n",
    "\\begin{equation}\n",
    "      \\chi^2 = \\sum_{i=0}^{N-1} \\left( \\frac{g_i - \\mu^\\prime}{\\sigma_{g_i}} \\right)^2\n",
    "\\end{equation}\n",
    "    \n",
    "where $\\mu^\\prime$ is the inverse-variance weighted MLE of the mean of $\\{g_i\\}$\n",
    "from 1(c).\n",
    "     \n",
    "(b) (4 pts) Now calculate the $\\chi^2$ value as a function of $\\mu^\\prime$ from\n",
    "     $\\mu^\\prime = 9.6$ to 10.0 in steps of 0.001 and show that the value of\n",
    "     $\\mu^\\prime$ that minimizes the $\\chi^2$ is indeed given by the answer from 1(c).\n",
    "     \n",
    "(c) (4 pts) Finally, determine the lower and upper values of $\\mu^\\prime$ at which the\n",
    "     $\\chi^2$ is larger than the minimum value by 1.00.  \n",
    "     (NOTE: These values should match the $\\pm 1\\sigma$ range from\n",
    "     the MLE in part 1(e) and is another way to perform parameter estimation using the\n",
    "     $\\chi^2$ statistic.)\n",
    "     \n",
    "(d) **EXTRA CREDIT**: (2 pts) Make a single plot that shows all of these facts with appropriate labels to show the important features.\n",
    "     "
   ]
  },
  {
   "cell_type": "code",
   "execution_count": 11,
   "metadata": {
    "nbgrader": {
     "grade": false,
     "grade_id": "cell-1271569e81dd4c09",
     "locked": false,
     "schema_version": 3,
     "solution": true
    }
   },
   "outputs": [],
   "source": [
    "# Problem 2a\n",
    "def calculate_mle_chisq(data):\n",
    "    \"\"\"Calculate chisq for the inverse-variance weighted MLE estimate of mu'.\n",
    "    \n",
    "    The sigma_g values are based on the students' estimated uncertainties sigma_H and sigma_t.\n",
    "    \n",
    "    Returns chisq\n",
    "    \"\"\"\n",
    "    # Hints: 1. Use calculate_g to get the array of g values.\n",
    "    #        2. Use propagate_sigma_g for sigma_g.\n",
    "    #        3. Use calculate_weighted_mle_meang to get mu'.\n",
    "\n",
    "    ### BEGIN SOLUTION\n",
    "    g = calculate_g(data)\n",
    "    sigma_g = propagate_sigma_g(data)\n",
    "    \n",
    "    # Note: a common python-ism for ignoring one or more return values in a tuple is to assign them to _.\n",
    "    # In this case, we don't need sigma_meang, so just ignore it.\n",
    "    mu, _ = calculate_weighted_mle_meang(data)\n",
    "    \n",
    "    chisq = np.sum(((g-mu)/sigma_g)**2)\n",
    "    return chisq\n",
    "    ### END SOLUTION"
   ]
  },
  {
   "cell_type": "code",
   "execution_count": 12,
   "metadata": {
    "nbgrader": {
     "grade": true,
     "grade_id": "cell-3aa2c1ae4df5699d",
     "locked": true,
     "points": 3,
     "schema_version": 3,
     "solution": false
    }
   },
   "outputs": [
    {
     "name": "stdout",
     "output_type": "stream",
     "text": [
      "The chisq estimate for the MLE estimate of <g> is 376.27\n",
      "This should be roughly comparable to the number of data points:  350\n",
      "Their answer:  376.27029481662527\n",
      "Correct answer:  376.27029481662527\n"
     ]
    }
   ],
   "source": [
    "chisq = calculate_mle_chisq(data)\n",
    "\n",
    "print(f'The chisq estimate for the MLE estimate of <g> is {chisq:.2f}')\n",
    "print('This should be roughly comparable to the number of data points: ',len(data))\n",
    "\n",
    "### BEGIN HIDDEN TESTS\n",
    "\n",
    "print('Their answer: ',chisq)\n",
    "g = calculate_g(data)\n",
    "sigma_g = propagate_sigma_g(data)\n",
    "mu, _ = calculate_weighted_mle_meang(data)\n",
    "true_chisq = np.sum(((g-mu)/sigma_g)**2)\n",
    "\n",
    "print('Correct answer: ',true_chisq)\n",
    "assert np.isclose(chisq, true_chisq), (chisq, true_chisq)\n",
    "### END HIDDEN TESTS"
   ]
  },
  {
   "cell_type": "code",
   "execution_count": 13,
   "metadata": {
    "nbgrader": {
     "grade": false,
     "grade_id": "cell-2455b279544891cc",
     "locked": false,
     "schema_version": 3,
     "solution": true
    }
   },
   "outputs": [],
   "source": [
    "# Problem 2b\n",
    "def calculate_chisq_range(data, min_mu, max_mu):\n",
    "    \"\"\"Calculate chisq over a range of mu values from min_mu to max_mu in steps of 0.001\n",
    "    \n",
    "    This function will generate an array of mu values over the given range.\n",
    "    For each value of mu, it will calculate the corresponding chisq value.\n",
    "\n",
    "    The sigma_g values are based on the students' estimated uncertainties sigma_H and sigma_t.\n",
    "\n",
    "    Note: The output mu values should be monotonically increasing.\n",
    "    \n",
    "    Returns mu_array, chisq_array as arrays of equal length.\n",
    "    \"\"\"\n",
    "    # Hints: 1. Use calculate_g to get the array of g values.\n",
    "    #        2. Use propagate_sigma_g for sigma_g.\n",
    "    \n",
    "    ### BEGIN SOLUTION\n",
    "    g = calculate_g(data)\n",
    "    sigma_g = propagate_sigma_g(data)\n",
    "    delta = 0.001\n",
    "    \n",
    "    npoints = int(np.rint((max_mu-min_mu)/delta + 1))  # rint rounds to the nearest integer.\n",
    "    mu_array = np.linspace(min_mu, max_mu, npoints, endpoint=True)\n",
    "    chisq_array = np.array([np.sum(((g-mu)/sigma_g)**2) for mu in mu_array])\n",
    "    return mu_array, chisq_array\n",
    "    ### END SOLUTION\n",
    "    \n",
    "def find_minimum_chisq(mu_array, chisq_array):\n",
    "    \"\"\"Find the minimum chisq and its corresponding mu, given arrays of each.\n",
    "    \n",
    "    Returns mu_minimum, chisq_minimum\n",
    "    \"\"\"\n",
    "    # Hint: np.min(chisq_array) will return the value of the minimum.  There is another\n",
    "    #       numpy function that will instead give you the index of the minimum, which \n",
    "    #       will let you access the corresponding element from mu_array.\n",
    "    \n",
    "    ### BEGIN SOLUTION\n",
    "    min_index = np.argmin(chisq_array)\n",
    "    mu_minimum = mu_array[min_index]\n",
    "    chisq_minimum = chisq_array[min_index]\n",
    "    return mu_minimum, chisq_minimum\n",
    "    ### END SOLUTION"
   ]
  },
  {
   "cell_type": "code",
   "execution_count": 14,
   "metadata": {
    "nbgrader": {
     "grade": true,
     "grade_id": "cell-a0eb33676e14875d",
     "locked": true,
     "points": 4,
     "schema_version": 3,
     "solution": false
    }
   },
   "outputs": [
    {
     "name": "stdout",
     "output_type": "stream",
     "text": [
      "The minimum chisq in steps of 0.001 is 376.2703\n",
      "mu at the minimum is 9.753\n",
      "\n",
      "For comparison:\n",
      "chisq at the MLE solution is 376.270\n",
      "The MLE estimate of mu is 9.753\n",
      "\n",
      "Total of 0 test failures\n"
     ]
    }
   ],
   "source": [
    "mu_array, chisq_array = calculate_chisq_range(data, 9.6, 10.0)\n",
    "mu_minimum, chisq_minimum = find_minimum_chisq(mu_array, chisq_array)\n",
    "\n",
    "print(f'The minimum chisq in steps of 0.001 is {chisq_minimum:.4f}')\n",
    "print(f'mu at the minimum is {mu_minimum:.3f}')\n",
    "assert chisq_minimum == np.min(chisq_array)\n",
    "\n",
    "# Do this again for comparison.\n",
    "chisq_mle = calculate_mle_chisq(data)\n",
    "\n",
    "print('\\nFor comparison:')\n",
    "print(f'chisq at the MLE solution is {chisq_mle:.3f}')\n",
    "print(f'The MLE estimate of mu is {calculate_weighted_mle_meang(data)[0]:.3f}')\n",
    "assert np.isclose(chisq_minimum, chisq_mle, rtol=1.e-3)\n",
    "### BEGIN HIDDEN TESTS\n",
    "\n",
    "# Check that mu_array has right range and step size\n",
    "with log_assert():\n",
    "    assert np.isclose(np.min(mu_array), 9.6), np.min(mu_array)\n",
    "    \n",
    "with log_assert():\n",
    "    assert np.isclose(np.max(mu_array), 10.0), np.max(mu_array)\n",
    "    \n",
    "with log_assert():\n",
    "    assert np.allclose(np.diff(mu_array), 1.e-3), np.diff(mu_array)\n",
    "\n",
    "# Check that chisq is correct\n",
    "g = calculate_g(data)\n",
    "sigma_g = propagate_sigma_g(data)\n",
    "correct_chisq_array = np.array([np.sum(((g-mu)/sigma_g)**2) for mu in mu_array])\n",
    "#print('Their chisq_array = ',chisq_array[:10])\n",
    "#print('Correct chisq_array = ',correct_chisq_array[:10])\n",
    "with log_assert():\n",
    "    assert np.allclose(chisq_array, correct_chisq_array, rtol=1.e-3), chisq_array\n",
    "\n",
    "# Check that mu_minimum is right.\n",
    "with log_assert():\n",
    "    assert np.all(chisq_minimum <= chisq_array)\n",
    "with log_assert():\n",
    "    assert mu_minimum in mu_array\n",
    "#print('mu_array = ',mu_array)\n",
    "i_min = np.where(mu_array == mu_minimum)\n",
    "#print('i_min = ',i_min)\n",
    "assert mu_array[i_min] == mu_minimum  # This is what where is supposed to mean.\n",
    "with log_assert():\n",
    "    assert np.isclose(chisq_minimum, chisq_array[i_min]), (chisq_minimum, chisq_array[i_min])\n",
    "\n",
    "print(f\"\\nTotal of {nfail} test failures\")\n",
    "assert nfail == 0\n",
    "### END HIDDEN TESTS"
   ]
  },
  {
   "cell_type": "code",
   "execution_count": 15,
   "metadata": {
    "nbgrader": {
     "grade": false,
     "grade_id": "cell-5378b5e5ba3dbabd",
     "locked": false,
     "schema_version": 3,
     "solution": true
    }
   },
   "outputs": [],
   "source": [
    "# Problem 2c:\n",
    "def find_one_sigma_range(mu_array, chisq_array):\n",
    "    \"\"\"Find a range of mu values where chisq < min_chisq + 1.0, given arrays of mu and chisq.\n",
    "    \n",
    "    Note: the input values in mu_array may be assumed to be monotonically increasing.\n",
    "    \n",
    "    Returns min_mu, max_mu.\n",
    "    \"\"\"\n",
    "    ### BEGIN SOLUTION\n",
    "    min_chisq = np.min(chisq_array)\n",
    "    good_mus = mu_array[chisq_array < min_chisq + 1.0]\n",
    "    return good_mus[0], good_mus[-1]\n",
    "    ### END SOLUTION"
   ]
  },
  {
   "cell_type": "code",
   "execution_count": 16,
   "metadata": {
    "nbgrader": {
     "grade": true,
     "grade_id": "cell-29bbcec283878d3e",
     "locked": true,
     "points": 4,
     "schema_version": 3,
     "solution": false
    }
   },
   "outputs": [
    {
     "name": "stdout",
     "output_type": "stream",
     "text": [
      "Range where chiq < (376.27 + 1) is 9.723 < mu < 9.783\n",
      "\n",
      "For comparison with 1(e):\n",
      "The MLE estimate would predict 9.722 < mu < 9.784\n",
      "Their answers =  9.722999999999999 9.783\n",
      "\n",
      "Total of 0 test failures\n"
     ]
    }
   ],
   "source": [
    "min_mu, max_mu = find_one_sigma_range(mu_array, chisq_array)\n",
    "print(f'Range where chiq < ({chisq_minimum:.2f} + 1) is {min_mu:.3f} < mu < {max_mu:.3f}')\n",
    "\n",
    "print('\\nFor comparison with 1(e):')\n",
    "meang, sigma_meang = calculate_weighted_mle_meang(data)\n",
    "print(f'The MLE estimate would predict {meang-sigma_meang:.3f} < mu < {meang+sigma_meang:.3f}')\n",
    "### BEGIN HIDDEN TESTS\n",
    "\n",
    "print('Their answers = ',min_mu, max_mu)\n",
    "# Check that all mu in their range have \n",
    "with log_assert():\n",
    "    assert np.isclose(np.min(mu_array), 9.6), np.min(mu_array)\n",
    "    \n",
    "with log_assert():\n",
    "    assert np.isclose(np.max(mu_array), 10.0), np.max(mu_array)\n",
    "    \n",
    "with log_assert():\n",
    "    assert np.allclose(np.diff(mu_array), 1.e-3), np.diff(mu_array)\n",
    "\n",
    "# Check that chisq is correct\n",
    "g = calculate_g(data)\n",
    "sigma_g = propagate_sigma_g(data)\n",
    "correct_chisq_array = np.array([np.sum(((g-mu)/sigma_g)**2) for mu in mu_array])\n",
    "#print('Their chisq_array = ',chisq_array[:10])\n",
    "#print('Correct chisq_array = ',correct_chisq_array[:10])\n",
    "with log_assert():\n",
    "    assert np.allclose(chisq_array, correct_chisq_array, rtol=1.e-3), (chisq_array, correct_chisq_array)\n",
    "\n",
    "# Check that mu_minimum is right.\n",
    "with log_assert():\n",
    "    assert np.all(chisq_minimum <= chisq_array)\n",
    "with log_assert():\n",
    "    assert mu_minimum in mu_array\n",
    "i_min = np.where(mu_array == mu_minimum)\n",
    "assert mu_array[i_min] == mu_minimum  # This is what where means!\n",
    "with log_assert():\n",
    "    assert np.isclose(chisq_minimum, chisq_array[i_min]), (chisq_minimum, chisq_array[i_min])\n",
    "\n",
    "print(f\"\\nTotal of {nfail} test failures\")\n",
    "assert nfail == 0\n",
    "### END HIDDEN TESTS"
   ]
  },
  {
   "cell_type": "code",
   "execution_count": 17,
   "metadata": {
    "nbgrader": {
     "grade": true,
     "grade_id": "cell-e479f304d9a0635a",
     "locked": false,
     "points": 2,
     "schema_version": 3,
     "solution": true
    }
   },
   "outputs": [
    {
     "data": {
      "image/png": "[encoded data removed]",
      "text/plain": [
       "<Figure size 1600x600 with 1 Axes>"
      ]
     },
     "metadata": {},
     "output_type": "display_data"
    }
   ],
   "source": [
    "# Problem 2d (EXTRA CREDIT)\n",
    "\n",
    "### BEGIN SOLUTION\n",
    "# Note to TAs: They don't need to use latex for their labels, but they should give some labels to get full credit.\n",
    "# And since this was open ended, allow some variety in how they label things.  The main things are to show in\n",
    "# some way the minimum chisq and 1 sigma range.\n",
    "\n",
    "import matplotlib\n",
    "import matplotlib.pyplot as plt\n",
    "%matplotlib inline\n",
    "\n",
    "# These setup bits just make the plot a bit nicer.  They aren't required to get credit.\n",
    "matplotlib.rc('xtick', labelsize=20) # Increase some of the font sizes from their defaults\n",
    "matplotlib.rc('ytick', labelsize=20) \n",
    "matplotlib.rc('font', size=30)\n",
    "matplotlib.rc('text', usetex=True)  # Allow LaTex in plot labels and in-plot text\n",
    "\n",
    "fig, ax = plt.subplots(1, figsize=(16,6))\n",
    "\n",
    "ax.set_xlim(9.70, 9.80)\n",
    "ax.set_ylim(376, 380)\n",
    "ax.plot(mu_array, chisq_array)\n",
    "# Note: You don't need to use latex for the labels, but you do need to give some labels to get full credit.\n",
    "ax.set_xlabel(r'$\\mu^\\prime$')\n",
    "ax.set_ylabel(r'$\\chi^2$')\n",
    "ax.plot(mu_minimum, chisq_minimum, color='red', marker='x', markersize=15)  # Draw red X\n",
    "ax.axhline(chisq_minimum+1, color='green', ls='--')  # Draw horizontal line at min_chisq + 1\n",
    "ax.axvline(min_mu, color='blue', ls=':')  # Draw vertical lines at min_mu, max_mu\n",
    "ax.axvline(max_mu, color='blue', ls=':')\n",
    "ax.text(9.73, 379.5, r\"$\\langle g \\rangle = {:0.3f}$\".format(meang))\n",
    "ax.text(9.73, 379, r\"$\\chi^2 = {:0.3f}$\".format(chisq_mle))\n",
    "ax.text(9.73, 378.5, r\"$1 \\sigma$ confidence interval: $[{:0.3f}, {:0.3f}]$\".format(meang-sigma_meang,meang+sigma_meang))\n",
    "\n",
    "plt.show()\n",
    "### END SOLUTION"
   ]
  },
  {
   "cell_type": "code",
   "execution_count": null,
   "metadata": {},
   "outputs": [],
   "source": []
  }
 ],
 "metadata": {
  "celltoolbar": "Create Assignment",
  "kernelspec": {
   "display_name": "Python 3 (ipykernel)",
   "language": "python",
   "name": "python3"
  },
  "language_info": {
   "codemirror_mode": {
    "name": "ipython",
    "version": 3
   },
   "file_extension": ".py",
   "mimetype": "text/x-python",
   "name": "python",
   "nbconvert_exporter": "python",
   "pygments_lexer": "ipython3",
   "version": "3.10.6"
  }
 },
 "nbformat": 4,
 "nbformat_minor": 4
}
