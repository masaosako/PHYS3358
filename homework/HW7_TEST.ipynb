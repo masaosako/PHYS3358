{
 "cells": [
  {
   "cell_type": "markdown",
   "metadata": {},
   "source": [
    "# HW7"
   ]
  },
  {
   "cell_type": "code",
   "execution_count": 22,
   "metadata": {},
   "outputs": [],
   "source": [
    "import numpy as np\n",
    "import matplotlib.pyplot as plt"
   ]
  },
  {
   "cell_type": "code",
   "execution_count": 25,
   "metadata": {},
   "outputs": [],
   "source": [
    "# load data and generate x, y, sigy arrays\n",
    "data1   = np.genfromtxt('Riggs.dat')\n",
    "x = data1[:, 0]\n",
    "y = data1[:, 1]\n",
    "sigy = np.sqrt(y)"
   ]
  },
  {
   "cell_type": "code",
   "execution_count": 26,
   "metadata": {},
   "outputs": [
    {
     "data": {
      "text/plain": [
       "<ErrorbarContainer object of 3 artists>"
      ]
     },
     "execution_count": 26,
     "metadata": {},
     "output_type": "execute_result"
    },
    {
     "data": {
      "image/png": "[encoded data removed]",
      "text/plain": [
       "<Figure size 640x480 with 1 Axes>"
      ]
     },
     "metadata": {},
     "output_type": "display_data"
    }
   ],
   "source": [
    "plt.errorbar(x, y, sigy, fmt='o')"
   ]
  },
  {
   "cell_type": "markdown",
   "metadata": {},
   "source": [
    "We need to solve for $$\\mathbf{\\hat{A}} = (\\mathbf{G}^T \\mathbf{E}^{-1} \\mathbf{G)^{-1}} \\mathbf{G}^T \\mathbf{E}^{-1} \\mathbf{D}$$ where $\\mathbf{G}$ is the $N \\times M$ design matrix ($N=100$ and $M=4$ in our case), $\\mathbf{E}$ is the $N \\times N$ data covariance matrix (here, it is diagonal), and $\\mathbf{D}$ is the response vector."
   ]
  },
  {
   "cell_type": "code",
   "execution_count": 7,
   "metadata": {},
   "outputs": [
    {
     "data": {
      "text/plain": [
       "array([ 277.00000,  254.00000,  252.00000,  265.00000,  266.00000,\n",
       "        266.00000,  274.00000,  285.00000,  299.00000,  286.00000,\n",
       "        307.00000,  297.00000,  277.00000,  299.00000,  300.00000,\n",
       "        283.00000,  290.00000,  297.00000,  284.00000,  328.00000,\n",
       "        296.00000,  321.00000,  330.00000,  325.00000,  331.00000,\n",
       "        332.00000,  388.00000,  339.00000,  366.00000,  368.00000,\n",
       "        345.00000,  403.00000,  388.00000,  422.00000,  431.00000,\n",
       "        413.00000,  415.00000,  394.00000,  431.00000,  401.00000,\n",
       "        443.00000,  425.00000,  487.00000,  502.00000,  489.00000,\n",
       "        499.00000,  499.00000,  525.00000,  540.00000,  515.00000,\n",
       "        506.00000,  563.00000,  578.00000,  583.00000,  589.00000,\n",
       "        588.00000,  615.00000,  639.00000,  635.00000,  664.00000,\n",
       "        650.00000,  706.00000,  678.00000,  669.00000,  783.00000,\n",
       "        830.00000,  823.00000,  832.00000,  918.00000,  865.00000,\n",
       "        896.00000,  916.00000,  812.00000,  864.00000,  826.00000,\n",
       "        881.00000,  882.00000,  915.00000,  894.00000,  989.00000,\n",
       "        970.00000,  991.00000,  976.00000,  976.00000,  1029.00000,\n",
       "        1028.00000,  1042.00000,  1055.00000,  1056.00000,  1137.00000,\n",
       "        1130.00000,  1111.00000,  1151.00000,  1186.00000,  1223.00000,\n",
       "        1274.00000,  1208.00000,  1314.00000,  1301.00000,  1317.00000])"
      ]
     },
     "execution_count": 7,
     "metadata": {},
     "output_type": "execute_result"
    }
   ],
   "source": [
    "# variance vector\n",
    "vars = np.array(sigy*sigy)\n",
    "vars"
   ]
  },
  {
   "cell_type": "code",
   "execution_count": 8,
   "metadata": {},
   "outputs": [
    {
     "data": {
      "text/plain": [
       "array([[ 277.00000,  0.00000,  0.00000, ...,  0.00000,  0.00000,\n",
       "         0.00000],\n",
       "       [ 0.00000,  254.00000,  0.00000, ...,  0.00000,  0.00000,\n",
       "         0.00000],\n",
       "       [ 0.00000,  0.00000,  252.00000, ...,  0.00000,  0.00000,\n",
       "         0.00000],\n",
       "       ...,\n",
       "       [ 0.00000,  0.00000,  0.00000, ...,  1314.00000,  0.00000,\n",
       "         0.00000],\n",
       "       [ 0.00000,  0.00000,  0.00000, ...,  0.00000,  1301.00000,\n",
       "         0.00000],\n",
       "       [ 0.00000,  0.00000,  0.00000, ...,  0.00000,  0.00000,\n",
       "         1317.00000]])"
      ]
     },
     "execution_count": 8,
     "metadata": {},
     "output_type": "execute_result"
    }
   ],
   "source": [
    "# data covariance matrix (diagonal of variances; no covariance)\n",
    "E = np.diag(vars)\n",
    "E"
   ]
  },
  {
   "cell_type": "code",
   "execution_count": 9,
   "metadata": {},
   "outputs": [
    {
     "data": {
      "text/plain": [
       "array([[ 0.00361,  0.00000,  0.00000, ...,  0.00000,  0.00000,  0.00000],\n",
       "       [ 0.00000,  0.00394,  0.00000, ...,  0.00000,  0.00000,  0.00000],\n",
       "       [ 0.00000,  0.00000,  0.00397, ...,  0.00000,  0.00000,  0.00000],\n",
       "       ...,\n",
       "       [ 0.00000,  0.00000,  0.00000, ...,  0.00076,  0.00000,  0.00000],\n",
       "       [ 0.00000,  0.00000,  0.00000, ...,  0.00000,  0.00077,  0.00000],\n",
       "       [ 0.00000,  0.00000,  0.00000, ...,  0.00000,  0.00000,  0.00076]])"
      ]
     },
     "execution_count": 9,
     "metadata": {},
     "output_type": "execute_result"
    }
   ],
   "source": [
    "# inverse of E\n",
    "Einv = np.linalg.inv(E)\n",
    "Einv"
   ]
  },
  {
   "cell_type": "markdown",
   "metadata": {},
   "source": [
    "The design matrix is $N \\times M$."
   ]
  },
  {
   "cell_type": "code",
   "execution_count": 10,
   "metadata": {},
   "outputs": [
    {
     "data": {
      "text/plain": [
       "array([ 1.00000,  1.00000,  1.00000,  1.00000,  1.00000,  1.00000,\n",
       "        1.00000,  1.00000,  1.00000,  1.00000,  1.00000,  1.00000,\n",
       "        1.00000,  1.00000,  1.00000,  1.00000,  1.00000,  1.00000,\n",
       "        1.00000,  1.00000,  1.00000,  1.00000,  1.00000,  1.00000,\n",
       "        1.00000,  1.00000,  1.00000,  1.00000,  1.00000,  1.00000,\n",
       "        1.00000,  1.00000,  1.00000,  1.00000,  1.00000,  1.00000,\n",
       "        1.00000,  1.00000,  1.00000,  1.00000,  1.00000,  1.00000,\n",
       "        1.00000,  1.00000,  1.00000,  1.00000,  1.00000,  1.00000,\n",
       "        1.00000,  1.00000,  1.00000,  1.00000,  1.00000,  1.00000,\n",
       "        1.00000,  1.00000,  1.00000,  1.00000,  1.00000,  1.00000,\n",
       "        1.00000,  1.00000,  1.00000,  1.00000,  1.00000,  1.00000,\n",
       "        1.00000,  1.00000,  1.00000,  1.00000,  1.00000,  1.00000,\n",
       "        1.00000,  1.00000,  1.00000,  1.00000,  1.00000,  1.00000,\n",
       "        1.00000,  1.00000,  1.00000,  1.00000,  1.00000,  1.00000,\n",
       "        1.00000,  1.00000,  1.00000,  1.00000,  1.00000,  1.00000,\n",
       "        1.00000,  1.00000,  1.00000,  1.00000,  1.00000,  1.00000,\n",
       "        1.00000,  1.00000,  1.00000,  1.00000])"
      ]
     },
     "execution_count": 10,
     "metadata": {},
     "output_type": "execute_result"
    }
   ],
   "source": [
    "# first row of the design matrix G is the constant term.\n",
    "G1 = np.ones_like(x)\n",
    "G1"
   ]
  },
  {
   "cell_type": "code",
   "execution_count": 27,
   "metadata": {},
   "outputs": [
    {
     "data": {
      "text/plain": [
       "array([ 1.00000,  2.00000,  3.00000,  4.00000,  5.00000,  6.00000,\n",
       "        7.00000,  8.00000,  9.00000,  10.00000,  11.00000,  12.00000,\n",
       "        13.00000,  14.00000,  15.00000,  16.00000,  17.00000,  18.00000,\n",
       "        19.00000,  20.00000,  21.00000,  22.00000,  23.00000,  24.00000,\n",
       "        25.00000,  26.00000,  27.00000,  28.00000,  29.00000,  30.00000,\n",
       "        31.00000,  32.00000,  33.00000,  34.00000,  35.00000,  36.00000,\n",
       "        37.00000,  38.00000,  39.00000,  40.00000,  41.00000,  42.00000,\n",
       "        43.00000,  44.00000,  45.00000,  46.00000,  47.00000,  48.00000,\n",
       "        49.00000,  50.00000,  51.00000,  52.00000,  53.00000,  54.00000,\n",
       "        55.00000,  56.00000,  57.00000,  58.00000,  59.00000,  60.00000,\n",
       "        61.00000,  62.00000,  63.00000,  64.00000,  65.00000,  66.00000,\n",
       "        67.00000,  68.00000,  69.00000,  70.00000,  71.00000,  72.00000,\n",
       "        73.00000,  74.00000,  75.00000,  76.00000,  77.00000,  78.00000,\n",
       "        79.00000,  80.00000,  81.00000,  82.00000,  83.00000,  84.00000,\n",
       "        85.00000,  86.00000,  87.00000,  88.00000,  89.00000,  90.00000,\n",
       "        91.00000,  92.00000,  93.00000,  94.00000,  95.00000,  96.00000,\n",
       "        97.00000,  98.00000,  99.00000,  100.00000])"
      ]
     },
     "execution_count": 27,
     "metadata": {},
     "output_type": "execute_result"
    }
   ],
   "source": [
    "# second row is the linear term\n",
    "G2 = x\n",
    "G2"
   ]
  },
  {
   "cell_type": "code",
   "execution_count": 28,
   "metadata": {},
   "outputs": [
    {
     "data": {
      "text/plain": [
       "array([ 1.00000,  4.00000,  9.00000,  16.00000,  25.00000,  36.00000,\n",
       "        49.00000,  64.00000,  81.00000,  100.00000,  121.00000,\n",
       "        144.00000,  169.00000,  196.00000,  225.00000,  256.00000,\n",
       "        289.00000,  324.00000,  361.00000,  400.00000,  441.00000,\n",
       "        484.00000,  529.00000,  576.00000,  625.00000,  676.00000,\n",
       "        729.00000,  784.00000,  841.00000,  900.00000,  961.00000,\n",
       "        1024.00000,  1089.00000,  1156.00000,  1225.00000,  1296.00000,\n",
       "        1369.00000,  1444.00000,  1521.00000,  1600.00000,  1681.00000,\n",
       "        1764.00000,  1849.00000,  1936.00000,  2025.00000,  2116.00000,\n",
       "        2209.00000,  2304.00000,  2401.00000,  2500.00000,  2601.00000,\n",
       "        2704.00000,  2809.00000,  2916.00000,  3025.00000,  3136.00000,\n",
       "        3249.00000,  3364.00000,  3481.00000,  3600.00000,  3721.00000,\n",
       "        3844.00000,  3969.00000,  4096.00000,  4225.00000,  4356.00000,\n",
       "        4489.00000,  4624.00000,  4761.00000,  4900.00000,  5041.00000,\n",
       "        5184.00000,  5329.00000,  5476.00000,  5625.00000,  5776.00000,\n",
       "        5929.00000,  6084.00000,  6241.00000,  6400.00000,  6561.00000,\n",
       "        6724.00000,  6889.00000,  7056.00000,  7225.00000,  7396.00000,\n",
       "        7569.00000,  7744.00000,  7921.00000,  8100.00000,  8281.00000,\n",
       "        8464.00000,  8649.00000,  8836.00000,  9025.00000,  9216.00000,\n",
       "        9409.00000,  9604.00000,  9801.00000,  10000.00000])"
      ]
     },
     "execution_count": 28,
     "metadata": {},
     "output_type": "execute_result"
    }
   ],
   "source": [
    "# third row is the quadratic term\n",
    "G3 = x*x\n",
    "G3"
   ]
  },
  {
   "cell_type": "code",
   "execution_count": 29,
   "metadata": {},
   "outputs": [
    {
     "data": {
      "text/plain": [
       "array([ 0.00000,  0.00000,  0.00000,  0.00000,  0.00000,  0.00000,\n",
       "        0.00000,  0.00000,  0.00000,  0.00000,  0.00000,  0.00000,\n",
       "        0.00000,  0.00000,  0.00000,  0.00000,  0.00000,  0.00000,\n",
       "        0.00000,  0.00000,  0.00000,  0.00000,  0.00000,  0.00000,\n",
       "        0.00000,  0.00000,  0.00000,  0.00000,  0.00000,  0.00000,\n",
       "        0.00000,  0.00000,  0.00000,  0.00000,  0.00000,  0.00000,\n",
       "        0.00000,  0.00000,  0.00000,  0.00000,  0.00000,  0.00000,\n",
       "        0.00000,  0.00000,  0.00000,  0.00000,  0.00000,  0.00000,\n",
       "        0.00000,  0.00000,  0.00000,  0.00000,  0.00000,  0.00000,\n",
       "        0.00000,  0.00001,  0.00003,  0.00018,  0.00082,  0.00325,\n",
       "        0.01111,  0.03271,  0.08306,  0.18193,  0.34368,  0.55996,\n",
       "        0.78691,  0.95377,  0.99705,  0.89897,  0.69908,  0.46889,\n",
       "        0.27124,  0.13534,  0.05824,  0.02162,  0.00692,  0.00191,\n",
       "        0.00045,  0.00009,  0.00002,  0.00000,  0.00000,  0.00000,\n",
       "        0.00000,  0.00000,  0.00000,  0.00000,  0.00000,  0.00000,\n",
       "        0.00000,  0.00000,  0.00000,  0.00000,  0.00000,  0.00000,\n",
       "        0.00000,  0.00000,  0.00000,  0.00000])"
      ]
     },
     "execution_count": 29,
     "metadata": {},
     "output_type": "execute_result"
    }
   ],
   "source": [
    "# fourth row is the signal term\n",
    "eriggs = 68.8\n",
    "sige   = 2.6\n",
    "G4 = np.exp(-(x-eriggs)**2/(2*sige*sige))\n",
    "G4"
   ]
  },
  {
   "cell_type": "code",
   "execution_count": 30,
   "metadata": {},
   "outputs": [
    {
     "data": {
      "text/plain": [
       "array([[ 1.00000,  1.00000,  1.00000,  0.00000],\n",
       "       [ 1.00000,  2.00000,  4.00000,  0.00000],\n",
       "       [ 1.00000,  3.00000,  9.00000,  0.00000],\n",
       "       [ 1.00000,  4.00000,  16.00000,  0.00000],\n",
       "       [ 1.00000,  5.00000,  25.00000,  0.00000],\n",
       "       [ 1.00000,  6.00000,  36.00000,  0.00000],\n",
       "       [ 1.00000,  7.00000,  49.00000,  0.00000],\n",
       "       [ 1.00000,  8.00000,  64.00000,  0.00000],\n",
       "       [ 1.00000,  9.00000,  81.00000,  0.00000],\n",
       "       [ 1.00000,  10.00000,  100.00000,  0.00000],\n",
       "       [ 1.00000,  11.00000,  121.00000,  0.00000],\n",
       "       [ 1.00000,  12.00000,  144.00000,  0.00000],\n",
       "       [ 1.00000,  13.00000,  169.00000,  0.00000],\n",
       "       [ 1.00000,  14.00000,  196.00000,  0.00000],\n",
       "       [ 1.00000,  15.00000,  225.00000,  0.00000],\n",
       "       [ 1.00000,  16.00000,  256.00000,  0.00000],\n",
       "       [ 1.00000,  17.00000,  289.00000,  0.00000],\n",
       "       [ 1.00000,  18.00000,  324.00000,  0.00000],\n",
       "       [ 1.00000,  19.00000,  361.00000,  0.00000],\n",
       "       [ 1.00000,  20.00000,  400.00000,  0.00000],\n",
       "       [ 1.00000,  21.00000,  441.00000,  0.00000],\n",
       "       [ 1.00000,  22.00000,  484.00000,  0.00000],\n",
       "       [ 1.00000,  23.00000,  529.00000,  0.00000],\n",
       "       [ 1.00000,  24.00000,  576.00000,  0.00000],\n",
       "       [ 1.00000,  25.00000,  625.00000,  0.00000],\n",
       "       [ 1.00000,  26.00000,  676.00000,  0.00000],\n",
       "       [ 1.00000,  27.00000,  729.00000,  0.00000],\n",
       "       [ 1.00000,  28.00000,  784.00000,  0.00000],\n",
       "       [ 1.00000,  29.00000,  841.00000,  0.00000],\n",
       "       [ 1.00000,  30.00000,  900.00000,  0.00000],\n",
       "       [ 1.00000,  31.00000,  961.00000,  0.00000],\n",
       "       [ 1.00000,  32.00000,  1024.00000,  0.00000],\n",
       "       [ 1.00000,  33.00000,  1089.00000,  0.00000],\n",
       "       [ 1.00000,  34.00000,  1156.00000,  0.00000],\n",
       "       [ 1.00000,  35.00000,  1225.00000,  0.00000],\n",
       "       [ 1.00000,  36.00000,  1296.00000,  0.00000],\n",
       "       [ 1.00000,  37.00000,  1369.00000,  0.00000],\n",
       "       [ 1.00000,  38.00000,  1444.00000,  0.00000],\n",
       "       [ 1.00000,  39.00000,  1521.00000,  0.00000],\n",
       "       [ 1.00000,  40.00000,  1600.00000,  0.00000],\n",
       "       [ 1.00000,  41.00000,  1681.00000,  0.00000],\n",
       "       [ 1.00000,  42.00000,  1764.00000,  0.00000],\n",
       "       [ 1.00000,  43.00000,  1849.00000,  0.00000],\n",
       "       [ 1.00000,  44.00000,  1936.00000,  0.00000],\n",
       "       [ 1.00000,  45.00000,  2025.00000,  0.00000],\n",
       "       [ 1.00000,  46.00000,  2116.00000,  0.00000],\n",
       "       [ 1.00000,  47.00000,  2209.00000,  0.00000],\n",
       "       [ 1.00000,  48.00000,  2304.00000,  0.00000],\n",
       "       [ 1.00000,  49.00000,  2401.00000,  0.00000],\n",
       "       [ 1.00000,  50.00000,  2500.00000,  0.00000],\n",
       "       [ 1.00000,  51.00000,  2601.00000,  0.00000],\n",
       "       [ 1.00000,  52.00000,  2704.00000,  0.00000],\n",
       "       [ 1.00000,  53.00000,  2809.00000,  0.00000],\n",
       "       [ 1.00000,  54.00000,  2916.00000,  0.00000],\n",
       "       [ 1.00000,  55.00000,  3025.00000,  0.00000],\n",
       "       [ 1.00000,  56.00000,  3136.00000,  0.00001],\n",
       "       [ 1.00000,  57.00000,  3249.00000,  0.00003],\n",
       "       [ 1.00000,  58.00000,  3364.00000,  0.00018],\n",
       "       [ 1.00000,  59.00000,  3481.00000,  0.00082],\n",
       "       [ 1.00000,  60.00000,  3600.00000,  0.00325],\n",
       "       [ 1.00000,  61.00000,  3721.00000,  0.01111],\n",
       "       [ 1.00000,  62.00000,  3844.00000,  0.03271],\n",
       "       [ 1.00000,  63.00000,  3969.00000,  0.08306],\n",
       "       [ 1.00000,  64.00000,  4096.00000,  0.18193],\n",
       "       [ 1.00000,  65.00000,  4225.00000,  0.34368],\n",
       "       [ 1.00000,  66.00000,  4356.00000,  0.55996],\n",
       "       [ 1.00000,  67.00000,  4489.00000,  0.78691],\n",
       "       [ 1.00000,  68.00000,  4624.00000,  0.95377],\n",
       "       [ 1.00000,  69.00000,  4761.00000,  0.99705],\n",
       "       [ 1.00000,  70.00000,  4900.00000,  0.89897],\n",
       "       [ 1.00000,  71.00000,  5041.00000,  0.69908],\n",
       "       [ 1.00000,  72.00000,  5184.00000,  0.46889],\n",
       "       [ 1.00000,  73.00000,  5329.00000,  0.27124],\n",
       "       [ 1.00000,  74.00000,  5476.00000,  0.13534],\n",
       "       [ 1.00000,  75.00000,  5625.00000,  0.05824],\n",
       "       [ 1.00000,  76.00000,  5776.00000,  0.02162],\n",
       "       [ 1.00000,  77.00000,  5929.00000,  0.00692],\n",
       "       [ 1.00000,  78.00000,  6084.00000,  0.00191],\n",
       "       [ 1.00000,  79.00000,  6241.00000,  0.00045],\n",
       "       [ 1.00000,  80.00000,  6400.00000,  0.00009],\n",
       "       [ 1.00000,  81.00000,  6561.00000,  0.00002],\n",
       "       [ 1.00000,  82.00000,  6724.00000,  0.00000],\n",
       "       [ 1.00000,  83.00000,  6889.00000,  0.00000],\n",
       "       [ 1.00000,  84.00000,  7056.00000,  0.00000],\n",
       "       [ 1.00000,  85.00000,  7225.00000,  0.00000],\n",
       "       [ 1.00000,  86.00000,  7396.00000,  0.00000],\n",
       "       [ 1.00000,  87.00000,  7569.00000,  0.00000],\n",
       "       [ 1.00000,  88.00000,  7744.00000,  0.00000],\n",
       "       [ 1.00000,  89.00000,  7921.00000,  0.00000],\n",
       "       [ 1.00000,  90.00000,  8100.00000,  0.00000],\n",
       "       [ 1.00000,  91.00000,  8281.00000,  0.00000],\n",
       "       [ 1.00000,  92.00000,  8464.00000,  0.00000],\n",
       "       [ 1.00000,  93.00000,  8649.00000,  0.00000],\n",
       "       [ 1.00000,  94.00000,  8836.00000,  0.00000],\n",
       "       [ 1.00000,  95.00000,  9025.00000,  0.00000],\n",
       "       [ 1.00000,  96.00000,  9216.00000,  0.00000],\n",
       "       [ 1.00000,  97.00000,  9409.00000,  0.00000],\n",
       "       [ 1.00000,  98.00000,  9604.00000,  0.00000],\n",
       "       [ 1.00000,  99.00000,  9801.00000,  0.00000],\n",
       "       [ 1.00000,  100.00000,  10000.00000,  0.00000]])"
      ]
     },
     "execution_count": 30,
     "metadata": {},
     "output_type": "execute_result"
    }
   ],
   "source": [
    "# stack them vertically and take transpose\n",
    "G = np.vstack([G1, G2, G3, G4]).T\n",
    "G"
   ]
  },
  {
   "cell_type": "code",
   "execution_count": 31,
   "metadata": {},
   "outputs": [
    {
     "data": {
      "text/plain": [
       "array([ 277.00000,  254.00000,  252.00000,  265.00000,  266.00000,\n",
       "        266.00000,  274.00000,  285.00000,  299.00000,  286.00000,\n",
       "        307.00000,  297.00000,  277.00000,  299.00000,  300.00000,\n",
       "        283.00000,  290.00000,  297.00000,  284.00000,  328.00000,\n",
       "        296.00000,  321.00000,  330.00000,  325.00000,  331.00000,\n",
       "        332.00000,  388.00000,  339.00000,  366.00000,  368.00000,\n",
       "        345.00000,  403.00000,  388.00000,  422.00000,  431.00000,\n",
       "        413.00000,  415.00000,  394.00000,  431.00000,  401.00000,\n",
       "        443.00000,  425.00000,  487.00000,  502.00000,  489.00000,\n",
       "        499.00000,  499.00000,  525.00000,  540.00000,  515.00000,\n",
       "        506.00000,  563.00000,  578.00000,  583.00000,  589.00000,\n",
       "        588.00000,  615.00000,  639.00000,  635.00000,  664.00000,\n",
       "        650.00000,  706.00000,  678.00000,  669.00000,  783.00000,\n",
       "        830.00000,  823.00000,  832.00000,  918.00000,  865.00000,\n",
       "        896.00000,  916.00000,  812.00000,  864.00000,  826.00000,\n",
       "        881.00000,  882.00000,  915.00000,  894.00000,  989.00000,\n",
       "        970.00000,  991.00000,  976.00000,  976.00000,  1029.00000,\n",
       "        1028.00000,  1042.00000,  1055.00000,  1056.00000,  1137.00000,\n",
       "        1130.00000,  1111.00000,  1151.00000,  1186.00000,  1223.00000,\n",
       "        1274.00000,  1208.00000,  1314.00000,  1301.00000,  1317.00000])"
      ]
     },
     "execution_count": 31,
     "metadata": {},
     "output_type": "execute_result"
    }
   ],
   "source": [
    "# response vector\n",
    "D = y\n",
    "D"
   ]
  },
  {
   "cell_type": "code",
   "execution_count": 17,
   "metadata": {},
   "outputs": [
    {
     "data": {
      "text/plain": [
       "array([[ 30.63258, -1.42469,  0.01281,  9.61143],\n",
       "       [-1.42469,  0.09067, -0.00092, -0.66521],\n",
       "       [ 0.01281, -0.00092,  0.00001,  0.00328],\n",
       "       [ 9.61143, -0.66521,  0.00328,  216.33002]])"
      ]
     },
     "execution_count": 17,
     "metadata": {},
     "output_type": "execute_result"
    }
   ],
   "source": [
    "# this is the parameter covariance matrix\n",
    "np.linalg.inv(np.dot(G.T, np.dot(Einv, G)))"
   ]
  },
  {
   "cell_type": "code",
   "execution_count": 32,
   "metadata": {},
   "outputs": [
    {
     "data": {
      "text/plain": [
       "array([ 266.40702,  0.24996,  0.10151,  120.71998])"
      ]
     },
     "execution_count": 32,
     "metadata": {},
     "output_type": "execute_result"
    }
   ],
   "source": [
    "# this is the best-fit parameter vector\n",
    "Ahat = np.dot(np.linalg.inv(np.dot(G.T, np.dot(Einv, G))), np.dot(G.T, np.dot(Einv, D)))\n",
    "Ahat"
   ]
  },
  {
   "cell_type": "markdown",
   "metadata": {},
   "source": [
    "Plot data and best-fit model."
   ]
  },
  {
   "cell_type": "code",
   "execution_count": 33,
   "metadata": {},
   "outputs": [],
   "source": [
    "def model(x, a, b, c, A):\n",
    "    return a + b*x + c*x*x + A*np.exp(-(x-eriggs)**2/(2*sige*sige))"
   ]
  },
  {
   "cell_type": "code",
   "execution_count": 34,
   "metadata": {},
   "outputs": [
    {
     "data": {
      "text/plain": [
       "[<matplotlib.lines.Line2D at 0x1098e6830>]"
      ]
     },
     "execution_count": 34,
     "metadata": {},
     "output_type": "execute_result"
    },
    {
     "data": {
      "image/png": "[encoded data removed]",
      "text/plain": [
       "<Figure size 640x480 with 1 Axes>"
      ]
     },
     "metadata": {},
     "output_type": "display_data"
    }
   ],
   "source": [
    "plt.errorbar(x, y, sigy, fmt='o')\n",
    "xgrid = np.linspace(0, 100, 1000)\n",
    "plt.plot(xgrid, model(xgrid, *Ahat), c='#ff7f0e')"
   ]
  },
  {
   "cell_type": "code",
   "execution_count": null,
   "metadata": {},
   "outputs": [],
   "source": []
  }
 ],
 "metadata": {
  "kernelspec": {
   "display_name": "Python 3 (ipykernel)",
   "language": "python",
   "name": "python3"
  },
  "language_info": {
   "codemirror_mode": {
    "name": "ipython",
    "version": 3
   },
   "file_extension": ".py",
   "mimetype": "text/x-python",
   "name": "python",
   "nbconvert_exporter": "python",
   "pygments_lexer": "ipython3",
   "version": "3.10.6"
  }
 },
 "nbformat": 4,
 "nbformat_minor": 2
}
