{
 "cells": [
  {
   "cell_type": "code",
   "execution_count": 2,
   "id": "88b3cf56",
   "metadata": {},
   "outputs": [],
   "source": [
    "import numpy as np"
   ]
  },
  {
   "cell_type": "markdown",
   "id": "5efc5a60",
   "metadata": {},
   "source": [
    "A simple object `Circle`, which has one parameter `radius`.  Methods include `diameter`, `circumference`, and `area`."
   ]
  },
  {
   "cell_type": "code",
   "execution_count": 58,
   "id": "a8a683a1",
   "metadata": {},
   "outputs": [],
   "source": [
    "class Circle():\n",
    "    \n",
    "    def __init__(self, radius):\n",
    "        self.radius = radius\n",
    "        \n",
    "    def diameter(self):\n",
    "        return 2*self.radius\n",
    "        \n",
    "    def circumference(self):\n",
    "        return 2*np.pi*self.radius\n",
    "        \n",
    "    def area(self):\n",
    "        return np.pi*(self.radius*self.radius)"
   ]
  },
  {
   "cell_type": "markdown",
   "id": "da9f6fd3",
   "metadata": {},
   "source": [
    "Create an instance of a Circle with radius=10."
   ]
  },
  {
   "cell_type": "code",
   "execution_count": 59,
   "id": "299f6137",
   "metadata": {},
   "outputs": [],
   "source": [
    "mycircle = Circle(radius=10)"
   ]
  },
  {
   "cell_type": "code",
   "execution_count": 60,
   "id": "c090aaa1",
   "metadata": {},
   "outputs": [
    {
     "data": {
      "text/plain": [
       "314.1592653589793"
      ]
     },
     "execution_count": 60,
     "metadata": {},
     "output_type": "execute_result"
    }
   ],
   "source": [
    "mycircle.area()"
   ]
  },
  {
   "cell_type": "code",
   "execution_count": 61,
   "id": "407f2614",
   "metadata": {},
   "outputs": [
    {
     "data": {
      "text/plain": [
       "62.83185307179586"
      ]
     },
     "execution_count": 61,
     "metadata": {},
     "output_type": "execute_result"
    }
   ],
   "source": [
    "mycircle.circumference()"
   ]
  },
  {
   "cell_type": "code",
   "execution_count": 62,
   "id": "0cd59c9e",
   "metadata": {},
   "outputs": [],
   "source": [
    "mycircle.radius = 2"
   ]
  },
  {
   "cell_type": "code",
   "execution_count": 23,
   "id": "8df5162d",
   "metadata": {},
   "outputs": [
    {
     "data": {
      "text/plain": [
       "12.566370614359172"
      ]
     },
     "execution_count": 23,
     "metadata": {},
     "output_type": "execute_result"
    }
   ],
   "source": [
    "mycircle.area()"
   ]
  },
  {
   "cell_type": "markdown",
   "id": "02ca1e99",
   "metadata": {},
   "source": [
    "Another instance with radius=100."
   ]
  },
  {
   "cell_type": "code",
   "execution_count": 63,
   "id": "8aaebea2",
   "metadata": {},
   "outputs": [],
   "source": [
    "bigcircle = Circle(radius=100)"
   ]
  },
  {
   "cell_type": "code",
   "execution_count": 64,
   "id": "5f97a6ca",
   "metadata": {},
   "outputs": [
    {
     "data": {
      "text/plain": [
       "31415.926535897932"
      ]
     },
     "execution_count": 64,
     "metadata": {},
     "output_type": "execute_result"
    }
   ],
   "source": [
    "bigcircle.area()"
   ]
  },
  {
   "cell_type": "code",
   "execution_count": null,
   "id": "aebfbde9",
   "metadata": {},
   "outputs": [],
   "source": []
  },
  {
   "cell_type": "markdown",
   "id": "0ec6cc34",
   "metadata": {},
   "source": [
    "Class parameters can be any object - numbers, arrays, and even functions and other classes.  Here is an example where self.calclength is an external function."
   ]
  },
  {
   "cell_type": "code",
   "execution_count": 53,
   "id": "c179cd6e",
   "metadata": {},
   "outputs": [],
   "source": [
    "class Vector2D():\n",
    "    \n",
    "    def __init__(self, x, y):\n",
    "        self.x = x\n",
    "        self.y = y\n",
    "        self.calclength = calclength\n",
    "        \n",
    "    def length(self):\n",
    "        return calclength(self.x, self.y)\n",
    "#        return np.sqrt(self.x*self.x+self.y*self.y)\n",
    "    \n",
    "    def angleFromx(self):\n",
    "        return np.arctan2(self.y, self.x)"
   ]
  },
  {
   "cell_type": "code",
   "execution_count": 54,
   "id": "06e65e55",
   "metadata": {},
   "outputs": [],
   "source": [
    "def calclength(x, y):\n",
    "    return np.sqrt(x*x+y*y)"
   ]
  },
  {
   "cell_type": "code",
   "execution_count": 55,
   "id": "98ce3ced",
   "metadata": {},
   "outputs": [],
   "source": [
    "vec1 = Vector2D(x=1, y=2)"
   ]
  },
  {
   "cell_type": "code",
   "execution_count": 56,
   "id": "239bc784",
   "metadata": {},
   "outputs": [
    {
     "data": {
      "text/plain": [
       "2.23606797749979"
      ]
     },
     "execution_count": 56,
     "metadata": {},
     "output_type": "execute_result"
    }
   ],
   "source": [
    "vec1.length()"
   ]
  },
  {
   "cell_type": "code",
   "execution_count": 57,
   "id": "23b46862",
   "metadata": {},
   "outputs": [
    {
     "data": {
      "text/plain": [
       "1.1071487177940904"
      ]
     },
     "execution_count": 57,
     "metadata": {},
     "output_type": "execute_result"
    }
   ],
   "source": [
    "vec1.angleFromx()"
   ]
  },
  {
   "cell_type": "code",
   "execution_count": null,
   "id": "65379f90",
   "metadata": {},
   "outputs": [],
   "source": []
  }
 ],
 "metadata": {
  "kernelspec": {
   "display_name": "Python 3 (ipykernel)",
   "language": "python",
   "name": "python3"
  },
  "language_info": {
   "codemirror_mode": {
    "name": "ipython",
    "version": 3
   },
   "file_extension": ".py",
   "mimetype": "text/x-python",
   "name": "python",
   "nbconvert_exporter": "python",
   "pygments_lexer": "ipython3",
   "version": "3.10.6"
  }
 },
 "nbformat": 4,
 "nbformat_minor": 5
}
