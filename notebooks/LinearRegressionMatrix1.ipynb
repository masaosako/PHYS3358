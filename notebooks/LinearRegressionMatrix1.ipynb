{
 "cells": [
  {
   "cell_type": "markdown",
   "metadata": {},
   "source": [
    "# Linear Regression\n",
    "Solving the example from `FitLine` using the matrix implementation of the general least squares method."
   ]
  },
  {
   "cell_type": "markdown",
   "metadata": {},
   "source": [
    "This first example assumes a constant error in y."
   ]
  },
  {
   "cell_type": "code",
   "execution_count": 1,
   "metadata": {},
   "outputs": [],
   "source": [
    "import numpy as np\n",
    "import matplotlib.pyplot as plt"
   ]
  },
  {
   "cell_type": "code",
   "execution_count": 2,
   "metadata": {},
   "outputs": [],
   "source": [
    "# avoid printing out too many decimals\n",
    "np.set_printoptions(formatter={'float': '{: 0.5f}'.format})"
   ]
  },
  {
   "cell_type": "code",
   "execution_count": 3,
   "metadata": {},
   "outputs": [],
   "source": [
    "# This is the same data from FitLine, which is\n",
    "# very rougly a line with a = 0 and b = 1\n",
    "# except we are taking sigy to be a constant.\n",
    "x     = np.array([1.0, 2.0, 3.0, 4.0, 5.0])\n",
    "y     = np.array([1.1, 1.8, 3.3, 4.2, 4.9])\n",
    "#sigy  = np.array([0.12, 0.15, 0.11, 0.18, 0.09])  # before\n",
    "sigy = np.array([0.12, 0.12, 0.12, 0.12, 0.12])   # assume same sigy"
   ]
  },
  {
   "cell_type": "code",
   "execution_count": 4,
   "metadata": {},
   "outputs": [
    {
     "data": {
      "text/plain": [
       "<ErrorbarContainer object of 3 artists>"
      ]
     },
     "execution_count": 4,
     "metadata": {},
     "output_type": "execute_result"
    },
    {
     "data": {
      "image/png": "[encoded data removed]",
      "text/plain": [
       "<Figure size 640x480 with 1 Axes>"
      ]
     },
     "metadata": {},
     "output_type": "display_data"
    }
   ],
   "source": [
    "plt.errorbar(x, y, sigy, fmt='o')"
   ]
  },
  {
   "cell_type": "markdown",
   "metadata": {},
   "source": [
    "First set up the $\\mathbf{G}$ matrix (aka design matrix) and $\\mathbf{D}$ vector (aka response vector)."
   ]
  },
  {
   "cell_type": "code",
   "execution_count": 5,
   "metadata": {},
   "outputs": [
    {
     "data": {
      "text/plain": [
       "array([ 1.00000,  1.00000,  1.00000,  1.00000,  1.00000])"
      ]
     },
     "execution_count": 5,
     "metadata": {},
     "output_type": "execute_result"
    }
   ],
   "source": [
    "# Let's set up the G matrix one row at a time.\n",
    "# first row of G matrix\n",
    "G1 = np.ones_like(x)\n",
    "G1"
   ]
  },
  {
   "cell_type": "code",
   "execution_count": 6,
   "metadata": {},
   "outputs": [
    {
     "data": {
      "text/plain": [
       "array([ 1.00000,  2.00000,  3.00000,  4.00000,  5.00000])"
      ]
     },
     "execution_count": 6,
     "metadata": {},
     "output_type": "execute_result"
    }
   ],
   "source": [
    "# second row of G matrix\n",
    "G2 = x\n",
    "G2"
   ]
  },
  {
   "cell_type": "code",
   "execution_count": 7,
   "metadata": {},
   "outputs": [
    {
     "data": {
      "text/plain": [
       "array([[ 1.00000,  1.00000],\n",
       "       [ 1.00000,  2.00000],\n",
       "       [ 1.00000,  3.00000],\n",
       "       [ 1.00000,  4.00000],\n",
       "       [ 1.00000,  5.00000]])"
      ]
     },
     "execution_count": 7,
     "metadata": {},
     "output_type": "execute_result"
    }
   ],
   "source": [
    "# stack them vertically and take transpose because G is N x M (not M x N)\n",
    "G = np.vstack([G1, G2]).T\n",
    "G"
   ]
  },
  {
   "cell_type": "code",
   "execution_count": 8,
   "metadata": {},
   "outputs": [
    {
     "data": {
      "text/plain": [
       "array([ 1.10000,  1.80000,  3.30000,  4.20000,  4.90000])"
      ]
     },
     "execution_count": 8,
     "metadata": {},
     "output_type": "execute_result"
    }
   ],
   "source": [
    "# data vector\n",
    "D = y\n",
    "D"
   ]
  },
  {
   "cell_type": "markdown",
   "metadata": {},
   "source": [
    "Solve for $$\\mathbf{\\hat{A}} = (\\mathbf{G}^T \\mathbf{G)^{-1}} \\mathbf{G}^T \\mathbf{D} = \\mathbf{\\psi}^{-1} \\mathbf{G}^T \\mathbf{D}$$"
   ]
  },
  {
   "cell_type": "code",
   "execution_count": 9,
   "metadata": {},
   "outputs": [],
   "source": [
    "psi = np.linalg.inv(np.dot(G.T, G))"
   ]
  },
  {
   "cell_type": "code",
   "execution_count": 10,
   "metadata": {},
   "outputs": [
    {
     "data": {
      "text/plain": [
       "array([ 0.06000,  1.00000])"
      ]
     },
     "execution_count": 10,
     "metadata": {},
     "output_type": "execute_result"
    }
   ],
   "source": [
    "Ahat = np.dot(psi, np.dot(G.T, D))\n",
    "Ahat"
   ]
  },
  {
   "cell_type": "markdown",
   "metadata": {},
   "source": [
    "Plot data and best-fit model."
   ]
  },
  {
   "cell_type": "code",
   "execution_count": 11,
   "metadata": {},
   "outputs": [],
   "source": [
    "def model(x, a, b):\n",
    "    return a + b*x"
   ]
  },
  {
   "cell_type": "code",
   "execution_count": 12,
   "metadata": {},
   "outputs": [
    {
     "data": {
      "text/plain": [
       "[<matplotlib.lines.Line2D at 0x106665390>]"
      ]
     },
     "execution_count": 12,
     "metadata": {},
     "output_type": "execute_result"
    },
    {
     "data": {
      "image/png": "[encoded data removed]",
      "text/plain": [
       "<Figure size 640x480 with 1 Axes>"
      ]
     },
     "metadata": {},
     "output_type": "display_data"
    }
   ],
   "source": [
    "plt.errorbar(x, y, sigy, fmt='o')\n",
    "xgrid = np.linspace(0, 6, 1000)\n",
    "plt.plot(xgrid, model(xgrid, *Ahat), c='#ff7f0e')"
   ]
  },
  {
   "cell_type": "markdown",
   "metadata": {},
   "source": [
    "Now let's generalize this to arbitary errors, but let's still assume that there is no covariance between the datapoints.  So $\\sigma = \\sigma_i$ is different for all $i$, but $\\sigma_{ij} = 0$."
   ]
  },
  {
   "cell_type": "code",
   "execution_count": 13,
   "metadata": {},
   "outputs": [],
   "source": [
    "# now allow sigma_y to be different for each data point\n",
    "x     = np.array([1.0, 2.0, 3.0, 4.0, 5.0])\n",
    "y     = np.array([1.1, 1.8, 3.3, 4.2, 4.9])\n",
    "sigy  = np.array([0.12, 0.15, 0.11, 0.18, 0.09])"
   ]
  },
  {
   "cell_type": "markdown",
   "metadata": {},
   "source": [
    "We now just have to set up the data covariance matrix. $$ \\mathbf{E} = \\begin{pmatrix} \\sigma_1^2 & 0 & \\ldots & 0 \\\\ 0 & \\sigma_2^2 & \\ldots & 0 \\\\ \\vdots & \\vdots & \\ddots & \\vdots \\\\ 0 & 0 & ... & \\sigma_N^2 \\end{pmatrix}$$ $\\mathbf{G}$ and $\\mathbf{D}$ are still the same."
   ]
  },
  {
   "cell_type": "code",
   "execution_count": 14,
   "metadata": {},
   "outputs": [
    {
     "data": {
      "text/plain": [
       "array([ 0.01440,  0.02250,  0.01210,  0.03240,  0.00810])"
      ]
     },
     "execution_count": 14,
     "metadata": {},
     "output_type": "execute_result"
    }
   ],
   "source": [
    "vars = sigy*sigy\n",
    "vars"
   ]
  },
  {
   "cell_type": "code",
   "execution_count": 15,
   "metadata": {},
   "outputs": [
    {
     "data": {
      "text/plain": [
       "array([[ 0.01440,  0.00000,  0.00000,  0.00000,  0.00000],\n",
       "       [ 0.00000,  0.02250,  0.00000,  0.00000,  0.00000],\n",
       "       [ 0.00000,  0.00000,  0.01210,  0.00000,  0.00000],\n",
       "       [ 0.00000,  0.00000,  0.00000,  0.03240,  0.00000],\n",
       "       [ 0.00000,  0.00000,  0.00000,  0.00000,  0.00810]])"
      ]
     },
     "execution_count": 15,
     "metadata": {},
     "output_type": "execute_result"
    }
   ],
   "source": [
    "# data covariance matrix (diagonal of variances; no covariance)\n",
    "E = np.diag(vars)\n",
    "E"
   ]
  },
  {
   "cell_type": "code",
   "execution_count": 16,
   "metadata": {},
   "outputs": [
    {
     "data": {
      "text/plain": [
       "array([[ 69.44444,  0.00000,  0.00000,  0.00000,  0.00000],\n",
       "       [ 0.00000,  44.44444,  0.00000,  0.00000,  0.00000],\n",
       "       [ 0.00000,  0.00000,  82.64463,  0.00000,  0.00000],\n",
       "       [ 0.00000,  0.00000,  0.00000,  30.86420,  0.00000],\n",
       "       [ 0.00000,  0.00000,  0.00000,  0.00000,  123.45679]])"
      ]
     },
     "execution_count": 16,
     "metadata": {},
     "output_type": "execute_result"
    }
   ],
   "source": [
    "# inverse of E\n",
    "Einv = np.linalg.inv(E)\n",
    "Einv"
   ]
  },
  {
   "cell_type": "markdown",
   "metadata": {},
   "source": [
    "Now, it's just a matter of solving the matrix equation $$\\mathbf{\\hat{A}} = (\\mathbf{G}^T \\mathbf{E}^{-1} \\mathbf{G)^{-1}} \\mathbf{G}^T \\mathbf{E}^{-1} \\mathbf{D} = \\mathbf{\\Psi}^{-1} \\mathbf{G}^T \\mathbf{E}^{-1} \\mathbf{D}$$"
   ]
  },
  {
   "cell_type": "code",
   "execution_count": 17,
   "metadata": {},
   "outputs": [],
   "source": [
    "PSI = np.dot(G.T, np.dot(Einv, G))"
   ]
  },
  {
   "cell_type": "code",
   "execution_count": 18,
   "metadata": {},
   "outputs": [
    {
     "data": {
      "text/plain": [
       "array([ 0.15899,  0.96591])"
      ]
     },
     "execution_count": 18,
     "metadata": {},
     "output_type": "execute_result"
    }
   ],
   "source": [
    "Ahat = np.dot(np.linalg.inv(PSI), np.dot(G.T, np.dot(Einv, D)))\n",
    "Ahat"
   ]
  },
  {
   "cell_type": "markdown",
   "metadata": {},
   "source": [
    "This is exactly what we got before in our `FitLine` notebook!"
   ]
  },
  {
   "cell_type": "code",
   "execution_count": 19,
   "metadata": {},
   "outputs": [
    {
     "data": {
      "text/plain": [
       "[<matplotlib.lines.Line2D at 0x1066da440>]"
      ]
     },
     "execution_count": 19,
     "metadata": {},
     "output_type": "execute_result"
    },
    {
     "data": {
      "image/png": "[encoded data removed]",
      "text/plain": [
       "<Figure size 640x480 with 1 Axes>"
      ]
     },
     "metadata": {},
     "output_type": "display_data"
    }
   ],
   "source": [
    "plt.errorbar(x, y, sigy, fmt='o')\n",
    "xgrid = np.linspace(0, 6, 1000)\n",
    "plt.plot(xgrid, model(xgrid, *Ahat), c='#ff7f0e')"
   ]
  },
  {
   "cell_type": "markdown",
   "metadata": {},
   "source": [
    "If you want to construct a more complex model, e.g., $$y = a + bx + cx^2 + dx^3 + ex^4$$ then all you have to do is put together a new design matrix $\\mathbf{G}$ and repeat."
   ]
  },
  {
   "cell_type": "code",
   "execution_count": 20,
   "metadata": {},
   "outputs": [
    {
     "data": {
      "text/plain": [
       "array([[ 1.00000,  1.00000,  1.00000,  1.00000,  1.00000],\n",
       "       [ 1.00000,  2.00000,  4.00000,  8.00000,  16.00000],\n",
       "       [ 1.00000,  3.00000,  9.00000,  27.00000,  81.00000],\n",
       "       [ 1.00000,  4.00000,  16.00000,  64.00000,  256.00000],\n",
       "       [ 1.00000,  5.00000,  25.00000,  125.00000,  625.00000]])"
      ]
     },
     "execution_count": 20,
     "metadata": {},
     "output_type": "execute_result"
    }
   ],
   "source": [
    "G3 = x*x\n",
    "G4 = x*x*x\n",
    "G5 = x*x*x*x\n",
    "G = np.vstack([G1, G2, G3, G4, G5]).T\n",
    "G"
   ]
  },
  {
   "cell_type": "code",
   "execution_count": 21,
   "metadata": {},
   "outputs": [
    {
     "data": {
      "text/plain": [
       "array([ 4.40000, -6.81667,  4.42500, -0.98333,  0.07500])"
      ]
     },
     "execution_count": 21,
     "metadata": {},
     "output_type": "execute_result"
    }
   ],
   "source": [
    "PSI = np.dot(G.T, np.dot(Einv, G))\n",
    "Ahat = np.dot(np.linalg.inv(PSI), np.dot(G.T, np.dot(Einv, D)))\n",
    "Ahat"
   ]
  },
  {
   "cell_type": "code",
   "execution_count": 22,
   "metadata": {},
   "outputs": [],
   "source": [
    "def newmodel(x, a, b, c, d, e):\n",
    "    return a + b*x + c*x*x +d*x*x*x + e*x*x*x*x"
   ]
  },
  {
   "cell_type": "code",
   "execution_count": 23,
   "metadata": {},
   "outputs": [
    {
     "data": {
      "text/plain": [
       "[<matplotlib.lines.Line2D at 0x10674ee30>]"
      ]
     },
     "execution_count": 23,
     "metadata": {},
     "output_type": "execute_result"
    },
    {
     "data": {
      "image/png": "[encoded data removed]",
      "text/plain": [
       "<Figure size 640x480 with 1 Axes>"
      ]
     },
     "metadata": {},
     "output_type": "display_data"
    }
   ],
   "source": [
    "plt.errorbar(x, y, sigy, fmt='o')\n",
    "xgrid = np.linspace(0, 6, 1000)\n",
    "plt.plot(xgrid, newmodel(xgrid, *Ahat), c='#ff7f0e')"
   ]
  },
  {
   "cell_type": "code",
   "execution_count": null,
   "metadata": {},
   "outputs": [],
   "source": []
  }
 ],
 "metadata": {
  "kernelspec": {
   "display_name": "Python 3 (ipykernel)",
   "language": "python",
   "name": "python3"
  },
  "language_info": {
   "codemirror_mode": {
    "name": "ipython",
    "version": 3
   },
   "file_extension": ".py",
   "mimetype": "text/x-python",
   "name": "python",
   "nbconvert_exporter": "python",
   "pygments_lexer": "ipython3",
   "version": "3.10.6"
  }
 },
 "nbformat": 4,
 "nbformat_minor": 2
}
