{
 "cells": [
  {
   "cell_type": "code",
   "execution_count": 1,
   "id": "5d6ca6cb",
   "metadata": {},
   "outputs": [],
   "source": [
    "import numpy as np\n",
    "import matplotlib.pyplot as plt\n",
    "from scipy.stats import binom"
   ]
  },
  {
   "cell_type": "code",
   "execution_count": 10,
   "id": "de8e777f",
   "metadata": {},
   "outputs": [],
   "source": [
    "def flipOneSet(n, h):\n",
    "    flipOut = np.where(np.random.random(n)>=h, \"T\", \"H\")\n",
    "    nheads  = sum(flipOut==\"H\")\n",
    "    ntails  = sum(flipOut==\"T\")\n",
    "    return nheads, ntails"
   ]
  },
  {
   "cell_type": "code",
   "execution_count": 12,
   "id": "fef7915d",
   "metadata": {},
   "outputs": [
    {
     "name": "stdout",
     "output_type": "stream",
     "text": [
      "20 80\n"
     ]
    }
   ],
   "source": [
    "a,b = flipOneSet(100, 0.2)\n",
    "print(a,b)"
   ]
  },
  {
   "cell_type": "code",
   "execution_count": 13,
   "id": "1ebd02b4",
   "metadata": {},
   "outputs": [
    {
     "data": {
      "text/plain": [
       "20"
      ]
     },
     "execution_count": 13,
     "metadata": {},
     "output_type": "execute_result"
    }
   ],
   "source": [
    "sum(testOut==\"H\")"
   ]
  },
  {
   "cell_type": "code",
   "execution_count": 9,
   "id": "a7edac05",
   "metadata": {},
   "outputs": [
    {
     "data": {
      "text/plain": [
       "80"
      ]
     },
     "execution_count": 9,
     "metadata": {},
     "output_type": "execute_result"
    }
   ],
   "source": [
    "sum(testOut==\"T\")"
   ]
  },
  {
   "cell_type": "code",
   "execution_count": null,
   "id": "8702298a",
   "metadata": {},
   "outputs": [],
   "source": []
  }
 ],
 "metadata": {
  "kernelspec": {
   "display_name": "Python 3 (ipykernel)",
   "language": "python",
   "name": "python3"
  },
  "language_info": {
   "codemirror_mode": {
    "name": "ipython",
    "version": 3
   },
   "file_extension": ".py",
   "mimetype": "text/x-python",
   "name": "python",
   "nbconvert_exporter": "python",
   "pygments_lexer": "ipython3",
   "version": "3.10.6"
  }
 },
 "nbformat": 4,
 "nbformat_minor": 5
}
