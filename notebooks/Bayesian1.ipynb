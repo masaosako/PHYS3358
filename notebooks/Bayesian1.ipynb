{
 "cells": [
  {
   "cell_type": "code",
   "execution_count": 1,
   "id": "94ba3789",
   "metadata": {},
   "outputs": [],
   "source": [
    "import numpy as np\n",
    "import matplotlib.pyplot as plt\n",
    "from scipy import stats"
   ]
  },
  {
   "cell_type": "markdown",
   "id": "e47c5ad3",
   "metadata": {},
   "source": [
    "# Bayesian estimate of $\\mu$ and $\\sigma$."
   ]
  },
  {
   "cell_type": "markdown",
   "id": "6f0d02af",
   "metadata": {},
   "source": [
    "Let's go through some of the calculations in Gregory's Chapter 9 through a specific example.  There are three cases for estimating $\\mu$ discussed in that chapter -- A) known noise $\\sigma$ same for all $e_i$ (Section 9.2.1), B) known noise $\\sigma_i$ unequal for all $e_i$ (Section 9.2.2), and C) unknown noise $\\sigma$ same for all $e_i$ (Section 9.2.3).  Also discussed is a Bayesian estimate of $\\sigma$ (Section 9.2.4) for Case C.\n",
    "\n",
    "Let's implement Cases A and C.  Try to implement Case B yourself at home."
   ]
  },
  {
   "cell_type": "code",
   "execution_count": 2,
   "id": "71d0535a",
   "metadata": {},
   "outputs": [
    {
     "name": "stdout",
     "output_type": "stream",
     "text": [
      "                Data  =  [ 4.5906  5.9579  3.9611  3.8885  8.9316  7.7868  5.1858  5.5635  6.5380\n",
      "  7.4929]\n",
      "            MLE mean  =   5.9897\n",
      "   MLE error on mean  =   0.6325\n",
      " minimum chi^2 value  =   6.4402\n"
     ]
    }
   ],
   "source": [
    "# set a seed so we always get same results\n",
    "np.random.seed(12345)\n",
    "\n",
    "mu  = 5.0   # parent population mean\n",
    "sig = 2.0   # parent population standard deviation\n",
    "\n",
    "n   = 10\n",
    "\n",
    "# sample from Gaussian; compute sample mean, variance, and chi^2\n",
    "d = np.random.normal(loc=mu, scale=sig, size=n)\n",
    "smu   = np.mean(d)\n",
    "sigmu = sig/np.sqrt(n)\n",
    "chi2min = np.sum(((d-smu)/sig)**2)\n",
    "\n",
    "# print summary\n",
    "np.set_printoptions(formatter={'float': '{: 0.4f}'.format})\n",
    "print(\"                Data  = \", d)\n",
    "print(\"            MLE mean  = %8.4f\" % smu)\n",
    "print(\"   MLE error on mean  = %8.4f\" % sigmu)\n",
    "print(\" minimum chi^2 value  = %8.4f\" % chi2min)"
   ]
  },
  {
   "cell_type": "code",
   "execution_count": 3,
   "id": "04afd495",
   "metadata": {},
   "outputs": [],
   "source": [
    "# upper and lower bounds for mu and sigma priors\n",
    "muL  = 0.0\n",
    "muH  = 10.0\n",
    "sigL = 0.1\n",
    "sigH = 6.0\n",
    "\n",
    "# generate grid of mu and sigma values that extend beyond\n",
    "# the non-zero prior ranges for plotting purposes\n",
    "# we will use them throughout this notebook\n",
    "mugrid  = np.linspace(0, 20, num=1001, endpoint=True)\n",
    "siggrid = np.linspace(0.1, 10, num=1001, endpoint=True)"
   ]
  },
  {
   "cell_type": "markdown",
   "id": "4fde37c3",
   "metadata": {},
   "source": [
    "## Active learning exercise\n",
    "\n",
    "1) define prior functions:\n",
    "\n",
    "   `def priorUniform(mu, mumin=muL, mumax=muH):\n",
    "      # your code goes here\n",
    "      return prior`\n",
    "      \n",
    "      \n",
    "   `def priorJeffreys(sig, sigmin=sigL, sigmax=sigH):\n",
    "      # your code goes here\n",
    "      return prior`\n",
    "      \n",
    "2) Plot priors."
   ]
  },
  {
   "cell_type": "code",
   "execution_count": 4,
   "id": "8d767050",
   "metadata": {},
   "outputs": [],
   "source": [
    "def priorUniform(mu, mumin=muL, mumax=muH):\n",
    "    # uniform prior\n",
    "    prior = np.zeros_like(mu)+1.0/(mumax-mumin)\n",
    "    # make sure to set prior outside range to zero\n",
    "    prior[mu<mumin] = prior[mu>mumax] = 0.0\n",
    "    return prior"
   ]
  },
  {
   "cell_type": "code",
   "execution_count": 5,
   "id": "982cf795",
   "metadata": {},
   "outputs": [],
   "source": [
    "def priorJeffreys(sig, sigmin=sigL, sigmax=sigH):\n",
    "    # Jeffreys prior\n",
    "    prior = 1.0/(sig*np.log(sigmax/sigmin))\n",
    "    # make sure to set prior outside range to zero\n",
    "    prior[sig<sigmin] = prior[sig>sigmax] = 0.0\n",
    "    return prior"
   ]
  },
  {
   "cell_type": "code",
   "execution_count": 6,
   "id": "b7b13621",
   "metadata": {},
   "outputs": [],
   "source": [
    "priormu = priorUniform(mugrid)\n",
    "priorsig = priorJeffreys(siggrid)"
   ]
  },
  {
   "cell_type": "code",
   "execution_count": 7,
   "id": "465d0976",
   "metadata": {},
   "outputs": [
    {
     "data": {
      "text/plain": [
       "<matplotlib.legend.Legend at 0x119347b80>"
      ]
     },
     "execution_count": 7,
     "metadata": {},
     "output_type": "execute_result"
    },
    {
     "data": {
      "image/png": "[encoded data removed]",
      "text/plain": [
       "<Figure size 640x480 with 1 Axes>"
      ]
     },
     "metadata": {},
     "output_type": "display_data"
    }
   ],
   "source": [
    "plt.plot(mugrid, priormu, label='$p(\\mu|I)$')\n",
    "plt.plot(siggrid, priorsig, label='$p(\\sigma|I)$')\n",
    "plt.xscale('log')\n",
    "plt.yscale('log')\n",
    "plt.xlim([0.05, 15])\n",
    "plt.xlabel('$\\mu$ or $\\sigma$')\n",
    "plt.legend()"
   ]
  },
  {
   "cell_type": "code",
   "execution_count": 8,
   "id": "54b7aa98",
   "metadata": {},
   "outputs": [
    {
     "name": "stdout",
     "output_type": "stream",
     "text": [
      "   prior(mu) integral =  1.001\n",
      "prior(sigma) integral =  1.0000140305235403\n"
     ]
    }
   ],
   "source": [
    "# check prior normalization\n",
    "print(\"   prior(mu) integral = \", np.trapz(priormu, mugrid))\n",
    "print(\"prior(sigma) integral = \", np.trapz(priorsig, siggrid))\n",
    "# If you want to be precise, you can divide the prior values\n",
    "# by these normalization factors.  But it will have only a\n",
    "# tiny effect."
   ]
  },
  {
   "cell_type": "markdown",
   "id": "de2efacf",
   "metadata": {},
   "source": [
    "## Case A : $e_i = \\sigma$, same for all $i$"
   ]
  },
  {
   "cell_type": "markdown",
   "id": "4c45b3b9",
   "metadata": {},
   "source": [
    "The posterior is given by, $$p(\\mu|D,I) = \\frac{e^{-Q/(2\\sigma^2)}}{\\int_{\\mu_L}^{\\mu_H} e^{-Q/(2\\sigma^2)}d\\mu} = \\frac{\\mathrm{NUM}}{\\mathrm{DEN}}$$ where $$Q = \\sum_{i=1}^n (d_i-\\mu)^2$$\n",
    "\n",
    "The simplified form is Equation (9.8), $$p(\\mu|D,I) = \\frac{\\mathrm{exp}\\left\\{-\\frac{(\\mu-\\bar{d})^2}{2\\sigma^2/N}\\right\\}}{\\int_{\\mu_L}^{\\mu_H}\\mathrm{exp}\\left\\{-\\frac{(\\mu-\\bar{d})^2}{2\\sigma^2/N}\\right\\}d\\mu} = \\frac{\\mathrm{NUM}}{\\mathrm{DEN}}$$ where $$\\bar{d} = \\frac{1}{N}\\sum_{i=1}^{N} d_i$$\n",
    "\n",
    "Let's implement both expressions; call them A1 and A2, respectively.  Keep in mind that NUM is zero outside the prior range."
   ]
  },
  {
   "cell_type": "markdown",
   "id": "260579bc",
   "metadata": {},
   "source": [
    "## Active learning exercise\n",
    "\n",
    "For A1:\n",
    "\n",
    "1) Compute NUM, DEN, and posteriorA1 on `mugrid`\n",
    "\n",
    "2) Plot posteriorA1 vs mugrid; label true $\\mu$"
   ]
  },
  {
   "cell_type": "code",
   "execution_count": 9,
   "id": "31d4a37b",
   "metadata": {},
   "outputs": [],
   "source": [
    "NUM = np.zeros_like(mugrid)\n",
    "\n",
    "# we are computing p(mu), so loop over mugrid values\n",
    "for i in range(len(mugrid)):\n",
    "    Q = np.sum((d - mugrid[i])**2)\n",
    "    NUM[i] = np.exp(-Q/(2*sig*sig))\n",
    "    \n",
    "# make sure you multiply this by the prior\n",
    "NUM = priormu*NUM\n",
    "\n",
    "DEN = np.trapz(NUM, mugrid)\n",
    "posteriorA1 = NUM/DEN"
   ]
  },
  {
   "cell_type": "code",
   "execution_count": 10,
   "id": "24d90d4d",
   "metadata": {},
   "outputs": [
    {
     "name": "stdout",
     "output_type": "stream",
     "text": [
      "1.0\n"
     ]
    }
   ],
   "source": [
    "# check normalization; this should come out to exactly 1.0\n",
    "print(np.trapz(posteriorA1, mugrid))"
   ]
  },
  {
   "cell_type": "code",
   "execution_count": 11,
   "id": "29b2ed35",
   "metadata": {},
   "outputs": [
    {
     "data": {
      "text/plain": [
       "Text(4.7, 0.5, 'true $\\\\mu=5$')"
      ]
     },
     "execution_count": 11,
     "metadata": {},
     "output_type": "execute_result"
    },
    {
     "data": {
      "image/png": "[encoded data removed]",
      "text/plain": [
       "<Figure size 640x480 with 1 Axes>"
      ]
     },
     "metadata": {},
     "output_type": "display_data"
    }
   ],
   "source": [
    "plt.plot(mugrid, posteriorA1)\n",
    "# you can overplot the following to see that the posterior\n",
    "# is a gaussian.\n",
    "#plt.plot(mugrid, stats.norm.pdf(mugrid, loc=smu, scale=sigmu))\n",
    "plt.xlim([2,10])\n",
    "plt.xlabel('$\\mu$')\n",
    "plt.ylabel('$p(\\mu|D,I)$')\n",
    "plt.axvline(x=mu, ls='--', c='#ff7f0e')\n",
    "plt.text(4.7, 0.5, 'true $\\mu=5$', rotation=90, c='#ff7f0e')"
   ]
  },
  {
   "cell_type": "markdown",
   "id": "8013c91a",
   "metadata": {},
   "source": [
    "This is the implementation of the second expression, which will of course yield the exact same results."
   ]
  },
  {
   "cell_type": "markdown",
   "id": "c7d70fb9",
   "metadata": {},
   "source": [
    "## Active learning exercise\n",
    "\n",
    "For A2:\n",
    "\n",
    "1) Compute NUM, DEN, and posteriorA2 on `mugrid`\n",
    "\n",
    "2) Plot posteriorA2 vs mugrid; overplot posteriorA1; label true $\\mu$"
   ]
  },
  {
   "cell_type": "code",
   "execution_count": 12,
   "id": "df99fc11",
   "metadata": {},
   "outputs": [],
   "source": [
    "dbar = d.mean() # = smu\n",
    "NUM = priormu*np.exp(-n*(mugrid-dbar)**2/(2*sig*sig))\n",
    "DEN = np.trapz(NUM, mugrid)\n",
    "posteriorA2 = NUM/DEN"
   ]
  },
  {
   "cell_type": "code",
   "execution_count": 13,
   "id": "443675a9",
   "metadata": {},
   "outputs": [
    {
     "name": "stdout",
     "output_type": "stream",
     "text": [
      "1.0\n"
     ]
    }
   ],
   "source": [
    "# check normalization\n",
    "print(np.trapz(posteriorA2, mugrid))"
   ]
  },
  {
   "cell_type": "code",
   "execution_count": 14,
   "id": "3f4bdc15",
   "metadata": {},
   "outputs": [
    {
     "data": {
      "text/plain": [
       "Text(4.7, 0.5, 'true $\\\\mu=5$')"
      ]
     },
     "execution_count": 14,
     "metadata": {},
     "output_type": "execute_result"
    },
    {
     "data": {
      "image/png": "[encoded data removed]",
      "text/plain": [
       "<Figure size 640x480 with 1 Axes>"
      ]
     },
     "metadata": {},
     "output_type": "display_data"
    }
   ],
   "source": [
    "plt.plot(mugrid, posteriorA2)\n",
    "plt.xlim([2,10])\n",
    "plt.xlabel('$\\mu$')\n",
    "plt.ylabel('$p(\\mu|D,I)$')\n",
    "plt.axvline(x=mu, ls='--', c='#ff7f0e')\n",
    "plt.text(4.7, 0.5, 'true $\\mu=5$', rotation=90, c='#ff7f0e')"
   ]
  },
  {
   "cell_type": "markdown",
   "id": "6136b8f3",
   "metadata": {},
   "source": [
    "## Case B : $e_i = \\sigma_i$, unequal for all $i$"
   ]
  },
  {
   "cell_type": "markdown",
   "id": "008aa42b",
   "metadata": {},
   "source": [
    "The posterior is given by, $$p(\\mu|D,I) = \\frac{e^{-Q^\\prime/2}}{\\int_{\\mu_L}^{\\mu_H} e^{-Q^\\prime/2} d\\mu}$$ where $$Q^\\prime = \\sum_{i=1}^{N} \\left(\\frac{d_i-\\mu}{\\sigma_i}\\right)^2$$\n",
    "\n",
    "The posterior, after simplification, is given by Equation (9.19), $$p(\\mu|D,I) = \\frac{\\mathrm{exp}\\left\\{-\\frac{(\\mu-\\bar{d_w})^2}{2\\sigma_w^2}\\right\\}}{\\int_{\\mu_L}^{\\mu_H}\\mathrm{exp}\\left\\{-\\frac{(\\mu-\\bar{d_w})^2}{2\\sigma_w^2}\\right\\}d\\mu} = \\frac{\\mathrm{NUM}}{\\mathrm{DEN}}$$ where $$\\bar{d_w} = \\frac{\\sum_{i=1}^{N} w_i d_i}{\\sum_{i=1}^{N} w_i}$$  $$\\sigma_w^2 = \\frac{1}{\\sum_{i=1}^N w_i}$$ and $$w_i = \\frac{1}{\\sigma_i^2}$$  SEE IF YOU CAN IMPLEMENT THIS YOURSELF!"
   ]
  },
  {
   "cell_type": "markdown",
   "id": "7841a310",
   "metadata": {},
   "source": [
    "## NEXT - Case C"
   ]
  },
  {
   "cell_type": "code",
   "execution_count": null,
   "id": "871c2e06",
   "metadata": {},
   "outputs": [],
   "source": []
  }
 ],
 "metadata": {
  "kernelspec": {
   "display_name": "Python 3 (ipykernel)",
   "language": "python",
   "name": "python3"
  },
  "language_info": {
   "codemirror_mode": {
    "name": "ipython",
    "version": 3
   },
   "file_extension": ".py",
   "mimetype": "text/x-python",
   "name": "python",
   "nbconvert_exporter": "python",
   "pygments_lexer": "ipython3",
   "version": "3.10.6"
  }
 },
 "nbformat": 4,
 "nbformat_minor": 5
}
