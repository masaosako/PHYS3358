{
 "cells": [
  {
   "cell_type": "code",
   "execution_count": 1,
   "id": "e48d5ef2",
   "metadata": {},
   "outputs": [],
   "source": [
    "import numpy as np\n",
    "import matplotlib.pyplot as plt\n",
    "from scipy import stats, special"
   ]
  },
  {
   "cell_type": "code",
   "execution_count": 2,
   "id": "da179287",
   "metadata": {},
   "outputs": [],
   "source": [
    "d = np.array([10, 12, 15, 11, 13])"
   ]
  },
  {
   "cell_type": "code",
   "execution_count": 3,
   "id": "72696799",
   "metadata": {},
   "outputs": [
    {
     "data": {
      "text/plain": [
       "61"
      ]
     },
     "execution_count": 3,
     "metadata": {},
     "output_type": "execute_result"
    }
   ],
   "source": [
    "d.sum()"
   ]
  },
  {
   "cell_type": "code",
   "execution_count": 4,
   "id": "afb17d45",
   "metadata": {},
   "outputs": [
    {
     "data": {
      "text/plain": [
       "12.2"
      ]
     },
     "execution_count": 4,
     "metadata": {},
     "output_type": "execute_result"
    }
   ],
   "source": [
    "d.mean()"
   ]
  },
  {
   "cell_type": "code",
   "execution_count": 5,
   "id": "138e8801",
   "metadata": {},
   "outputs": [
    {
     "data": {
      "text/plain": [
       "2.96"
      ]
     },
     "execution_count": 5,
     "metadata": {},
     "output_type": "execute_result"
    }
   ],
   "source": [
    "d.var()  # note var() uses n in the denominator"
   ]
  },
  {
   "cell_type": "code",
   "execution_count": 6,
   "id": "472146e6",
   "metadata": {},
   "outputs": [
    {
     "data": {
      "text/plain": [
       "3.7"
      ]
     },
     "execution_count": 6,
     "metadata": {},
     "output_type": "execute_result"
    }
   ],
   "source": [
    "d.var(ddof=1)  # this will use (n-ddof) in the denominator"
   ]
  },
  {
   "cell_type": "code",
   "execution_count": 7,
   "id": "65760232",
   "metadata": {},
   "outputs": [
    {
     "name": "stdout",
     "output_type": "stream",
     "text": [
      "p(chi^2 >= 7.4|nu=4) =  0.11620\n"
     ]
    }
   ],
   "source": [
    "# stats.chi2.cdf(x, nu) gives the CDF up to x, so 1 minus that gives you the integral above x\n",
    "print('p(chi^2 >= 7.4|nu=4) = %8.5f' % (1-stats.chi2.cdf(7.4, 4)))"
   ]
  },
  {
   "cell_type": "code",
   "execution_count": 8,
   "id": "92d8b803",
   "metadata": {},
   "outputs": [],
   "source": [
    "d2 = np.array([0, 12, 15, 11, 23])"
   ]
  },
  {
   "cell_type": "code",
   "execution_count": 9,
   "id": "28f3e4cd",
   "metadata": {},
   "outputs": [
    {
     "data": {
      "text/plain": [
       "12.2"
      ]
     },
     "execution_count": 9,
     "metadata": {},
     "output_type": "execute_result"
    }
   ],
   "source": [
    "d2.mean()"
   ]
  },
  {
   "cell_type": "code",
   "execution_count": 10,
   "id": "ecb0b4b8",
   "metadata": {},
   "outputs": [
    {
     "data": {
      "text/plain": [
       "137.39999999999998"
      ]
     },
     "execution_count": 10,
     "metadata": {},
     "output_type": "execute_result"
    }
   ],
   "source": [
    "d2.var(ddof=1)*2"
   ]
  },
  {
   "cell_type": "code",
   "execution_count": 11,
   "id": "5281f06f",
   "metadata": {},
   "outputs": [
    {
     "name": "stdout",
     "output_type": "stream",
     "text": [
      "p(chi^2 >= 137.4|nu=4) =  0.00000\n"
     ]
    }
   ],
   "source": [
    "print('p(chi^2 >= 137.4|nu=4) = %8.5f' % (1-stats.chi2.cdf(137.4, 4)))"
   ]
  },
  {
   "cell_type": "markdown",
   "id": "6dc6bcb0",
   "metadata": {},
   "source": [
    "Another example of Student's $t$ - difference between two distributions."
   ]
  },
  {
   "cell_type": "code",
   "execution_count": 13,
   "id": "17f02c56",
   "metadata": {},
   "outputs": [
    {
     "name": "stdout",
     "output_type": "stream",
     "text": [
      "5 5\n"
     ]
    }
   ],
   "source": [
    "x1 = np.array([10, 12, 15, 11, 13])\n",
    "x2 = np.array([16, 12, 10, 18, 13])\n",
    "n1 = len(x1)\n",
    "n2 = len(x2)\n",
    "print(n1, n2)"
   ]
  },
  {
   "cell_type": "code",
   "execution_count": 14,
   "id": "3cf84f28",
   "metadata": {},
   "outputs": [
    {
     "name": "stdout",
     "output_type": "stream",
     "text": [
      "12.2 13.8\n",
      "14.8 40.8\n"
     ]
    }
   ],
   "source": [
    "print(x1.mean(), x2.mean())\n",
    "x1bar = x1.mean()\n",
    "x2bar = x2.mean()\n",
    "s1 = x1.var(ddof=1)\n",
    "s2 = x2.var(ddof=1)\n",
    "print((n1-1)*x1.var(ddof=1), (n2-1)*x2.var(ddof=1))"
   ]
  },
  {
   "cell_type": "code",
   "execution_count": 20,
   "id": "5309cbd0",
   "metadata": {},
   "outputs": [
    {
     "name": "stdout",
     "output_type": "stream",
     "text": [
      "-1.6000000000000014 1.6673332000533068 -0.9596162302465082\n"
     ]
    }
   ],
   "source": [
    "num = x1.mean() - x2.mean()\n",
    "den = np.sqrt(1/n1+1/n2)*np.sqrt(((n1-1)*s1+(n2-1)*s2)/(n1+n2-2))\n",
    "print(num, den, num/den)"
   ]
  },
  {
   "cell_type": "code",
   "execution_count": 23,
   "id": "48b8883e",
   "metadata": {},
   "outputs": [
    {
     "data": {
      "text/plain": [
       "0.8173254911351265"
      ]
     },
     "execution_count": 23,
     "metadata": {},
     "output_type": "execute_result"
    }
   ],
   "source": [
    "t  = num/den\n",
    "nu = 8\n",
    "1-stats.t.cdf(t, nu)"
   ]
  },
  {
   "cell_type": "code",
   "execution_count": 24,
   "id": "f227cdfd",
   "metadata": {},
   "outputs": [
    {
     "data": {
      "text/plain": [
       "3.3299999999999996"
      ]
     },
     "execution_count": 24,
     "metadata": {},
     "output_type": "execute_result"
    }
   ],
   "source": [
    "16.65/5"
   ]
  },
  {
   "cell_type": "code",
   "execution_count": null,
   "id": "23e5f6d5",
   "metadata": {},
   "outputs": [],
   "source": []
  }
 ],
 "metadata": {
  "kernelspec": {
   "display_name": "Python 3 (ipykernel)",
   "language": "python",
   "name": "python3"
  },
  "language_info": {
   "codemirror_mode": {
    "name": "ipython",
    "version": 3
   },
   "file_extension": ".py",
   "mimetype": "text/x-python",
   "name": "python",
   "nbconvert_exporter": "python",
   "pygments_lexer": "ipython3",
   "version": "3.10.6"
  }
 },
 "nbformat": 4,
 "nbformat_minor": 5
}
