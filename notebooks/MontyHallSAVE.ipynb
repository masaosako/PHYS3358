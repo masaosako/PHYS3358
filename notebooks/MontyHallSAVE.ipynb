{
 "cells": [
  {
   "cell_type": "code",
   "execution_count": 1,
   "id": "a8bd8b10",
   "metadata": {},
   "outputs": [],
   "source": [
    "import numpy as np\n",
    "import matplotlib.pyplot as plt"
   ]
  },
  {
   "cell_type": "code",
   "execution_count": 28,
   "id": "bc9113af",
   "metadata": {},
   "outputs": [],
   "source": [
    "def doorWithCar(n=1):\n",
    "    door = np.random.randint(1, 4, n)\n",
    "    return door"
   ]
  },
  {
   "cell_type": "code",
   "execution_count": 29,
   "id": "e3abdc64",
   "metadata": {},
   "outputs": [],
   "source": [
    "def doorContestant(n=1):\n",
    "    door = np.random.randint(1, 4, n)\n",
    "    return door"
   ]
  },
  {
   "cell_type": "code",
   "execution_count": 40,
   "id": "3d12336b",
   "metadata": {},
   "outputs": [],
   "source": [
    "np.random.seed(12345)\n",
    "n = 100\n",
    "testcars = doorWithCar(n)\n",
    "testcont = doorContestant(n)"
   ]
  },
  {
   "cell_type": "code",
   "execution_count": 43,
   "id": "6d0afbb6",
   "metadata": {},
   "outputs": [],
   "source": [
    "stickWin = testcars == testcont"
   ]
  },
  {
   "cell_type": "code",
   "execution_count": 44,
   "id": "b576f9fa",
   "metadata": {},
   "outputs": [
    {
     "data": {
      "text/plain": [
       "34"
      ]
     },
     "execution_count": 44,
     "metadata": {},
     "output_type": "execute_result"
    }
   ],
   "source": [
    "stickWin\n",
    "np.count_nonzero(stickWin)"
   ]
  },
  {
   "cell_type": "code",
   "execution_count": 61,
   "id": "1a45cfc3",
   "metadata": {},
   "outputs": [],
   "source": [
    "def doorMonty(contestant, car):\n",
    "    n = len(contestant)\n",
    "    for i in np.arange(n):\n",
    "        if contestant[i] == car[i]:\n",
    "            print(i, contestant[i], car[i], 'won')\n",
    "        else:\n",
    "            print(i, contestant[i], car[i], 'na')\n",
    "    return"
   ]
  },
  {
   "cell_type": "code",
   "execution_count": 62,
   "id": "0416cd23",
   "metadata": {},
   "outputs": [
    {
     "name": "stdout",
     "output_type": "stream",
     "text": [
      "0 3 2 na\n",
      "1 2 1 na\n",
      "2 2 3 na\n",
      "3 2 2 won\n",
      "4 1 2 na\n",
      "5 2 1 na\n",
      "6 3 2 na\n",
      "7 3 3 won\n",
      "8 2 2 won\n",
      "9 3 3 won\n",
      "10 2 2 won\n",
      "11 2 2 won\n",
      "12 3 1 na\n",
      "13 2 2 won\n",
      "14 3 1 na\n",
      "15 2 1 na\n",
      "16 3 3 won\n",
      "17 1 3 na\n",
      "18 3 1 na\n",
      "19 2 1 na\n",
      "20 2 3 na\n",
      "21 3 1 na\n",
      "22 2 3 na\n",
      "23 3 2 na\n",
      "24 3 3 won\n",
      "25 2 1 na\n",
      "26 1 1 won\n",
      "27 2 3 na\n",
      "28 2 3 na\n",
      "29 1 1 won\n",
      "30 1 2 na\n",
      "31 1 2 na\n",
      "32 1 1 won\n",
      "33 2 2 won\n",
      "34 3 2 na\n",
      "35 2 1 na\n",
      "36 2 2 won\n",
      "37 3 2 na\n",
      "38 2 3 na\n",
      "39 1 3 na\n",
      "40 2 1 na\n",
      "41 3 1 na\n",
      "42 1 2 na\n",
      "43 2 2 won\n",
      "44 1 1 won\n",
      "45 3 2 na\n",
      "46 1 2 na\n",
      "47 3 3 won\n",
      "48 1 2 na\n",
      "49 1 2 na\n",
      "50 2 3 na\n",
      "51 3 3 won\n",
      "52 1 1 won\n",
      "53 3 3 won\n",
      "54 1 1 won\n",
      "55 1 2 na\n",
      "56 3 1 na\n",
      "57 2 1 na\n",
      "58 3 2 na\n",
      "59 3 1 na\n",
      "60 3 2 na\n",
      "61 2 1 na\n",
      "62 3 2 na\n",
      "63 3 1 na\n",
      "64 2 3 na\n",
      "65 2 3 na\n",
      "66 1 3 na\n",
      "67 3 3 won\n",
      "68 1 1 won\n",
      "69 2 2 won\n",
      "70 3 2 na\n",
      "71 3 1 na\n",
      "72 3 1 na\n",
      "73 1 3 na\n",
      "74 1 2 na\n",
      "75 3 2 na\n",
      "76 3 3 won\n",
      "77 2 2 won\n",
      "78 1 2 na\n",
      "79 1 1 won\n",
      "80 2 3 na\n",
      "81 1 1 won\n",
      "82 3 3 won\n",
      "83 3 1 na\n",
      "84 2 3 na\n",
      "85 2 1 na\n",
      "86 1 3 na\n",
      "87 2 2 won\n",
      "88 1 2 na\n",
      "89 3 2 na\n",
      "90 2 2 won\n",
      "91 3 1 na\n",
      "92 1 1 won\n",
      "93 2 3 na\n",
      "94 2 3 na\n",
      "95 2 3 na\n",
      "96 3 3 won\n",
      "97 1 2 na\n",
      "98 1 2 na\n",
      "99 3 3 won\n"
     ]
    }
   ],
   "source": [
    "doorMonty(testcars, testcont)"
   ]
  },
  {
   "cell_type": "code",
   "execution_count": 32,
   "id": "d848559a",
   "metadata": {},
   "outputs": [
    {
     "data": {
      "image/png": "[encoded data removed]",
      "text/plain": [
       "<Figure size 640x480 with 1 Axes>"
      ]
     },
     "metadata": {},
     "output_type": "display_data"
    }
   ],
   "source": [
    "doorbins = np.arange(0.5,4.5,1.0)\n",
    "a,b,c=plt.hist(testcars, bins=doorbins, width=0.5)\n",
    "a,b,c=plt.hist(testcont, bins=doorbins, width=0.3)"
   ]
  },
  {
   "cell_type": "code",
   "execution_count": 75,
   "id": "16a94685",
   "metadata": {},
   "outputs": [],
   "source": [
    "data = np.genfromtxt('MontyHallData - Sheet1.csv', delimiter=',', skip_header=1, dtype=str)"
   ]
  },
  {
   "cell_type": "code",
   "execution_count": 76,
   "id": "eeb528eb",
   "metadata": {},
   "outputs": [
    {
     "data": {
      "text/plain": [
       "array([['0', '0', 'C', ..., 'A', 'L', 'W'],\n",
       "       ['0', '1', 'B', ..., 'C', 'L', 'W'],\n",
       "       ['0', '2', 'B', ..., 'A', 'L', 'W'],\n",
       "       ...,\n",
       "       ['25', '7', '', ..., '', '', ''],\n",
       "       ['25', '8', '', ..., '', '', ''],\n",
       "       ['25', '9', '', ..., '', '', '']], dtype='<U2')"
      ]
     },
     "execution_count": 76,
     "metadata": {},
     "output_type": "execute_result"
    }
   ],
   "source": [
    "data"
   ]
  },
  {
   "cell_type": "code",
   "execution_count": 83,
   "id": "bb1dc703",
   "metadata": {},
   "outputs": [],
   "source": [
    "stick  = data[:,5]\n",
    "switch = data[:,6]"
   ]
  },
  {
   "cell_type": "code",
   "execution_count": 95,
   "id": "003ae8bf",
   "metadata": {},
   "outputs": [],
   "source": [
    "istick = np.zeros_like(stick, dtype=int)\n",
    "istick[stick=='']=-1\n",
    "istick[stick=='W']=1\n",
    "istick[stick=='L']=0"
   ]
  },
  {
   "cell_type": "code",
   "execution_count": 96,
   "id": "a45160eb",
   "metadata": {},
   "outputs": [
    {
     "data": {
      "text/plain": [
       "array([ 0,  0,  0,  1,  0,  0,  0,  1,  1,  1, -1, -1, -1, -1, -1, -1, -1,\n",
       "       -1, -1, -1, -1, -1, -1, -1, -1, -1, -1, -1, -1, -1, -1, -1, -1, -1,\n",
       "       -1, -1, -1, -1, -1, -1, -1, -1, -1, -1, -1, -1, -1, -1, -1, -1, -1,\n",
       "       -1, -1, -1, -1, -1, -1, -1, -1, -1, -1, -1, -1, -1, -1, -1, -1, -1,\n",
       "       -1, -1, -1, -1, -1, -1, -1, -1, -1, -1, -1, -1, -1, -1, -1, -1, -1,\n",
       "       -1, -1, -1, -1, -1, -1, -1, -1, -1, -1, -1, -1, -1, -1, -1, -1, -1,\n",
       "       -1, -1, -1, -1, -1, -1, -1, -1, -1, -1, -1, -1, -1, -1, -1, -1, -1,\n",
       "       -1, -1, -1, -1, -1, -1, -1, -1, -1, -1, -1, -1, -1, -1, -1, -1, -1,\n",
       "       -1, -1, -1, -1, -1, -1, -1, -1, -1, -1, -1, -1, -1, -1, -1, -1, -1,\n",
       "       -1, -1, -1, -1, -1, -1, -1, -1, -1, -1, -1, -1, -1, -1, -1, -1, -1,\n",
       "       -1, -1, -1, -1, -1, -1, -1, -1, -1, -1, -1, -1, -1, -1, -1, -1, -1,\n",
       "       -1, -1, -1, -1, -1, -1, -1, -1, -1, -1, -1, -1, -1, -1, -1, -1, -1,\n",
       "       -1, -1, -1, -1, -1, -1, -1, -1, -1, -1, -1, -1, -1, -1, -1, -1, -1,\n",
       "       -1, -1, -1, -1, -1, -1, -1, -1, -1, -1, -1, -1, -1, -1, -1, -1, -1,\n",
       "       -1, -1, -1, -1, -1, -1, -1, -1, -1, -1, -1, -1, -1, -1, -1, -1, -1,\n",
       "       -1, -1, -1, -1, -1])"
      ]
     },
     "execution_count": 96,
     "metadata": {},
     "output_type": "execute_result"
    }
   ],
   "source": [
    "istick"
   ]
  },
  {
   "cell_type": "code",
   "execution_count": 97,
   "id": "c84411b0",
   "metadata": {},
   "outputs": [],
   "source": [
    "iswitch = np.zeros_like(switch, dtype=int)\n",
    "iswitch[switch=='']=-1\n",
    "iswitch[switch=='W']=1\n",
    "iswitch[switch=='L']=0"
   ]
  },
  {
   "cell_type": "code",
   "execution_count": 98,
   "id": "5c989deb",
   "metadata": {},
   "outputs": [
    {
     "data": {
      "text/plain": [
       "array([ 1,  1,  1,  0,  1,  1,  1,  0,  0,  0, -1, -1, -1, -1, -1, -1, -1,\n",
       "       -1, -1, -1, -1, -1, -1, -1, -1, -1, -1, -1, -1, -1, -1, -1, -1, -1,\n",
       "       -1, -1, -1, -1, -1, -1, -1, -1, -1, -1, -1, -1, -1, -1, -1, -1, -1,\n",
       "       -1, -1, -1, -1, -1, -1, -1, -1, -1, -1, -1, -1, -1, -1, -1, -1, -1,\n",
       "       -1, -1, -1, -1, -1, -1, -1, -1, -1, -1, -1, -1, -1, -1, -1, -1, -1,\n",
       "       -1, -1, -1, -1, -1, -1, -1, -1, -1, -1, -1, -1, -1, -1, -1, -1, -1,\n",
       "       -1, -1, -1, -1, -1, -1, -1, -1, -1, -1, -1, -1, -1, -1, -1, -1, -1,\n",
       "       -1, -1, -1, -1, -1, -1, -1, -1, -1, -1, -1, -1, -1, -1, -1, -1, -1,\n",
       "       -1, -1, -1, -1, -1, -1, -1, -1, -1, -1, -1, -1, -1, -1, -1, -1, -1,\n",
       "       -1, -1, -1, -1, -1, -1, -1, -1, -1, -1, -1, -1, -1, -1, -1, -1, -1,\n",
       "       -1, -1, -1, -1, -1, -1, -1, -1, -1, -1, -1, -1, -1, -1, -1, -1, -1,\n",
       "       -1, -1, -1, -1, -1, -1, -1, -1, -1, -1, -1, -1, -1, -1, -1, -1, -1,\n",
       "       -1, -1, -1, -1, -1, -1, -1, -1, -1, -1, -1, -1, -1, -1, -1, -1, -1,\n",
       "       -1, -1, -1, -1, -1, -1, -1, -1, -1, -1, -1, -1, -1, -1, -1, -1, -1,\n",
       "       -1, -1, -1, -1, -1, -1, -1, -1, -1, -1, -1, -1, -1, -1, -1, -1, -1,\n",
       "       -1, -1, -1, -1, -1])"
      ]
     },
     "execution_count": 98,
     "metadata": {},
     "output_type": "execute_result"
    }
   ],
   "source": [
    "iswitch"
   ]
  },
  {
   "cell_type": "code",
   "execution_count": 103,
   "id": "8d92cfa3",
   "metadata": {},
   "outputs": [],
   "source": [
    "count = np.arange(1,len(iswitch)+1)"
   ]
  },
  {
   "cell_type": "code",
   "execution_count": 104,
   "id": "845a718c",
   "metadata": {},
   "outputs": [
    {
     "data": {
      "text/plain": [
       "array([  1,   2,   3,   4,   5,   6,   7,   8,   9,  10,  11,  12,  13,\n",
       "        14,  15,  16,  17,  18,  19,  20,  21,  22,  23,  24,  25,  26,\n",
       "        27,  28,  29,  30,  31,  32,  33,  34,  35,  36,  37,  38,  39,\n",
       "        40,  41,  42,  43,  44,  45,  46,  47,  48,  49,  50,  51,  52,\n",
       "        53,  54,  55,  56,  57,  58,  59,  60,  61,  62,  63,  64,  65,\n",
       "        66,  67,  68,  69,  70,  71,  72,  73,  74,  75,  76,  77,  78,\n",
       "        79,  80,  81,  82,  83,  84,  85,  86,  87,  88,  89,  90,  91,\n",
       "        92,  93,  94,  95,  96,  97,  98,  99, 100, 101, 102, 103, 104,\n",
       "       105, 106, 107, 108, 109, 110, 111, 112, 113, 114, 115, 116, 117,\n",
       "       118, 119, 120, 121, 122, 123, 124, 125, 126, 127, 128, 129, 130,\n",
       "       131, 132, 133, 134, 135, 136, 137, 138, 139, 140, 141, 142, 143,\n",
       "       144, 145, 146, 147, 148, 149, 150, 151, 152, 153, 154, 155, 156,\n",
       "       157, 158, 159, 160, 161, 162, 163, 164, 165, 166, 167, 168, 169,\n",
       "       170, 171, 172, 173, 174, 175, 176, 177, 178, 179, 180, 181, 182,\n",
       "       183, 184, 185, 186, 187, 188, 189, 190, 191, 192, 193, 194, 195,\n",
       "       196, 197, 198, 199, 200, 201, 202, 203, 204, 205, 206, 207, 208,\n",
       "       209, 210, 211, 212, 213, 214, 215, 216, 217, 218, 219, 220, 221,\n",
       "       222, 223, 224, 225, 226, 227, 228, 229, 230, 231, 232, 233, 234,\n",
       "       235, 236, 237, 238, 239, 240, 241, 242, 243, 244, 245, 246, 247,\n",
       "       248, 249, 250, 251, 252, 253, 254, 255, 256, 257, 258, 259, 260])"
      ]
     },
     "execution_count": 104,
     "metadata": {},
     "output_type": "execute_result"
    }
   ],
   "source": [
    "count"
   ]
  },
  {
   "cell_type": "code",
   "execution_count": 106,
   "id": "7dec9db2",
   "metadata": {},
   "outputs": [
    {
     "name": "stdout",
     "output_type": "stream",
     "text": [
      "260 260\n"
     ]
    }
   ],
   "source": [
    "print(len(count), len(iswitch))"
   ]
  },
  {
   "cell_type": "code",
   "execution_count": 109,
   "id": "4a7a9127",
   "metadata": {},
   "outputs": [
    {
     "data": {
      "text/plain": [
       "[<matplotlib.lines.Line2D at 0x1159afd90>]"
      ]
     },
     "execution_count": 109,
     "metadata": {},
     "output_type": "execute_result"
    },
    {
     "data": {
      "image/png": "[encoded data removed]",
      "text/plain": [
       "<Figure size 640x480 with 1 Axes>"
      ]
     },
     "metadata": {},
     "output_type": "display_data"
    }
   ],
   "source": [
    "test = iswitch.cumsum()/count\n",
    "plt.plot(count,test)"
   ]
  },
  {
   "cell_type": "code",
   "execution_count": null,
   "id": "7160c44a",
   "metadata": {},
   "outputs": [],
   "source": []
  }
 ],
 "metadata": {
  "kernelspec": {
   "display_name": "Python 3 (ipykernel)",
   "language": "python",
   "name": "python3"
  },
  "language_info": {
   "codemirror_mode": {
    "name": "ipython",
    "version": 3
   },
   "file_extension": ".py",
   "mimetype": "text/x-python",
   "name": "python",
   "nbconvert_exporter": "python",
   "pygments_lexer": "ipython3",
   "version": "3.10.6"
  }
 },
 "nbformat": 4,
 "nbformat_minor": 5
}
